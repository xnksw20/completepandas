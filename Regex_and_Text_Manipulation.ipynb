{
  "nbformat": 4,
  "nbformat_minor": 0,
  "metadata": {
    "colab": {
      "name": "Regex and Text Manipulation.ipynb",
      "provenance": [],
      "collapsed_sections": []
    },
    "kernelspec": {
      "name": "python3",
      "display_name": "Python 3"
    },
    "language_info": {
      "name": "python"
    }
  },
  "cells": [
    {
      "cell_type": "code",
      "metadata": {
        "id": "-tEiQlRhyGcI"
      },
      "source": [
        "import pandas as pd\n",
        "import numpy as np"
      ],
      "execution_count": null,
      "outputs": []
    },
    {
      "cell_type": "markdown",
      "metadata": {
        "id": "U3XEEoU4zWIV"
      },
      "source": [
        "### Our Data: Boston Marathon Runners"
      ]
    },
    {
      "cell_type": "code",
      "metadata": {
        "id": "TqCqMUovyWfr"
      },
      "source": [
        "boston_url = 'https://andybek.com/pandas-marathon'"
      ],
      "execution_count": null,
      "outputs": []
    },
    {
      "cell_type": "code",
      "metadata": {
        "id": "DeKv9zX6zg8M"
      },
      "source": [
        "boston = pd.read_csv(boston_url)"
      ],
      "execution_count": null,
      "outputs": []
    },
    {
      "cell_type": "code",
      "metadata": {
        "colab": {
          "base_uri": "https://localhost:8080/",
          "height": 204
        },
        "id": "cRokZ9UjzjyY",
        "outputId": "be5d13e4-0c77-4cd9-8883-9707211a6e01"
      },
      "source": [
        "boston.head()"
      ],
      "execution_count": null,
      "outputs": [
        {
          "output_type": "execute_result",
          "data": {
            "text/html": [
              "<div>\n",
              "<style scoped>\n",
              "    .dataframe tbody tr th:only-of-type {\n",
              "        vertical-align: middle;\n",
              "    }\n",
              "\n",
              "    .dataframe tbody tr th {\n",
              "        vertical-align: top;\n",
              "    }\n",
              "\n",
              "    .dataframe thead th {\n",
              "        text-align: right;\n",
              "    }\n",
              "</style>\n",
              "<table border=\"1\" class=\"dataframe\">\n",
              "  <thead>\n",
              "    <tr style=\"text-align: right;\">\n",
              "      <th></th>\n",
              "      <th>Name</th>\n",
              "      <th>Age</th>\n",
              "      <th>M/F</th>\n",
              "      <th>City</th>\n",
              "      <th>State</th>\n",
              "      <th>Country</th>\n",
              "      <th>Official Time</th>\n",
              "      <th>Overall</th>\n",
              "      <th>Gender</th>\n",
              "      <th>Years Ran</th>\n",
              "    </tr>\n",
              "  </thead>\n",
              "  <tbody>\n",
              "    <tr>\n",
              "      <th>0</th>\n",
              "      <td>Kirui, Geoffrey</td>\n",
              "      <td>24</td>\n",
              "      <td>M</td>\n",
              "      <td>Keringet</td>\n",
              "      <td>NaN</td>\n",
              "      <td>KEN</td>\n",
              "      <td>2:09:37</td>\n",
              "      <td>1</td>\n",
              "      <td>1</td>\n",
              "      <td>NaN</td>\n",
              "    </tr>\n",
              "    <tr>\n",
              "      <th>1</th>\n",
              "      <td>Rupp, Galen</td>\n",
              "      <td>30</td>\n",
              "      <td>M</td>\n",
              "      <td>Portland</td>\n",
              "      <td>OR</td>\n",
              "      <td>USA</td>\n",
              "      <td>2:09:58</td>\n",
              "      <td>2</td>\n",
              "      <td>2</td>\n",
              "      <td>NaN</td>\n",
              "    </tr>\n",
              "    <tr>\n",
              "      <th>2</th>\n",
              "      <td>Osako, Suguru</td>\n",
              "      <td>25</td>\n",
              "      <td>M</td>\n",
              "      <td>Machida-City</td>\n",
              "      <td>NaN</td>\n",
              "      <td>JPN</td>\n",
              "      <td>2:10:28</td>\n",
              "      <td>3</td>\n",
              "      <td>3</td>\n",
              "      <td>NaN</td>\n",
              "    </tr>\n",
              "    <tr>\n",
              "      <th>3</th>\n",
              "      <td>Biwott, Shadrack</td>\n",
              "      <td>32</td>\n",
              "      <td>M</td>\n",
              "      <td>Mammoth Lakes</td>\n",
              "      <td>CA</td>\n",
              "      <td>USA</td>\n",
              "      <td>2:12:08</td>\n",
              "      <td>4</td>\n",
              "      <td>4</td>\n",
              "      <td>NaN</td>\n",
              "    </tr>\n",
              "    <tr>\n",
              "      <th>4</th>\n",
              "      <td>Chebet, Wilson</td>\n",
              "      <td>31</td>\n",
              "      <td>M</td>\n",
              "      <td>Marakwet</td>\n",
              "      <td>NaN</td>\n",
              "      <td>KEN</td>\n",
              "      <td>2:12:35</td>\n",
              "      <td>5</td>\n",
              "      <td>5</td>\n",
              "      <td>2015</td>\n",
              "    </tr>\n",
              "  </tbody>\n",
              "</table>\n",
              "</div>"
            ],
            "text/plain": [
              "                Name  Age M/F  ... Overall Gender Years Ran\n",
              "0   Kirui, Geoffrey    24   M  ...       1      1       NaN\n",
              "1     Rupp, Galen      30   M  ...       2      2       NaN\n",
              "2    Osako, Suguru     25   M  ...       3      3       NaN\n",
              "3   Biwott, Shadrack   32   M  ...       4      4       NaN\n",
              "4     Chebet, Wilson   31   M  ...       5      5      2015\n",
              "\n",
              "[5 rows x 10 columns]"
            ]
          },
          "metadata": {},
          "execution_count": 4
        }
      ]
    },
    {
      "cell_type": "code",
      "metadata": {
        "colab": {
          "base_uri": "https://localhost:8080/"
        },
        "id": "4edqMaZhzk1e",
        "outputId": "87f5eafd-ad26-44c3-d228-a25107d58fd4"
      },
      "source": [
        "boston.info()"
      ],
      "execution_count": null,
      "outputs": [
        {
          "output_type": "stream",
          "name": "stdout",
          "text": [
            "<class 'pandas.core.frame.DataFrame'>\n",
            "RangeIndex: 1000 entries, 0 to 999\n",
            "Data columns (total 10 columns):\n",
            " #   Column         Non-Null Count  Dtype \n",
            "---  ------         --------------  ----- \n",
            " 0   Name           1000 non-null   object\n",
            " 1   Age            1000 non-null   int64 \n",
            " 2   M/F            1000 non-null   object\n",
            " 3   City           1000 non-null   object\n",
            " 4   State          807 non-null    object\n",
            " 5   Country        1000 non-null   object\n",
            " 6   Official Time  1000 non-null   object\n",
            " 7   Overall        1000 non-null   int64 \n",
            " 8   Gender         1000 non-null   int64 \n",
            " 9   Years Ran      315 non-null    object\n",
            "dtypes: int64(3), object(7)\n",
            "memory usage: 78.2+ KB\n"
          ]
        }
      ]
    },
    {
      "cell_type": "markdown",
      "metadata": {
        "id": "uncUiA3zzxCL"
      },
      "source": [
        "### String Methods in Python"
      ]
    },
    {
      "cell_type": "code",
      "metadata": {
        "id": "FuAuhQroznrM"
      },
      "source": [
        "# Agenda :\n",
        "# - len\n",
        "# - center\n",
        "# - startswith , endswith\n",
        "# - the 'in' operator\n",
        "# - list comprehension\n"
      ],
      "execution_count": null,
      "outputs": []
    },
    {
      "cell_type": "code",
      "metadata": {
        "id": "zmgarp-e0dKt"
      },
      "source": [
        "s = 'Welcome to the text manipulation section'"
      ],
      "execution_count": null,
      "outputs": []
    },
    {
      "cell_type": "code",
      "metadata": {
        "colab": {
          "base_uri": "https://localhost:8080/"
        },
        "id": "cS4UO4zy0g0_",
        "outputId": "565c4c8e-4090-461d-fec4-283053c60545"
      },
      "source": [
        "len(s)"
      ],
      "execution_count": null,
      "outputs": [
        {
          "output_type": "execute_result",
          "data": {
            "text/plain": [
              "40"
            ]
          },
          "metadata": {},
          "execution_count": 8
        }
      ]
    },
    {
      "cell_type": "code",
      "metadata": {
        "colab": {
          "base_uri": "https://localhost:8080/",
          "height": 35
        },
        "id": "B3KAA18v0hhF",
        "outputId": "e6bd247f-de6a-48ec-d3e3-7fef2c8cb7b2"
      },
      "source": [
        "s.center(100,'*')"
      ],
      "execution_count": null,
      "outputs": [
        {
          "output_type": "execute_result",
          "data": {
            "application/vnd.google.colaboratory.intrinsic+json": {
              "type": "string"
            },
            "text/plain": [
              "'******************************Welcome to the text manipulation section******************************'"
            ]
          },
          "metadata": {},
          "execution_count": 9
        }
      ]
    },
    {
      "cell_type": "code",
      "metadata": {
        "colab": {
          "base_uri": "https://localhost:8080/",
          "height": 35
        },
        "id": "VXrR9ePr07d1",
        "outputId": "c74e283e-ab30-4a23-f03f-6f133c071932"
      },
      "source": [
        "s.center(30,'*')"
      ],
      "execution_count": null,
      "outputs": [
        {
          "output_type": "execute_result",
          "data": {
            "application/vnd.google.colaboratory.intrinsic+json": {
              "type": "string"
            },
            "text/plain": [
              "'Welcome to the text manipulation section'"
            ]
          },
          "metadata": {},
          "execution_count": 10
        }
      ]
    },
    {
      "cell_type": "code",
      "metadata": {
        "colab": {
          "base_uri": "https://localhost:8080/"
        },
        "id": "Ytvuro9h09py",
        "outputId": "a0bad692-740f-4228-9da3-09e391393a6b"
      },
      "source": [
        "s.endswith('tion')"
      ],
      "execution_count": null,
      "outputs": [
        {
          "output_type": "execute_result",
          "data": {
            "text/plain": [
              "True"
            ]
          },
          "metadata": {},
          "execution_count": 11
        }
      ]
    },
    {
      "cell_type": "code",
      "metadata": {
        "colab": {
          "base_uri": "https://localhost:8080/"
        },
        "id": "twYJ2vRM1DEV",
        "outputId": "0743fc8e-8d1f-4977-b38a-2f9a36bed666"
      },
      "source": [
        "s.startswith('W')"
      ],
      "execution_count": null,
      "outputs": [
        {
          "output_type": "execute_result",
          "data": {
            "text/plain": [
              "True"
            ]
          },
          "metadata": {},
          "execution_count": 12
        }
      ]
    },
    {
      "cell_type": "code",
      "metadata": {
        "colab": {
          "base_uri": "https://localhost:8080/"
        },
        "id": "fckhmKcU1Eh5",
        "outputId": "a2ed83ba-4c8d-41f1-d379-3aee557df392"
      },
      "source": [
        "s.startswith('w')"
      ],
      "execution_count": null,
      "outputs": [
        {
          "output_type": "execute_result",
          "data": {
            "text/plain": [
              "False"
            ]
          },
          "metadata": {},
          "execution_count": 13
        }
      ]
    },
    {
      "cell_type": "code",
      "metadata": {
        "colab": {
          "base_uri": "https://localhost:8080/"
        },
        "id": "-fwRrSXo1GAV",
        "outputId": "0027737b-1fed-4143-e319-594006d97293"
      },
      "source": [
        "'text' in s"
      ],
      "execution_count": null,
      "outputs": [
        {
          "output_type": "execute_result",
          "data": {
            "text/plain": [
              "True"
            ]
          },
          "metadata": {},
          "execution_count": 14
        }
      ]
    },
    {
      "cell_type": "code",
      "metadata": {
        "colab": {
          "base_uri": "https://localhost:8080/"
        },
        "id": "jUSgBpFp1b3-",
        "outputId": "047b0f74-d6d2-46db-f704-00954f6ae3fd"
      },
      "source": [
        "'texted' in s"
      ],
      "execution_count": null,
      "outputs": [
        {
          "output_type": "execute_result",
          "data": {
            "text/plain": [
              "False"
            ]
          },
          "metadata": {},
          "execution_count": 15
        }
      ]
    },
    {
      "cell_type": "code",
      "metadata": {
        "id": "AiG_eKvv1dMl"
      },
      "source": [
        "names = ['Palakorn','Wipawee','Saroj','Vanessa','Kanassawan']"
      ],
      "execution_count": null,
      "outputs": []
    },
    {
      "cell_type": "code",
      "metadata": {
        "colab": {
          "base_uri": "https://localhost:8080/"
        },
        "id": "8MnPwdL721e0",
        "outputId": "555a3847-d39f-4eb7-9959-d97733924c7c"
      },
      "source": [
        "[ len(name) for name in names]"
      ],
      "execution_count": null,
      "outputs": [
        {
          "output_type": "execute_result",
          "data": {
            "text/plain": [
              "[8, 7, 5, 7, 10]"
            ]
          },
          "metadata": {},
          "execution_count": 17
        }
      ]
    },
    {
      "cell_type": "code",
      "metadata": {
        "colab": {
          "base_uri": "https://localhost:8080/"
        },
        "id": "XswWJIj623wT",
        "outputId": "643fe994-2d55-4897-def3-d75195e54f2f"
      },
      "source": [
        "[ name.startswith('W') for name in names]"
      ],
      "execution_count": null,
      "outputs": [
        {
          "output_type": "execute_result",
          "data": {
            "text/plain": [
              "[False, True, False, False, False]"
            ]
          },
          "metadata": {},
          "execution_count": 18
        }
      ]
    },
    {
      "cell_type": "markdown",
      "metadata": {
        "id": "K216B1d-3FzC"
      },
      "source": [
        "### Vectorized String Operation in Pandas"
      ]
    },
    {
      "cell_type": "code",
      "metadata": {
        "colab": {
          "base_uri": "https://localhost:8080/",
          "height": 204
        },
        "id": "bLNX2bkW29fo",
        "outputId": "2d0fd8d5-b9bf-47b2-a8c9-ca38cbc7c035"
      },
      "source": [
        "boston.head()"
      ],
      "execution_count": null,
      "outputs": [
        {
          "output_type": "execute_result",
          "data": {
            "text/html": [
              "<div>\n",
              "<style scoped>\n",
              "    .dataframe tbody tr th:only-of-type {\n",
              "        vertical-align: middle;\n",
              "    }\n",
              "\n",
              "    .dataframe tbody tr th {\n",
              "        vertical-align: top;\n",
              "    }\n",
              "\n",
              "    .dataframe thead th {\n",
              "        text-align: right;\n",
              "    }\n",
              "</style>\n",
              "<table border=\"1\" class=\"dataframe\">\n",
              "  <thead>\n",
              "    <tr style=\"text-align: right;\">\n",
              "      <th></th>\n",
              "      <th>Name</th>\n",
              "      <th>Age</th>\n",
              "      <th>M/F</th>\n",
              "      <th>City</th>\n",
              "      <th>State</th>\n",
              "      <th>Country</th>\n",
              "      <th>Official Time</th>\n",
              "      <th>Overall</th>\n",
              "      <th>Gender</th>\n",
              "      <th>Years Ran</th>\n",
              "    </tr>\n",
              "  </thead>\n",
              "  <tbody>\n",
              "    <tr>\n",
              "      <th>0</th>\n",
              "      <td>Kirui, Geoffrey</td>\n",
              "      <td>24</td>\n",
              "      <td>M</td>\n",
              "      <td>Keringet</td>\n",
              "      <td>NaN</td>\n",
              "      <td>KEN</td>\n",
              "      <td>2:09:37</td>\n",
              "      <td>1</td>\n",
              "      <td>1</td>\n",
              "      <td>NaN</td>\n",
              "    </tr>\n",
              "    <tr>\n",
              "      <th>1</th>\n",
              "      <td>Rupp, Galen</td>\n",
              "      <td>30</td>\n",
              "      <td>M</td>\n",
              "      <td>Portland</td>\n",
              "      <td>OR</td>\n",
              "      <td>USA</td>\n",
              "      <td>2:09:58</td>\n",
              "      <td>2</td>\n",
              "      <td>2</td>\n",
              "      <td>NaN</td>\n",
              "    </tr>\n",
              "    <tr>\n",
              "      <th>2</th>\n",
              "      <td>Osako, Suguru</td>\n",
              "      <td>25</td>\n",
              "      <td>M</td>\n",
              "      <td>Machida-City</td>\n",
              "      <td>NaN</td>\n",
              "      <td>JPN</td>\n",
              "      <td>2:10:28</td>\n",
              "      <td>3</td>\n",
              "      <td>3</td>\n",
              "      <td>NaN</td>\n",
              "    </tr>\n",
              "    <tr>\n",
              "      <th>3</th>\n",
              "      <td>Biwott, Shadrack</td>\n",
              "      <td>32</td>\n",
              "      <td>M</td>\n",
              "      <td>Mammoth Lakes</td>\n",
              "      <td>CA</td>\n",
              "      <td>USA</td>\n",
              "      <td>2:12:08</td>\n",
              "      <td>4</td>\n",
              "      <td>4</td>\n",
              "      <td>NaN</td>\n",
              "    </tr>\n",
              "    <tr>\n",
              "      <th>4</th>\n",
              "      <td>Chebet, Wilson</td>\n",
              "      <td>31</td>\n",
              "      <td>M</td>\n",
              "      <td>Marakwet</td>\n",
              "      <td>NaN</td>\n",
              "      <td>KEN</td>\n",
              "      <td>2:12:35</td>\n",
              "      <td>5</td>\n",
              "      <td>5</td>\n",
              "      <td>2015</td>\n",
              "    </tr>\n",
              "  </tbody>\n",
              "</table>\n",
              "</div>"
            ],
            "text/plain": [
              "                Name  Age M/F  ... Overall Gender Years Ran\n",
              "0   Kirui, Geoffrey    24   M  ...       1      1       NaN\n",
              "1     Rupp, Galen      30   M  ...       2      2       NaN\n",
              "2    Osako, Suguru     25   M  ...       3      3       NaN\n",
              "3   Biwott, Shadrack   32   M  ...       4      4       NaN\n",
              "4     Chebet, Wilson   31   M  ...       5      5      2015\n",
              "\n",
              "[5 rows x 10 columns]"
            ]
          },
          "metadata": {},
          "execution_count": 19
        }
      ]
    },
    {
      "cell_type": "code",
      "metadata": {
        "colab": {
          "base_uri": "https://localhost:8080/"
        },
        "id": "EKAEvrxt4QBq",
        "outputId": "b5e321d8-8928-4e9e-ef0f-3c4849dd932a"
      },
      "source": [
        "boston.Name"
      ],
      "execution_count": null,
      "outputs": [
        {
          "output_type": "execute_result",
          "data": {
            "text/plain": [
              "0         Kirui, Geoffrey \n",
              "1           Rupp, Galen   \n",
              "2          Osako, Suguru  \n",
              "3         Biwott, Shadrack\n",
              "4           Chebet, Wilson\n",
              "              ...         \n",
              "995           Larosa, Mark\n",
              "996    Williamson, Jerry A\n",
              "997        Mccue, Daniel T\n",
              "998           Larosa, John\n",
              "999         Sanchez, Sam R\n",
              "Name: Name, Length: 1000, dtype: object"
            ]
          },
          "metadata": {},
          "execution_count": 20
        }
      ]
    },
    {
      "cell_type": "code",
      "metadata": {
        "colab": {
          "base_uri": "https://localhost:8080/"
        },
        "id": "UUKUyvm73ux0",
        "outputId": "99ef354d-e275-46ba-b980-0e4d26335419"
      },
      "source": [
        "len(boston.Name)"
      ],
      "execution_count": null,
      "outputs": [
        {
          "output_type": "execute_result",
          "data": {
            "text/plain": [
              "1000"
            ]
          },
          "metadata": {},
          "execution_count": 21
        }
      ]
    },
    {
      "cell_type": "code",
      "metadata": {
        "colab": {
          "base_uri": "https://localhost:8080/"
        },
        "id": "R5jUQPQZ3yZd",
        "outputId": "af0ba35c-1bbd-48e2-f7dc-8b4f7e82584e"
      },
      "source": [
        "boston.Name.str.len()"
      ],
      "execution_count": null,
      "outputs": [
        {
          "output_type": "execute_result",
          "data": {
            "text/plain": [
              "0      17\n",
              "1      14\n",
              "2      15\n",
              "3      16\n",
              "4      14\n",
              "       ..\n",
              "995    12\n",
              "996    19\n",
              "997    15\n",
              "998    12\n",
              "999    14\n",
              "Name: Name, Length: 1000, dtype: int64"
            ]
          },
          "metadata": {},
          "execution_count": 22
        }
      ]
    },
    {
      "cell_type": "code",
      "metadata": {
        "colab": {
          "base_uri": "https://localhost:8080/"
        },
        "id": "GZZQx7_s32TF",
        "outputId": "f48b57f4-5705-4d7d-e8d8-d04a5caa47cd"
      },
      "source": [
        "boston.Name.str.startswith('A')"
      ],
      "execution_count": null,
      "outputs": [
        {
          "output_type": "execute_result",
          "data": {
            "text/plain": [
              "0      False\n",
              "1      False\n",
              "2      False\n",
              "3      False\n",
              "4      False\n",
              "       ...  \n",
              "995    False\n",
              "996    False\n",
              "997    False\n",
              "998    False\n",
              "999    False\n",
              "Name: Name, Length: 1000, dtype: bool"
            ]
          },
          "metadata": {},
          "execution_count": 23
        }
      ]
    },
    {
      "cell_type": "markdown",
      "metadata": {
        "id": "I8M9xLtG4X7Y"
      },
      "source": [
        "### Case Operations"
      ]
    },
    {
      "cell_type": "code",
      "metadata": {
        "id": "yMUD0QVa362W"
      },
      "source": [
        "# Agenda :\n",
        "# - title()\n",
        "# - upper()\n",
        "# - lower()\n",
        "# - swapcase()\n",
        "# - capitalize"
      ],
      "execution_count": null,
      "outputs": []
    },
    {
      "cell_type": "code",
      "metadata": {
        "colab": {
          "base_uri": "https://localhost:8080/",
          "height": 204
        },
        "id": "9jMqKq3M45Pc",
        "outputId": "6eab6a76-a0e3-492f-c5b6-990b5ed0ea3a"
      },
      "source": [
        "boston.head()"
      ],
      "execution_count": null,
      "outputs": [
        {
          "output_type": "execute_result",
          "data": {
            "text/html": [
              "<div>\n",
              "<style scoped>\n",
              "    .dataframe tbody tr th:only-of-type {\n",
              "        vertical-align: middle;\n",
              "    }\n",
              "\n",
              "    .dataframe tbody tr th {\n",
              "        vertical-align: top;\n",
              "    }\n",
              "\n",
              "    .dataframe thead th {\n",
              "        text-align: right;\n",
              "    }\n",
              "</style>\n",
              "<table border=\"1\" class=\"dataframe\">\n",
              "  <thead>\n",
              "    <tr style=\"text-align: right;\">\n",
              "      <th></th>\n",
              "      <th>Name</th>\n",
              "      <th>Age</th>\n",
              "      <th>M/F</th>\n",
              "      <th>City</th>\n",
              "      <th>State</th>\n",
              "      <th>Country</th>\n",
              "      <th>Official Time</th>\n",
              "      <th>Overall</th>\n",
              "      <th>Gender</th>\n",
              "      <th>Years Ran</th>\n",
              "    </tr>\n",
              "  </thead>\n",
              "  <tbody>\n",
              "    <tr>\n",
              "      <th>0</th>\n",
              "      <td>Kirui, Geoffrey</td>\n",
              "      <td>24</td>\n",
              "      <td>M</td>\n",
              "      <td>Keringet</td>\n",
              "      <td>NaN</td>\n",
              "      <td>KEN</td>\n",
              "      <td>2:09:37</td>\n",
              "      <td>1</td>\n",
              "      <td>1</td>\n",
              "      <td>NaN</td>\n",
              "    </tr>\n",
              "    <tr>\n",
              "      <th>1</th>\n",
              "      <td>Rupp, Galen</td>\n",
              "      <td>30</td>\n",
              "      <td>M</td>\n",
              "      <td>Portland</td>\n",
              "      <td>OR</td>\n",
              "      <td>USA</td>\n",
              "      <td>2:09:58</td>\n",
              "      <td>2</td>\n",
              "      <td>2</td>\n",
              "      <td>NaN</td>\n",
              "    </tr>\n",
              "    <tr>\n",
              "      <th>2</th>\n",
              "      <td>Osako, Suguru</td>\n",
              "      <td>25</td>\n",
              "      <td>M</td>\n",
              "      <td>Machida-City</td>\n",
              "      <td>NaN</td>\n",
              "      <td>JPN</td>\n",
              "      <td>2:10:28</td>\n",
              "      <td>3</td>\n",
              "      <td>3</td>\n",
              "      <td>NaN</td>\n",
              "    </tr>\n",
              "    <tr>\n",
              "      <th>3</th>\n",
              "      <td>Biwott, Shadrack</td>\n",
              "      <td>32</td>\n",
              "      <td>M</td>\n",
              "      <td>Mammoth Lakes</td>\n",
              "      <td>CA</td>\n",
              "      <td>USA</td>\n",
              "      <td>2:12:08</td>\n",
              "      <td>4</td>\n",
              "      <td>4</td>\n",
              "      <td>NaN</td>\n",
              "    </tr>\n",
              "    <tr>\n",
              "      <th>4</th>\n",
              "      <td>Chebet, Wilson</td>\n",
              "      <td>31</td>\n",
              "      <td>M</td>\n",
              "      <td>Marakwet</td>\n",
              "      <td>NaN</td>\n",
              "      <td>KEN</td>\n",
              "      <td>2:12:35</td>\n",
              "      <td>5</td>\n",
              "      <td>5</td>\n",
              "      <td>2015</td>\n",
              "    </tr>\n",
              "  </tbody>\n",
              "</table>\n",
              "</div>"
            ],
            "text/plain": [
              "                Name  Age M/F  ... Overall Gender Years Ran\n",
              "0   Kirui, Geoffrey    24   M  ...       1      1       NaN\n",
              "1     Rupp, Galen      30   M  ...       2      2       NaN\n",
              "2    Osako, Suguru     25   M  ...       3      3       NaN\n",
              "3   Biwott, Shadrack   32   M  ...       4      4       NaN\n",
              "4     Chebet, Wilson   31   M  ...       5      5      2015\n",
              "\n",
              "[5 rows x 10 columns]"
            ]
          },
          "metadata": {},
          "execution_count": 25
        }
      ]
    },
    {
      "cell_type": "code",
      "metadata": {
        "colab": {
          "base_uri": "https://localhost:8080/"
        },
        "id": "-CXDO_Va468q",
        "outputId": "bff9f0bd-1a25-4ed8-b434-5f13e9ababb1"
      },
      "source": [
        "boston.City"
      ],
      "execution_count": null,
      "outputs": [
        {
          "output_type": "execute_result",
          "data": {
            "text/plain": [
              "0           Keringet\n",
              "1           Portland\n",
              "2       Machida-City\n",
              "3      Mammoth Lakes\n",
              "4           Marakwet\n",
              "           ...      \n",
              "995    North Andover\n",
              "996          Raleigh\n",
              "997        Arlington\n",
              "998          Danbury\n",
              "999         Santa Fe\n",
              "Name: City, Length: 1000, dtype: object"
            ]
          },
          "metadata": {},
          "execution_count": 26
        }
      ]
    },
    {
      "cell_type": "code",
      "metadata": {
        "colab": {
          "base_uri": "https://localhost:8080/"
        },
        "id": "zqVA9_0h48-o",
        "outputId": "45d766af-f81d-41ac-d525-f47795d9e007"
      },
      "source": [
        "boston.City.str.upper()"
      ],
      "execution_count": null,
      "outputs": [
        {
          "output_type": "execute_result",
          "data": {
            "text/plain": [
              "0           KERINGET\n",
              "1           PORTLAND\n",
              "2       MACHIDA-CITY\n",
              "3      MAMMOTH LAKES\n",
              "4           MARAKWET\n",
              "           ...      \n",
              "995    NORTH ANDOVER\n",
              "996          RALEIGH\n",
              "997        ARLINGTON\n",
              "998          DANBURY\n",
              "999         SANTA FE\n",
              "Name: City, Length: 1000, dtype: object"
            ]
          },
          "metadata": {},
          "execution_count": 27
        }
      ]
    },
    {
      "cell_type": "code",
      "metadata": {
        "colab": {
          "base_uri": "https://localhost:8080/"
        },
        "id": "G-0ihldP4_-a",
        "outputId": "92640aa9-5503-47e5-ac97-d7bead0bc87e"
      },
      "source": [
        "boston.City.str.lower()"
      ],
      "execution_count": null,
      "outputs": [
        {
          "output_type": "execute_result",
          "data": {
            "text/plain": [
              "0           keringet\n",
              "1           portland\n",
              "2       machida-city\n",
              "3      mammoth lakes\n",
              "4           marakwet\n",
              "           ...      \n",
              "995    north andover\n",
              "996          raleigh\n",
              "997        arlington\n",
              "998          danbury\n",
              "999         santa fe\n",
              "Name: City, Length: 1000, dtype: object"
            ]
          },
          "metadata": {},
          "execution_count": 28
        }
      ]
    },
    {
      "cell_type": "code",
      "metadata": {
        "colab": {
          "base_uri": "https://localhost:8080/"
        },
        "id": "fNKZEdNS5f8H",
        "outputId": "e9007890-7f7c-4565-f083-c9686bfaaaee"
      },
      "source": [
        "boston.City.str.capitalize()"
      ],
      "execution_count": null,
      "outputs": [
        {
          "output_type": "execute_result",
          "data": {
            "text/plain": [
              "0           Keringet\n",
              "1           Portland\n",
              "2       Machida-city\n",
              "3      Mammoth lakes\n",
              "4           Marakwet\n",
              "           ...      \n",
              "995    North andover\n",
              "996          Raleigh\n",
              "997        Arlington\n",
              "998          Danbury\n",
              "999         Santa fe\n",
              "Name: City, Length: 1000, dtype: object"
            ]
          },
          "metadata": {},
          "execution_count": 29
        }
      ]
    },
    {
      "cell_type": "code",
      "metadata": {
        "colab": {
          "base_uri": "https://localhost:8080/"
        },
        "id": "k8pfoVLZ5jHU",
        "outputId": "024315bd-39df-4967-a18a-bd28a4b6b6e3"
      },
      "source": [
        "boston.City.str.swapcase()"
      ],
      "execution_count": null,
      "outputs": [
        {
          "output_type": "execute_result",
          "data": {
            "text/plain": [
              "0           kERINGET\n",
              "1           pORTLAND\n",
              "2       mACHIDA-cITY\n",
              "3      mAMMOTH lAKES\n",
              "4           mARAKWET\n",
              "           ...      \n",
              "995    nORTH aNDOVER\n",
              "996          rALEIGH\n",
              "997        aRLINGTON\n",
              "998          dANBURY\n",
              "999         sANTA fE\n",
              "Name: City, Length: 1000, dtype: object"
            ]
          },
          "metadata": {},
          "execution_count": 30
        }
      ]
    },
    {
      "cell_type": "markdown",
      "metadata": {
        "id": "upa9jDN45vQe"
      },
      "source": [
        "### Finding Characters And Words"
      ]
    },
    {
      "cell_type": "code",
      "metadata": {
        "id": "h6BzSCKD5n_K"
      },
      "source": [
        "# Agenda :\n",
        "# - find()\n",
        "# - rfind() in python and pandas"
      ],
      "execution_count": null,
      "outputs": []
    },
    {
      "cell_type": "code",
      "metadata": {
        "colab": {
          "base_uri": "https://localhost:8080/",
          "height": 35
        },
        "id": "t4cgGBDz5-Uj",
        "outputId": "f217e7ed-d107-4b2e-ca9d-7e02a51fb7b9"
      },
      "source": [
        "s"
      ],
      "execution_count": null,
      "outputs": [
        {
          "output_type": "execute_result",
          "data": {
            "application/vnd.google.colaboratory.intrinsic+json": {
              "type": "string"
            },
            "text/plain": [
              "'Welcome to the text manipulation section'"
            ]
          },
          "metadata": {},
          "execution_count": 32
        }
      ]
    },
    {
      "cell_type": "code",
      "metadata": {
        "colab": {
          "base_uri": "https://localhost:8080/"
        },
        "id": "Lpvz_Roo6Wsc",
        "outputId": "2a6883b2-bb7a-4e2f-c207-1cb0c23724a1"
      },
      "source": [
        "s.find('x')"
      ],
      "execution_count": null,
      "outputs": [
        {
          "output_type": "execute_result",
          "data": {
            "text/plain": [
              "17"
            ]
          },
          "metadata": {},
          "execution_count": 33
        }
      ]
    },
    {
      "cell_type": "code",
      "metadata": {
        "colab": {
          "base_uri": "https://localhost:8080/",
          "height": 35
        },
        "id": "Dk1JMviN6amn",
        "outputId": "c5bb403a-b0db-461c-957f-8a02d6ac7bc7"
      },
      "source": [
        "s[0]"
      ],
      "execution_count": null,
      "outputs": [
        {
          "output_type": "execute_result",
          "data": {
            "application/vnd.google.colaboratory.intrinsic+json": {
              "type": "string"
            },
            "text/plain": [
              "'W'"
            ]
          },
          "metadata": {},
          "execution_count": 34
        }
      ]
    },
    {
      "cell_type": "code",
      "metadata": {
        "colab": {
          "base_uri": "https://localhost:8080/"
        },
        "id": "9BqQz-G_6ewI",
        "outputId": "651c031f-ac17-4715-fcbe-0816b6635006"
      },
      "source": [
        "s.find('text')"
      ],
      "execution_count": null,
      "outputs": [
        {
          "output_type": "execute_result",
          "data": {
            "text/plain": [
              "15"
            ]
          },
          "metadata": {},
          "execution_count": 35
        }
      ]
    },
    {
      "cell_type": "code",
      "metadata": {
        "colab": {
          "base_uri": "https://localhost:8080/"
        },
        "id": "2_MDjMfc6tmK",
        "outputId": "7f679282-12ce-41e8-8ec9-738a598f0d38"
      },
      "source": [
        "s.find('soccer') # -1 mean not found"
      ],
      "execution_count": null,
      "outputs": [
        {
          "output_type": "execute_result",
          "data": {
            "text/plain": [
              "-1"
            ]
          },
          "metadata": {},
          "execution_count": 36
        }
      ]
    },
    {
      "cell_type": "code",
      "metadata": {
        "colab": {
          "base_uri": "https://localhost:8080/",
          "height": 204
        },
        "id": "Itat4xV16yj7",
        "outputId": "0ba66802-c7b1-4965-a32e-33e4c47e6fb9"
      },
      "source": [
        "boston.head()"
      ],
      "execution_count": null,
      "outputs": [
        {
          "output_type": "execute_result",
          "data": {
            "text/html": [
              "<div>\n",
              "<style scoped>\n",
              "    .dataframe tbody tr th:only-of-type {\n",
              "        vertical-align: middle;\n",
              "    }\n",
              "\n",
              "    .dataframe tbody tr th {\n",
              "        vertical-align: top;\n",
              "    }\n",
              "\n",
              "    .dataframe thead th {\n",
              "        text-align: right;\n",
              "    }\n",
              "</style>\n",
              "<table border=\"1\" class=\"dataframe\">\n",
              "  <thead>\n",
              "    <tr style=\"text-align: right;\">\n",
              "      <th></th>\n",
              "      <th>Name</th>\n",
              "      <th>Age</th>\n",
              "      <th>M/F</th>\n",
              "      <th>City</th>\n",
              "      <th>State</th>\n",
              "      <th>Country</th>\n",
              "      <th>Official Time</th>\n",
              "      <th>Overall</th>\n",
              "      <th>Gender</th>\n",
              "      <th>Years Ran</th>\n",
              "    </tr>\n",
              "  </thead>\n",
              "  <tbody>\n",
              "    <tr>\n",
              "      <th>0</th>\n",
              "      <td>Kirui, Geoffrey</td>\n",
              "      <td>24</td>\n",
              "      <td>M</td>\n",
              "      <td>Keringet</td>\n",
              "      <td>NaN</td>\n",
              "      <td>KEN</td>\n",
              "      <td>2:09:37</td>\n",
              "      <td>1</td>\n",
              "      <td>1</td>\n",
              "      <td>NaN</td>\n",
              "    </tr>\n",
              "    <tr>\n",
              "      <th>1</th>\n",
              "      <td>Rupp, Galen</td>\n",
              "      <td>30</td>\n",
              "      <td>M</td>\n",
              "      <td>Portland</td>\n",
              "      <td>OR</td>\n",
              "      <td>USA</td>\n",
              "      <td>2:09:58</td>\n",
              "      <td>2</td>\n",
              "      <td>2</td>\n",
              "      <td>NaN</td>\n",
              "    </tr>\n",
              "    <tr>\n",
              "      <th>2</th>\n",
              "      <td>Osako, Suguru</td>\n",
              "      <td>25</td>\n",
              "      <td>M</td>\n",
              "      <td>Machida-City</td>\n",
              "      <td>NaN</td>\n",
              "      <td>JPN</td>\n",
              "      <td>2:10:28</td>\n",
              "      <td>3</td>\n",
              "      <td>3</td>\n",
              "      <td>NaN</td>\n",
              "    </tr>\n",
              "    <tr>\n",
              "      <th>3</th>\n",
              "      <td>Biwott, Shadrack</td>\n",
              "      <td>32</td>\n",
              "      <td>M</td>\n",
              "      <td>Mammoth Lakes</td>\n",
              "      <td>CA</td>\n",
              "      <td>USA</td>\n",
              "      <td>2:12:08</td>\n",
              "      <td>4</td>\n",
              "      <td>4</td>\n",
              "      <td>NaN</td>\n",
              "    </tr>\n",
              "    <tr>\n",
              "      <th>4</th>\n",
              "      <td>Chebet, Wilson</td>\n",
              "      <td>31</td>\n",
              "      <td>M</td>\n",
              "      <td>Marakwet</td>\n",
              "      <td>NaN</td>\n",
              "      <td>KEN</td>\n",
              "      <td>2:12:35</td>\n",
              "      <td>5</td>\n",
              "      <td>5</td>\n",
              "      <td>2015</td>\n",
              "    </tr>\n",
              "  </tbody>\n",
              "</table>\n",
              "</div>"
            ],
            "text/plain": [
              "                Name  Age M/F  ... Overall Gender Years Ran\n",
              "0   Kirui, Geoffrey    24   M  ...       1      1       NaN\n",
              "1     Rupp, Galen      30   M  ...       2      2       NaN\n",
              "2    Osako, Suguru     25   M  ...       3      3       NaN\n",
              "3   Biwott, Shadrack   32   M  ...       4      4       NaN\n",
              "4     Chebet, Wilson   31   M  ...       5      5      2015\n",
              "\n",
              "[5 rows x 10 columns]"
            ]
          },
          "metadata": {},
          "execution_count": 37
        }
      ]
    },
    {
      "cell_type": "code",
      "metadata": {
        "colab": {
          "base_uri": "https://localhost:8080/"
        },
        "id": "oQYT4MKb7R2a",
        "outputId": "4ac7ea84-fb27-4b69-b4fd-2d5c8da0d380"
      },
      "source": [
        "boston.Name.str.find('Andy').value_counts()"
      ],
      "execution_count": null,
      "outputs": [
        {
          "output_type": "execute_result",
          "data": {
            "text/plain": [
              "-1     998\n",
              " 12      1\n",
              " 8       1\n",
              "Name: Name, dtype: int64"
            ]
          },
          "metadata": {},
          "execution_count": 38
        }
      ]
    },
    {
      "cell_type": "code",
      "metadata": {
        "colab": {
          "base_uri": "https://localhost:8080/"
        },
        "id": "Iyh72MDa7bB4",
        "outputId": "4db54120-540c-441c-d166-5b1614e9db67"
      },
      "source": [
        "boston.Name.str.find('James').value_counts()"
      ],
      "execution_count": null,
      "outputs": [
        {
          "output_type": "execute_result",
          "data": {
            "text/plain": [
              "-1     988\n",
              " 10      3\n",
              " 8       3\n",
              " 9       2\n",
              " 7       2\n",
              " 12      1\n",
              " 6       1\n",
              "Name: Name, dtype: int64"
            ]
          },
          "metadata": {},
          "execution_count": 39
        }
      ]
    },
    {
      "cell_type": "code",
      "metadata": {
        "id": "ucVabHCT7uUh"
      },
      "source": [
        "p = 'pandas numpy numpy pandas'"
      ],
      "execution_count": null,
      "outputs": []
    },
    {
      "cell_type": "code",
      "metadata": {
        "colab": {
          "base_uri": "https://localhost:8080/"
        },
        "id": "OpPO9Bxl75pj",
        "outputId": "adacc05a-28bc-44cc-ab0a-c9e868185854"
      },
      "source": [
        "p.find('pandas')"
      ],
      "execution_count": null,
      "outputs": [
        {
          "output_type": "execute_result",
          "data": {
            "text/plain": [
              "0"
            ]
          },
          "metadata": {},
          "execution_count": 41
        }
      ]
    },
    {
      "cell_type": "code",
      "metadata": {
        "colab": {
          "base_uri": "https://localhost:8080/"
        },
        "id": "DrS695Xi8AdU",
        "outputId": "cae69bbf-4d71-4214-e89d-194c68ca6e13"
      },
      "source": [
        "p.rfind('pandas')"
      ],
      "execution_count": null,
      "outputs": [
        {
          "output_type": "execute_result",
          "data": {
            "text/plain": [
              "19"
            ]
          },
          "metadata": {},
          "execution_count": 42
        }
      ]
    },
    {
      "cell_type": "code",
      "metadata": {
        "colab": {
          "base_uri": "https://localhost:8080/",
          "height": 35
        },
        "id": "Hzvlsc9T8bcK",
        "outputId": "a99f10a9-ef29-4a72-9820-a0294baf9d6f"
      },
      "source": [
        "p[19:]"
      ],
      "execution_count": null,
      "outputs": [
        {
          "output_type": "execute_result",
          "data": {
            "application/vnd.google.colaboratory.intrinsic+json": {
              "type": "string"
            },
            "text/plain": [
              "'pandas'"
            ]
          },
          "metadata": {},
          "execution_count": 43
        }
      ]
    },
    {
      "cell_type": "markdown",
      "metadata": {
        "id": "DPYFCcH5LHc4"
      },
      "source": [
        "### Strips and Whitespace"
      ]
    },
    {
      "cell_type": "code",
      "metadata": {
        "id": "yhbMn3Te8dUk"
      },
      "source": [
        "# Agenda :\n",
        "# - isspace()\n",
        "# - lstrip()\n",
        "# - rstrip()\n",
        "# - strip()"
      ],
      "execution_count": null,
      "outputs": []
    },
    {
      "cell_type": "code",
      "metadata": {
        "colab": {
          "base_uri": "https://localhost:8080/"
        },
        "id": "A24irUywLYso",
        "outputId": "bf2ba787-bc9d-4cc6-df17-f1ba0caef7c6"
      },
      "source": [
        "print('pandas','\\tnumpy')"
      ],
      "execution_count": null,
      "outputs": [
        {
          "output_type": "stream",
          "name": "stdout",
          "text": [
            "pandas \tnumpy\n"
          ]
        }
      ]
    },
    {
      "cell_type": "code",
      "metadata": {
        "colab": {
          "base_uri": "https://localhost:8080/"
        },
        "id": "V-sVUxzaLfKA",
        "outputId": "7a59f59a-bc07-49c9-f417-ce222d27d93d"
      },
      "source": [
        "print('pandas','\\npython')"
      ],
      "execution_count": null,
      "outputs": [
        {
          "output_type": "stream",
          "name": "stdout",
          "text": [
            "pandas \n",
            "python\n"
          ]
        }
      ]
    },
    {
      "cell_type": "code",
      "metadata": {
        "colab": {
          "base_uri": "https://localhost:8080/"
        },
        "id": "6K61Y0YKLhpD",
        "outputId": "cabda7c6-965a-41ce-c447-231fd913a349"
      },
      "source": [
        "''.isspace()"
      ],
      "execution_count": null,
      "outputs": [
        {
          "output_type": "execute_result",
          "data": {
            "text/plain": [
              "False"
            ]
          },
          "metadata": {},
          "execution_count": 47
        }
      ]
    },
    {
      "cell_type": "code",
      "metadata": {
        "colab": {
          "base_uri": "https://localhost:8080/"
        },
        "id": "L_BJfgxaLoJk",
        "outputId": "27ba8eae-0c15-443a-bb1e-03d57f74066c"
      },
      "source": [
        "' '.isspace()"
      ],
      "execution_count": null,
      "outputs": [
        {
          "output_type": "execute_result",
          "data": {
            "text/plain": [
              "True"
            ]
          },
          "metadata": {},
          "execution_count": 48
        }
      ]
    },
    {
      "cell_type": "code",
      "metadata": {
        "colab": {
          "base_uri": "https://localhost:8080/"
        },
        "id": "LiEV2ry0NCHl",
        "outputId": "1e8deecd-0c58-4851-9989-6268f39215b2"
      },
      "source": [
        "'\\n'.isspace()"
      ],
      "execution_count": null,
      "outputs": [
        {
          "output_type": "execute_result",
          "data": {
            "text/plain": [
              "True"
            ]
          },
          "metadata": {},
          "execution_count": 49
        }
      ]
    },
    {
      "cell_type": "code",
      "metadata": {
        "id": "DgeUi1ukNEPD"
      },
      "source": [
        "left_space = \"      This is a pandas course\"\n",
        "right_space = \"We cover plenty of python too!      \"\n",
        "spaced = \"   the name is: Bond \\t James Bond \\n\\n\""
      ],
      "execution_count": null,
      "outputs": []
    },
    {
      "cell_type": "code",
      "metadata": {
        "colab": {
          "base_uri": "https://localhost:8080/"
        },
        "id": "tfEbAE0ON-KE",
        "outputId": "2739a598-1a4f-46c3-e750-2df3f2fb56ae"
      },
      "source": [
        "print(spaced)"
      ],
      "execution_count": null,
      "outputs": [
        {
          "output_type": "stream",
          "name": "stdout",
          "text": [
            "   the name is: Bond \t James Bond \n",
            "\n",
            "\n"
          ]
        }
      ]
    },
    {
      "cell_type": "code",
      "metadata": {
        "colab": {
          "base_uri": "https://localhost:8080/",
          "height": 35
        },
        "id": "dIV3ClAZOBMR",
        "outputId": "94565c2f-41ed-47a4-9b33-692b02a93eb6"
      },
      "source": [
        "left_space.lstrip()"
      ],
      "execution_count": null,
      "outputs": [
        {
          "output_type": "execute_result",
          "data": {
            "application/vnd.google.colaboratory.intrinsic+json": {
              "type": "string"
            },
            "text/plain": [
              "'This is a pandas course'"
            ]
          },
          "metadata": {},
          "execution_count": 52
        }
      ]
    },
    {
      "cell_type": "code",
      "metadata": {
        "colab": {
          "base_uri": "https://localhost:8080/",
          "height": 35
        },
        "id": "nY4aAiZPRLqv",
        "outputId": "df7b30e9-d9e9-4f7e-f01f-bcaaed43f14f"
      },
      "source": [
        "right_space.rstrip()"
      ],
      "execution_count": null,
      "outputs": [
        {
          "output_type": "execute_result",
          "data": {
            "application/vnd.google.colaboratory.intrinsic+json": {
              "type": "string"
            },
            "text/plain": [
              "'We cover plenty of python too!'"
            ]
          },
          "metadata": {},
          "execution_count": 53
        }
      ]
    },
    {
      "cell_type": "code",
      "metadata": {
        "colab": {
          "base_uri": "https://localhost:8080/",
          "height": 35
        },
        "id": "_XlTVYqvROMf",
        "outputId": "e936c9c9-f654-4984-a6ed-0a2c017dec48"
      },
      "source": [
        "spaced.strip()"
      ],
      "execution_count": null,
      "outputs": [
        {
          "output_type": "execute_result",
          "data": {
            "application/vnd.google.colaboratory.intrinsic+json": {
              "type": "string"
            },
            "text/plain": [
              "'the name is: Bond \\t James Bond'"
            ]
          },
          "metadata": {},
          "execution_count": 54
        }
      ]
    },
    {
      "cell_type": "code",
      "metadata": {
        "colab": {
          "base_uri": "https://localhost:8080/",
          "height": 204
        },
        "id": "0xkljO7SRQj4",
        "outputId": "a4d0446c-1c50-40be-ab9d-fff795bc7b31"
      },
      "source": [
        "boston.head()"
      ],
      "execution_count": null,
      "outputs": [
        {
          "output_type": "execute_result",
          "data": {
            "text/html": [
              "<div>\n",
              "<style scoped>\n",
              "    .dataframe tbody tr th:only-of-type {\n",
              "        vertical-align: middle;\n",
              "    }\n",
              "\n",
              "    .dataframe tbody tr th {\n",
              "        vertical-align: top;\n",
              "    }\n",
              "\n",
              "    .dataframe thead th {\n",
              "        text-align: right;\n",
              "    }\n",
              "</style>\n",
              "<table border=\"1\" class=\"dataframe\">\n",
              "  <thead>\n",
              "    <tr style=\"text-align: right;\">\n",
              "      <th></th>\n",
              "      <th>Name</th>\n",
              "      <th>Age</th>\n",
              "      <th>M/F</th>\n",
              "      <th>City</th>\n",
              "      <th>State</th>\n",
              "      <th>Country</th>\n",
              "      <th>Official Time</th>\n",
              "      <th>Overall</th>\n",
              "      <th>Gender</th>\n",
              "      <th>Years Ran</th>\n",
              "    </tr>\n",
              "  </thead>\n",
              "  <tbody>\n",
              "    <tr>\n",
              "      <th>0</th>\n",
              "      <td>Kirui, Geoffrey</td>\n",
              "      <td>24</td>\n",
              "      <td>M</td>\n",
              "      <td>Keringet</td>\n",
              "      <td>NaN</td>\n",
              "      <td>KEN</td>\n",
              "      <td>2:09:37</td>\n",
              "      <td>1</td>\n",
              "      <td>1</td>\n",
              "      <td>NaN</td>\n",
              "    </tr>\n",
              "    <tr>\n",
              "      <th>1</th>\n",
              "      <td>Rupp, Galen</td>\n",
              "      <td>30</td>\n",
              "      <td>M</td>\n",
              "      <td>Portland</td>\n",
              "      <td>OR</td>\n",
              "      <td>USA</td>\n",
              "      <td>2:09:58</td>\n",
              "      <td>2</td>\n",
              "      <td>2</td>\n",
              "      <td>NaN</td>\n",
              "    </tr>\n",
              "    <tr>\n",
              "      <th>2</th>\n",
              "      <td>Osako, Suguru</td>\n",
              "      <td>25</td>\n",
              "      <td>M</td>\n",
              "      <td>Machida-City</td>\n",
              "      <td>NaN</td>\n",
              "      <td>JPN</td>\n",
              "      <td>2:10:28</td>\n",
              "      <td>3</td>\n",
              "      <td>3</td>\n",
              "      <td>NaN</td>\n",
              "    </tr>\n",
              "    <tr>\n",
              "      <th>3</th>\n",
              "      <td>Biwott, Shadrack</td>\n",
              "      <td>32</td>\n",
              "      <td>M</td>\n",
              "      <td>Mammoth Lakes</td>\n",
              "      <td>CA</td>\n",
              "      <td>USA</td>\n",
              "      <td>2:12:08</td>\n",
              "      <td>4</td>\n",
              "      <td>4</td>\n",
              "      <td>NaN</td>\n",
              "    </tr>\n",
              "    <tr>\n",
              "      <th>4</th>\n",
              "      <td>Chebet, Wilson</td>\n",
              "      <td>31</td>\n",
              "      <td>M</td>\n",
              "      <td>Marakwet</td>\n",
              "      <td>NaN</td>\n",
              "      <td>KEN</td>\n",
              "      <td>2:12:35</td>\n",
              "      <td>5</td>\n",
              "      <td>5</td>\n",
              "      <td>2015</td>\n",
              "    </tr>\n",
              "  </tbody>\n",
              "</table>\n",
              "</div>"
            ],
            "text/plain": [
              "                Name  Age M/F  ... Overall Gender Years Ran\n",
              "0   Kirui, Geoffrey    24   M  ...       1      1       NaN\n",
              "1     Rupp, Galen      30   M  ...       2      2       NaN\n",
              "2    Osako, Suguru     25   M  ...       3      3       NaN\n",
              "3   Biwott, Shadrack   32   M  ...       4      4       NaN\n",
              "4     Chebet, Wilson   31   M  ...       5      5      2015\n",
              "\n",
              "[5 rows x 10 columns]"
            ]
          },
          "metadata": {},
          "execution_count": 55
        }
      ]
    },
    {
      "cell_type": "code",
      "metadata": {
        "colab": {
          "base_uri": "https://localhost:8080/",
          "height": 35
        },
        "id": "0k2m7R00S2eu",
        "outputId": "def334f7-cf31-4436-d8f4-04a367248050"
      },
      "source": [
        "boston.Name.iloc[0]"
      ],
      "execution_count": null,
      "outputs": [
        {
          "output_type": "execute_result",
          "data": {
            "application/vnd.google.colaboratory.intrinsic+json": {
              "type": "string"
            },
            "text/plain": [
              "' Kirui, Geoffrey '"
            ]
          },
          "metadata": {},
          "execution_count": 56
        }
      ]
    },
    {
      "cell_type": "code",
      "metadata": {
        "colab": {
          "base_uri": "https://localhost:8080/",
          "height": 35
        },
        "id": "qHSj0z86TJUO",
        "outputId": "bb3a1c67-bc86-4d58-c24f-eec70f4c0017"
      },
      "source": [
        "boston.Name.iloc[1]"
      ],
      "execution_count": null,
      "outputs": [
        {
          "output_type": "execute_result",
          "data": {
            "application/vnd.google.colaboratory.intrinsic+json": {
              "type": "string"
            },
            "text/plain": [
              "'Rupp, Galen   '"
            ]
          },
          "metadata": {},
          "execution_count": 57
        }
      ]
    },
    {
      "cell_type": "code",
      "metadata": {
        "colab": {
          "base_uri": "https://localhost:8080/"
        },
        "id": "x9llJ7-mTK_p",
        "outputId": "5445c94c-cdf6-42d3-82b4-d94918ca1f39"
      },
      "source": [
        "boston.Name.iloc[:2].str.strip()"
      ],
      "execution_count": null,
      "outputs": [
        {
          "output_type": "execute_result",
          "data": {
            "text/plain": [
              "0    Kirui, Geoffrey\n",
              "1        Rupp, Galen\n",
              "Name: Name, dtype: object"
            ]
          },
          "metadata": {},
          "execution_count": 58
        }
      ]
    },
    {
      "cell_type": "code",
      "metadata": {
        "colab": {
          "base_uri": "https://localhost:8080/",
          "height": 35
        },
        "id": "_V2_LakUTPRi",
        "outputId": "5e6e666d-6dbd-4f9b-c639-4e7a3f41dfe0"
      },
      "source": [
        "boston.Name.iloc[1].strip()"
      ],
      "execution_count": null,
      "outputs": [
        {
          "output_type": "execute_result",
          "data": {
            "application/vnd.google.colaboratory.intrinsic+json": {
              "type": "string"
            },
            "text/plain": [
              "'Rupp, Galen'"
            ]
          },
          "metadata": {},
          "execution_count": 59
        }
      ]
    },
    {
      "cell_type": "code",
      "metadata": {
        "id": "wI8FQjXBTumc"
      },
      "source": [
        "boston.Name = boston.Name.str.strip()"
      ],
      "execution_count": null,
      "outputs": []
    },
    {
      "cell_type": "code",
      "metadata": {
        "colab": {
          "base_uri": "https://localhost:8080/",
          "height": 35
        },
        "id": "up24Ukg3T1LB",
        "outputId": "93cb53cd-fc10-404b-8054-a6eff4b4c912"
      },
      "source": [
        "boston.Name.iloc[0]"
      ],
      "execution_count": null,
      "outputs": [
        {
          "output_type": "execute_result",
          "data": {
            "application/vnd.google.colaboratory.intrinsic+json": {
              "type": "string"
            },
            "text/plain": [
              "'Kirui, Geoffrey'"
            ]
          },
          "metadata": {},
          "execution_count": 61
        }
      ]
    },
    {
      "cell_type": "markdown",
      "metadata": {
        "id": "1OcHdmcOVIJx"
      },
      "source": [
        "### String Splitting and Concatenation"
      ]
    },
    {
      "cell_type": "code",
      "metadata": {
        "id": "gUHD8EVkT4ze"
      },
      "source": [
        "# Agenda :\n",
        "# - split()\n",
        "# - get()\n",
        "# - cat()"
      ],
      "execution_count": null,
      "outputs": []
    },
    {
      "cell_type": "code",
      "metadata": {
        "colab": {
          "base_uri": "https://localhost:8080/",
          "height": 35
        },
        "id": "dq0hCkwFVRBH",
        "outputId": "245175b6-c4f2-4345-d572-51a30d824a6f"
      },
      "source": [
        "s"
      ],
      "execution_count": null,
      "outputs": [
        {
          "output_type": "execute_result",
          "data": {
            "application/vnd.google.colaboratory.intrinsic+json": {
              "type": "string"
            },
            "text/plain": [
              "'Welcome to the text manipulation section'"
            ]
          },
          "metadata": {},
          "execution_count": 63
        }
      ]
    },
    {
      "cell_type": "code",
      "metadata": {
        "colab": {
          "base_uri": "https://localhost:8080/"
        },
        "id": "FuMgrTBLV4OR",
        "outputId": "cf9b0eb1-f21d-4da7-ed10-d07b7c24965c"
      },
      "source": [
        "s.split()"
      ],
      "execution_count": null,
      "outputs": [
        {
          "output_type": "execute_result",
          "data": {
            "text/plain": [
              "['Welcome', 'to', 'the', 'text', 'manipulation', 'section']"
            ]
          },
          "metadata": {},
          "execution_count": 64
        }
      ]
    },
    {
      "cell_type": "code",
      "metadata": {
        "colab": {
          "base_uri": "https://localhost:8080/"
        },
        "id": "qP0uPX8hV5LC",
        "outputId": "3c3d796f-9989-4421-ba22-4abc70480936"
      },
      "source": [
        "s.split(' ')"
      ],
      "execution_count": null,
      "outputs": [
        {
          "output_type": "execute_result",
          "data": {
            "text/plain": [
              "['Welcome', 'to', 'the', 'text', 'manipulation', 'section']"
            ]
          },
          "metadata": {},
          "execution_count": 65
        }
      ]
    },
    {
      "cell_type": "code",
      "metadata": {
        "colab": {
          "base_uri": "https://localhost:8080/",
          "height": 35
        },
        "id": "T9jKr4eaV6mS",
        "outputId": "32dfc263-5653-4d92-bca5-d74aafa83349"
      },
      "source": [
        "spaced"
      ],
      "execution_count": null,
      "outputs": [
        {
          "output_type": "execute_result",
          "data": {
            "application/vnd.google.colaboratory.intrinsic+json": {
              "type": "string"
            },
            "text/plain": [
              "'   the name is: Bond \\t James Bond \\n\\n'"
            ]
          },
          "metadata": {},
          "execution_count": 66
        }
      ]
    },
    {
      "cell_type": "code",
      "metadata": {
        "colab": {
          "base_uri": "https://localhost:8080/"
        },
        "id": "k0ni0QkzV8A7",
        "outputId": "2d65af96-3991-4fc9-a100-5079d6330c42"
      },
      "source": [
        "spaced.split()"
      ],
      "execution_count": null,
      "outputs": [
        {
          "output_type": "execute_result",
          "data": {
            "text/plain": [
              "['the', 'name', 'is:', 'Bond', 'James', 'Bond']"
            ]
          },
          "metadata": {},
          "execution_count": 67
        }
      ]
    },
    {
      "cell_type": "code",
      "metadata": {
        "colab": {
          "base_uri": "https://localhost:8080/"
        },
        "id": "nnNYlxIVV9aW",
        "outputId": "f12353c4-ba89-4228-c593-2345ce0c6b9d"
      },
      "source": [
        "spaced.split(' ')"
      ],
      "execution_count": null,
      "outputs": [
        {
          "output_type": "execute_result",
          "data": {
            "text/plain": [
              "['', '', '', 'the', 'name', 'is:', 'Bond', '\\t', 'James', 'Bond', '\\n\\n']"
            ]
          },
          "metadata": {},
          "execution_count": 68
        }
      ]
    },
    {
      "cell_type": "code",
      "metadata": {
        "colab": {
          "base_uri": "https://localhost:8080/"
        },
        "id": "eQAs8Qs6V_WC",
        "outputId": "e1e02c0a-71a4-4170-c7aa-d297d8851eda"
      },
      "source": [
        "boston.Name.str.split(', ')"
      ],
      "execution_count": null,
      "outputs": [
        {
          "output_type": "execute_result",
          "data": {
            "text/plain": [
              "0          [Kirui, Geoffrey]\n",
              "1              [Rupp, Galen]\n",
              "2            [Osako, Suguru]\n",
              "3         [Biwott, Shadrack]\n",
              "4           [Chebet, Wilson]\n",
              "               ...          \n",
              "995           [Larosa, Mark]\n",
              "996    [Williamson, Jerry A]\n",
              "997        [Mccue, Daniel T]\n",
              "998           [Larosa, John]\n",
              "999         [Sanchez, Sam R]\n",
              "Name: Name, Length: 1000, dtype: object"
            ]
          },
          "metadata": {},
          "execution_count": 69
        }
      ]
    },
    {
      "cell_type": "code",
      "metadata": {
        "colab": {
          "base_uri": "https://localhost:8080/"
        },
        "id": "mZyReXyGZgap",
        "outputId": "5a52b08e-afd4-49a1-9fcb-e1a57a2fc9b0"
      },
      "source": [
        "boston.Name.str.split(', ')[0]"
      ],
      "execution_count": null,
      "outputs": [
        {
          "output_type": "execute_result",
          "data": {
            "text/plain": [
              "['Kirui', 'Geoffrey']"
            ]
          },
          "metadata": {},
          "execution_count": 70
        }
      ]
    },
    {
      "cell_type": "code",
      "metadata": {
        "id": "8X57jVPjZsHK"
      },
      "source": [
        "# the str.get() method"
      ],
      "execution_count": null,
      "outputs": []
    },
    {
      "cell_type": "code",
      "metadata": {
        "colab": {
          "base_uri": "https://localhost:8080/"
        },
        "id": "OowgRfyNZu_Z",
        "outputId": "5367361f-5d96-4e29-858e-335cbf3fb783"
      },
      "source": [
        "boston.Name.str.split(', ').str.get(0)"
      ],
      "execution_count": null,
      "outputs": [
        {
          "output_type": "execute_result",
          "data": {
            "text/plain": [
              "0           Kirui\n",
              "1            Rupp\n",
              "2           Osako\n",
              "3          Biwott\n",
              "4          Chebet\n",
              "          ...    \n",
              "995        Larosa\n",
              "996    Williamson\n",
              "997         Mccue\n",
              "998        Larosa\n",
              "999       Sanchez\n",
              "Name: Name, Length: 1000, dtype: object"
            ]
          },
          "metadata": {},
          "execution_count": 72
        }
      ]
    },
    {
      "cell_type": "code",
      "metadata": {
        "id": "dtyG9f5OaNOl"
      },
      "source": [
        "boston['First Name'] = boston.Name.str.split(', ').str.get(1)\n",
        "boston['Last Name'] = boston.Name.str.split(', ').str.get(0)"
      ],
      "execution_count": null,
      "outputs": []
    },
    {
      "cell_type": "code",
      "metadata": {
        "colab": {
          "base_uri": "https://localhost:8080/",
          "height": 297
        },
        "id": "ahMcwxMDaYJ-",
        "outputId": "d217d0f3-3307-43a2-e0fb-5a5c81ca538e"
      },
      "source": [
        "boston.head(8)"
      ],
      "execution_count": null,
      "outputs": [
        {
          "output_type": "execute_result",
          "data": {
            "text/html": [
              "<div>\n",
              "<style scoped>\n",
              "    .dataframe tbody tr th:only-of-type {\n",
              "        vertical-align: middle;\n",
              "    }\n",
              "\n",
              "    .dataframe tbody tr th {\n",
              "        vertical-align: top;\n",
              "    }\n",
              "\n",
              "    .dataframe thead th {\n",
              "        text-align: right;\n",
              "    }\n",
              "</style>\n",
              "<table border=\"1\" class=\"dataframe\">\n",
              "  <thead>\n",
              "    <tr style=\"text-align: right;\">\n",
              "      <th></th>\n",
              "      <th>Name</th>\n",
              "      <th>Age</th>\n",
              "      <th>M/F</th>\n",
              "      <th>City</th>\n",
              "      <th>State</th>\n",
              "      <th>Country</th>\n",
              "      <th>Official Time</th>\n",
              "      <th>Overall</th>\n",
              "      <th>Gender</th>\n",
              "      <th>Years Ran</th>\n",
              "      <th>First Name</th>\n",
              "      <th>Last Name</th>\n",
              "    </tr>\n",
              "  </thead>\n",
              "  <tbody>\n",
              "    <tr>\n",
              "      <th>0</th>\n",
              "      <td>Kirui, Geoffrey</td>\n",
              "      <td>24</td>\n",
              "      <td>M</td>\n",
              "      <td>Keringet</td>\n",
              "      <td>NaN</td>\n",
              "      <td>KEN</td>\n",
              "      <td>2:09:37</td>\n",
              "      <td>1</td>\n",
              "      <td>1</td>\n",
              "      <td>NaN</td>\n",
              "      <td>Geoffrey</td>\n",
              "      <td>Kirui</td>\n",
              "    </tr>\n",
              "    <tr>\n",
              "      <th>1</th>\n",
              "      <td>Rupp, Galen</td>\n",
              "      <td>30</td>\n",
              "      <td>M</td>\n",
              "      <td>Portland</td>\n",
              "      <td>OR</td>\n",
              "      <td>USA</td>\n",
              "      <td>2:09:58</td>\n",
              "      <td>2</td>\n",
              "      <td>2</td>\n",
              "      <td>NaN</td>\n",
              "      <td>Galen</td>\n",
              "      <td>Rupp</td>\n",
              "    </tr>\n",
              "    <tr>\n",
              "      <th>2</th>\n",
              "      <td>Osako, Suguru</td>\n",
              "      <td>25</td>\n",
              "      <td>M</td>\n",
              "      <td>Machida-City</td>\n",
              "      <td>NaN</td>\n",
              "      <td>JPN</td>\n",
              "      <td>2:10:28</td>\n",
              "      <td>3</td>\n",
              "      <td>3</td>\n",
              "      <td>NaN</td>\n",
              "      <td>Suguru</td>\n",
              "      <td>Osako</td>\n",
              "    </tr>\n",
              "    <tr>\n",
              "      <th>3</th>\n",
              "      <td>Biwott, Shadrack</td>\n",
              "      <td>32</td>\n",
              "      <td>M</td>\n",
              "      <td>Mammoth Lakes</td>\n",
              "      <td>CA</td>\n",
              "      <td>USA</td>\n",
              "      <td>2:12:08</td>\n",
              "      <td>4</td>\n",
              "      <td>4</td>\n",
              "      <td>NaN</td>\n",
              "      <td>Shadrack</td>\n",
              "      <td>Biwott</td>\n",
              "    </tr>\n",
              "    <tr>\n",
              "      <th>4</th>\n",
              "      <td>Chebet, Wilson</td>\n",
              "      <td>31</td>\n",
              "      <td>M</td>\n",
              "      <td>Marakwet</td>\n",
              "      <td>NaN</td>\n",
              "      <td>KEN</td>\n",
              "      <td>2:12:35</td>\n",
              "      <td>5</td>\n",
              "      <td>5</td>\n",
              "      <td>2015</td>\n",
              "      <td>Wilson</td>\n",
              "      <td>Chebet</td>\n",
              "    </tr>\n",
              "    <tr>\n",
              "      <th>5</th>\n",
              "      <td>Abdirahman, Abdi</td>\n",
              "      <td>40</td>\n",
              "      <td>M</td>\n",
              "      <td>Phoenix</td>\n",
              "      <td>AZ</td>\n",
              "      <td>USA</td>\n",
              "      <td>2:12:45</td>\n",
              "      <td>6</td>\n",
              "      <td>6</td>\n",
              "      <td>NaN</td>\n",
              "      <td>Abdi</td>\n",
              "      <td>Abdirahman</td>\n",
              "    </tr>\n",
              "    <tr>\n",
              "      <th>6</th>\n",
              "      <td>Maiyo, Augustus K.</td>\n",
              "      <td>33</td>\n",
              "      <td>M</td>\n",
              "      <td>Colorado Springs</td>\n",
              "      <td>CO</td>\n",
              "      <td>USA</td>\n",
              "      <td>2:13:16</td>\n",
              "      <td>7</td>\n",
              "      <td>7</td>\n",
              "      <td>NaN</td>\n",
              "      <td>Augustus K.</td>\n",
              "      <td>Maiyo</td>\n",
              "    </tr>\n",
              "    <tr>\n",
              "      <th>7</th>\n",
              "      <td>Sefir, Dino</td>\n",
              "      <td>28</td>\n",
              "      <td>M</td>\n",
              "      <td>Addis Ababa</td>\n",
              "      <td>NaN</td>\n",
              "      <td>ETH</td>\n",
              "      <td>2:14:26</td>\n",
              "      <td>8</td>\n",
              "      <td>8</td>\n",
              "      <td>NaN</td>\n",
              "      <td>Dino</td>\n",
              "      <td>Sefir</td>\n",
              "    </tr>\n",
              "  </tbody>\n",
              "</table>\n",
              "</div>"
            ],
            "text/plain": [
              "                 Name  Age M/F  ... Years Ran   First Name   Last Name\n",
              "0     Kirui, Geoffrey   24   M  ...       NaN     Geoffrey       Kirui\n",
              "1         Rupp, Galen   30   M  ...       NaN        Galen        Rupp\n",
              "2       Osako, Suguru   25   M  ...       NaN       Suguru       Osako\n",
              "3    Biwott, Shadrack   32   M  ...       NaN     Shadrack      Biwott\n",
              "4      Chebet, Wilson   31   M  ...      2015       Wilson      Chebet\n",
              "5    Abdirahman, Abdi   40   M  ...       NaN         Abdi  Abdirahman\n",
              "6  Maiyo, Augustus K.   33   M  ...       NaN  Augustus K.       Maiyo\n",
              "7         Sefir, Dino   28   M  ...       NaN         Dino       Sefir\n",
              "\n",
              "[8 rows x 12 columns]"
            ]
          },
          "metadata": {},
          "execution_count": 74
        }
      ]
    },
    {
      "cell_type": "code",
      "metadata": {
        "colab": {
          "base_uri": "https://localhost:8080/"
        },
        "id": "qLNwJJ5xaZej",
        "outputId": "e4198705-be39-4709-aef4-244431772e45"
      },
      "source": [
        "boston['M/F'].str.cat(boston.Age.astype(str),sep='_')"
      ],
      "execution_count": null,
      "outputs": [
        {
          "output_type": "execute_result",
          "data": {
            "text/plain": [
              "0      M_24\n",
              "1      M_30\n",
              "2      M_25\n",
              "3      M_32\n",
              "4      M_31\n",
              "       ... \n",
              "995    M_38\n",
              "996    M_43\n",
              "997    M_40\n",
              "998    M_35\n",
              "999    M_35\n",
              "Name: M/F, Length: 1000, dtype: object"
            ]
          },
          "metadata": {},
          "execution_count": 75
        }
      ]
    },
    {
      "cell_type": "markdown",
      "metadata": {
        "id": "jelYk0aWcupd"
      },
      "source": [
        "### More Split Parameters"
      ]
    },
    {
      "cell_type": "code",
      "metadata": {
        "id": "NtO51OzzajeA"
      },
      "source": [
        "# boston['First Name'] = boston.Name.str.split(', ').str.get(1)\n",
        "# boston['Last Name'] = boston.Name.str.split(', ').str.get(0)"
      ],
      "execution_count": null,
      "outputs": []
    },
    {
      "cell_type": "code",
      "metadata": {
        "id": "T0IU0cyzc1w_"
      },
      "source": [
        "boston.drop(['First Name','Last Name'],axis=1,inplace=True)"
      ],
      "execution_count": null,
      "outputs": []
    },
    {
      "cell_type": "code",
      "metadata": {
        "colab": {
          "base_uri": "https://localhost:8080/",
          "height": 204
        },
        "id": "4xFesD1mdglL",
        "outputId": "f2e48b6f-c61b-42d6-924c-304f8625d5fc"
      },
      "source": [
        "boston.head()"
      ],
      "execution_count": null,
      "outputs": [
        {
          "output_type": "execute_result",
          "data": {
            "text/html": [
              "<div>\n",
              "<style scoped>\n",
              "    .dataframe tbody tr th:only-of-type {\n",
              "        vertical-align: middle;\n",
              "    }\n",
              "\n",
              "    .dataframe tbody tr th {\n",
              "        vertical-align: top;\n",
              "    }\n",
              "\n",
              "    .dataframe thead th {\n",
              "        text-align: right;\n",
              "    }\n",
              "</style>\n",
              "<table border=\"1\" class=\"dataframe\">\n",
              "  <thead>\n",
              "    <tr style=\"text-align: right;\">\n",
              "      <th></th>\n",
              "      <th>Name</th>\n",
              "      <th>Age</th>\n",
              "      <th>M/F</th>\n",
              "      <th>City</th>\n",
              "      <th>State</th>\n",
              "      <th>Country</th>\n",
              "      <th>Official Time</th>\n",
              "      <th>Overall</th>\n",
              "      <th>Gender</th>\n",
              "      <th>Years Ran</th>\n",
              "    </tr>\n",
              "  </thead>\n",
              "  <tbody>\n",
              "    <tr>\n",
              "      <th>0</th>\n",
              "      <td>Kirui, Geoffrey</td>\n",
              "      <td>24</td>\n",
              "      <td>M</td>\n",
              "      <td>Keringet</td>\n",
              "      <td>NaN</td>\n",
              "      <td>KEN</td>\n",
              "      <td>2:09:37</td>\n",
              "      <td>1</td>\n",
              "      <td>1</td>\n",
              "      <td>NaN</td>\n",
              "    </tr>\n",
              "    <tr>\n",
              "      <th>1</th>\n",
              "      <td>Rupp, Galen</td>\n",
              "      <td>30</td>\n",
              "      <td>M</td>\n",
              "      <td>Portland</td>\n",
              "      <td>OR</td>\n",
              "      <td>USA</td>\n",
              "      <td>2:09:58</td>\n",
              "      <td>2</td>\n",
              "      <td>2</td>\n",
              "      <td>NaN</td>\n",
              "    </tr>\n",
              "    <tr>\n",
              "      <th>2</th>\n",
              "      <td>Osako, Suguru</td>\n",
              "      <td>25</td>\n",
              "      <td>M</td>\n",
              "      <td>Machida-City</td>\n",
              "      <td>NaN</td>\n",
              "      <td>JPN</td>\n",
              "      <td>2:10:28</td>\n",
              "      <td>3</td>\n",
              "      <td>3</td>\n",
              "      <td>NaN</td>\n",
              "    </tr>\n",
              "    <tr>\n",
              "      <th>3</th>\n",
              "      <td>Biwott, Shadrack</td>\n",
              "      <td>32</td>\n",
              "      <td>M</td>\n",
              "      <td>Mammoth Lakes</td>\n",
              "      <td>CA</td>\n",
              "      <td>USA</td>\n",
              "      <td>2:12:08</td>\n",
              "      <td>4</td>\n",
              "      <td>4</td>\n",
              "      <td>NaN</td>\n",
              "    </tr>\n",
              "    <tr>\n",
              "      <th>4</th>\n",
              "      <td>Chebet, Wilson</td>\n",
              "      <td>31</td>\n",
              "      <td>M</td>\n",
              "      <td>Marakwet</td>\n",
              "      <td>NaN</td>\n",
              "      <td>KEN</td>\n",
              "      <td>2:12:35</td>\n",
              "      <td>5</td>\n",
              "      <td>5</td>\n",
              "      <td>2015</td>\n",
              "    </tr>\n",
              "  </tbody>\n",
              "</table>\n",
              "</div>"
            ],
            "text/plain": [
              "               Name  Age M/F  ... Overall Gender Years Ran\n",
              "0   Kirui, Geoffrey   24   M  ...       1      1       NaN\n",
              "1       Rupp, Galen   30   M  ...       2      2       NaN\n",
              "2     Osako, Suguru   25   M  ...       3      3       NaN\n",
              "3  Biwott, Shadrack   32   M  ...       4      4       NaN\n",
              "4    Chebet, Wilson   31   M  ...       5      5      2015\n",
              "\n",
              "[5 rows x 10 columns]"
            ]
          },
          "metadata": {},
          "execution_count": 78
        }
      ]
    },
    {
      "cell_type": "code",
      "metadata": {
        "id": "7hBA9a-UdhTv"
      },
      "source": [
        "# the expand params"
      ],
      "execution_count": null,
      "outputs": []
    },
    {
      "cell_type": "code",
      "metadata": {
        "colab": {
          "base_uri": "https://localhost:8080/",
          "height": 419
        },
        "id": "DvKGLtLhdjAb",
        "outputId": "9b07e7d6-84aa-478f-c70a-68a2463f5e55"
      },
      "source": [
        "boston.Name.str.split(', ',expand=True)"
      ],
      "execution_count": null,
      "outputs": [
        {
          "output_type": "execute_result",
          "data": {
            "text/html": [
              "<div>\n",
              "<style scoped>\n",
              "    .dataframe tbody tr th:only-of-type {\n",
              "        vertical-align: middle;\n",
              "    }\n",
              "\n",
              "    .dataframe tbody tr th {\n",
              "        vertical-align: top;\n",
              "    }\n",
              "\n",
              "    .dataframe thead th {\n",
              "        text-align: right;\n",
              "    }\n",
              "</style>\n",
              "<table border=\"1\" class=\"dataframe\">\n",
              "  <thead>\n",
              "    <tr style=\"text-align: right;\">\n",
              "      <th></th>\n",
              "      <th>0</th>\n",
              "      <th>1</th>\n",
              "    </tr>\n",
              "  </thead>\n",
              "  <tbody>\n",
              "    <tr>\n",
              "      <th>0</th>\n",
              "      <td>Kirui</td>\n",
              "      <td>Geoffrey</td>\n",
              "    </tr>\n",
              "    <tr>\n",
              "      <th>1</th>\n",
              "      <td>Rupp</td>\n",
              "      <td>Galen</td>\n",
              "    </tr>\n",
              "    <tr>\n",
              "      <th>2</th>\n",
              "      <td>Osako</td>\n",
              "      <td>Suguru</td>\n",
              "    </tr>\n",
              "    <tr>\n",
              "      <th>3</th>\n",
              "      <td>Biwott</td>\n",
              "      <td>Shadrack</td>\n",
              "    </tr>\n",
              "    <tr>\n",
              "      <th>4</th>\n",
              "      <td>Chebet</td>\n",
              "      <td>Wilson</td>\n",
              "    </tr>\n",
              "    <tr>\n",
              "      <th>...</th>\n",
              "      <td>...</td>\n",
              "      <td>...</td>\n",
              "    </tr>\n",
              "    <tr>\n",
              "      <th>995</th>\n",
              "      <td>Larosa</td>\n",
              "      <td>Mark</td>\n",
              "    </tr>\n",
              "    <tr>\n",
              "      <th>996</th>\n",
              "      <td>Williamson</td>\n",
              "      <td>Jerry A</td>\n",
              "    </tr>\n",
              "    <tr>\n",
              "      <th>997</th>\n",
              "      <td>Mccue</td>\n",
              "      <td>Daniel T</td>\n",
              "    </tr>\n",
              "    <tr>\n",
              "      <th>998</th>\n",
              "      <td>Larosa</td>\n",
              "      <td>John</td>\n",
              "    </tr>\n",
              "    <tr>\n",
              "      <th>999</th>\n",
              "      <td>Sanchez</td>\n",
              "      <td>Sam R</td>\n",
              "    </tr>\n",
              "  </tbody>\n",
              "</table>\n",
              "<p>1000 rows × 2 columns</p>\n",
              "</div>"
            ],
            "text/plain": [
              "              0         1\n",
              "0         Kirui  Geoffrey\n",
              "1          Rupp     Galen\n",
              "2         Osako    Suguru\n",
              "3        Biwott  Shadrack\n",
              "4        Chebet    Wilson\n",
              "..          ...       ...\n",
              "995      Larosa      Mark\n",
              "996  Williamson   Jerry A\n",
              "997       Mccue  Daniel T\n",
              "998      Larosa      John\n",
              "999     Sanchez     Sam R\n",
              "\n",
              "[1000 rows x 2 columns]"
            ]
          },
          "metadata": {},
          "execution_count": 80
        }
      ]
    },
    {
      "cell_type": "code",
      "metadata": {
        "colab": {
          "base_uri": "https://localhost:8080/"
        },
        "id": "7BbhxkbFfrby",
        "outputId": "7cdb0b93-fe3c-4d60-d0c9-92b7e25ef60a"
      },
      "source": [
        "boston.Name.str.split(expand=True).count(axis=1) == 5"
      ],
      "execution_count": null,
      "outputs": [
        {
          "output_type": "execute_result",
          "data": {
            "text/plain": [
              "0      False\n",
              "1      False\n",
              "2      False\n",
              "3      False\n",
              "4      False\n",
              "       ...  \n",
              "995    False\n",
              "996    False\n",
              "997    False\n",
              "998    False\n",
              "999    False\n",
              "Length: 1000, dtype: bool"
            ]
          },
          "metadata": {},
          "execution_count": 81
        }
      ]
    },
    {
      "cell_type": "code",
      "metadata": {
        "colab": {
          "base_uri": "https://localhost:8080/"
        },
        "id": "-YIQnmnkfwqo",
        "outputId": "b1c05257-3323-4411-f034-8a9f9910c37f"
      },
      "source": [
        "boston.Name[boston.Name.str.split(expand=True).count(axis=1) == 5]"
      ],
      "execution_count": null,
      "outputs": [
        {
          "output_type": "execute_result",
          "data": {
            "text/plain": [
              "203    Cifuentes Fetiva, Miguel Angel Sr.\n",
              "467      Martinez Solano, Juan Manuel Jr.\n",
              "678        Melendez, Carlos Manuel M. Sr.\n",
              "733        Castano Gonzalez, Angel U. Sr.\n",
              "Name: Name, dtype: object"
            ]
          },
          "metadata": {},
          "execution_count": 82
        }
      ]
    },
    {
      "cell_type": "code",
      "metadata": {
        "colab": {
          "base_uri": "https://localhost:8080/",
          "height": 419
        },
        "id": "WZObgztrgPbf",
        "outputId": "e42e1f1e-7a96-4cf6-a1bc-adba9947f5e4"
      },
      "source": [
        "boston.Name.str.split(expand=True,n=1)"
      ],
      "execution_count": null,
      "outputs": [
        {
          "output_type": "execute_result",
          "data": {
            "text/html": [
              "<div>\n",
              "<style scoped>\n",
              "    .dataframe tbody tr th:only-of-type {\n",
              "        vertical-align: middle;\n",
              "    }\n",
              "\n",
              "    .dataframe tbody tr th {\n",
              "        vertical-align: top;\n",
              "    }\n",
              "\n",
              "    .dataframe thead th {\n",
              "        text-align: right;\n",
              "    }\n",
              "</style>\n",
              "<table border=\"1\" class=\"dataframe\">\n",
              "  <thead>\n",
              "    <tr style=\"text-align: right;\">\n",
              "      <th></th>\n",
              "      <th>0</th>\n",
              "      <th>1</th>\n",
              "    </tr>\n",
              "  </thead>\n",
              "  <tbody>\n",
              "    <tr>\n",
              "      <th>0</th>\n",
              "      <td>Kirui,</td>\n",
              "      <td>Geoffrey</td>\n",
              "    </tr>\n",
              "    <tr>\n",
              "      <th>1</th>\n",
              "      <td>Rupp,</td>\n",
              "      <td>Galen</td>\n",
              "    </tr>\n",
              "    <tr>\n",
              "      <th>2</th>\n",
              "      <td>Osako,</td>\n",
              "      <td>Suguru</td>\n",
              "    </tr>\n",
              "    <tr>\n",
              "      <th>3</th>\n",
              "      <td>Biwott,</td>\n",
              "      <td>Shadrack</td>\n",
              "    </tr>\n",
              "    <tr>\n",
              "      <th>4</th>\n",
              "      <td>Chebet,</td>\n",
              "      <td>Wilson</td>\n",
              "    </tr>\n",
              "    <tr>\n",
              "      <th>...</th>\n",
              "      <td>...</td>\n",
              "      <td>...</td>\n",
              "    </tr>\n",
              "    <tr>\n",
              "      <th>995</th>\n",
              "      <td>Larosa,</td>\n",
              "      <td>Mark</td>\n",
              "    </tr>\n",
              "    <tr>\n",
              "      <th>996</th>\n",
              "      <td>Williamson,</td>\n",
              "      <td>Jerry A</td>\n",
              "    </tr>\n",
              "    <tr>\n",
              "      <th>997</th>\n",
              "      <td>Mccue,</td>\n",
              "      <td>Daniel T</td>\n",
              "    </tr>\n",
              "    <tr>\n",
              "      <th>998</th>\n",
              "      <td>Larosa,</td>\n",
              "      <td>John</td>\n",
              "    </tr>\n",
              "    <tr>\n",
              "      <th>999</th>\n",
              "      <td>Sanchez,</td>\n",
              "      <td>Sam R</td>\n",
              "    </tr>\n",
              "  </tbody>\n",
              "</table>\n",
              "<p>1000 rows × 2 columns</p>\n",
              "</div>"
            ],
            "text/plain": [
              "               0         1\n",
              "0         Kirui,  Geoffrey\n",
              "1          Rupp,     Galen\n",
              "2         Osako,    Suguru\n",
              "3        Biwott,  Shadrack\n",
              "4        Chebet,    Wilson\n",
              "..           ...       ...\n",
              "995      Larosa,      Mark\n",
              "996  Williamson,   Jerry A\n",
              "997       Mccue,  Daniel T\n",
              "998      Larosa,      John\n",
              "999     Sanchez,     Sam R\n",
              "\n",
              "[1000 rows x 2 columns]"
            ]
          },
          "metadata": {},
          "execution_count": 83
        }
      ]
    },
    {
      "cell_type": "code",
      "metadata": {
        "id": "uNQLdHiFf8uE"
      },
      "source": [
        "# boston.Name.str.split(expand=True,n=2)\n",
        "boston[['First Name','Last Name']] = boston.Name.str.split(', ',expand=True)"
      ],
      "execution_count": null,
      "outputs": []
    },
    {
      "cell_type": "code",
      "metadata": {
        "colab": {
          "base_uri": "https://localhost:8080/",
          "height": 204
        },
        "id": "CndKUskegbpV",
        "outputId": "eee3887b-6265-4522-88c8-d740c1405949"
      },
      "source": [
        "boston.head()"
      ],
      "execution_count": null,
      "outputs": [
        {
          "output_type": "execute_result",
          "data": {
            "text/html": [
              "<div>\n",
              "<style scoped>\n",
              "    .dataframe tbody tr th:only-of-type {\n",
              "        vertical-align: middle;\n",
              "    }\n",
              "\n",
              "    .dataframe tbody tr th {\n",
              "        vertical-align: top;\n",
              "    }\n",
              "\n",
              "    .dataframe thead th {\n",
              "        text-align: right;\n",
              "    }\n",
              "</style>\n",
              "<table border=\"1\" class=\"dataframe\">\n",
              "  <thead>\n",
              "    <tr style=\"text-align: right;\">\n",
              "      <th></th>\n",
              "      <th>Name</th>\n",
              "      <th>Age</th>\n",
              "      <th>M/F</th>\n",
              "      <th>City</th>\n",
              "      <th>State</th>\n",
              "      <th>Country</th>\n",
              "      <th>Official Time</th>\n",
              "      <th>Overall</th>\n",
              "      <th>Gender</th>\n",
              "      <th>Years Ran</th>\n",
              "      <th>First Name</th>\n",
              "      <th>Last Name</th>\n",
              "    </tr>\n",
              "  </thead>\n",
              "  <tbody>\n",
              "    <tr>\n",
              "      <th>0</th>\n",
              "      <td>Kirui, Geoffrey</td>\n",
              "      <td>24</td>\n",
              "      <td>M</td>\n",
              "      <td>Keringet</td>\n",
              "      <td>NaN</td>\n",
              "      <td>KEN</td>\n",
              "      <td>2:09:37</td>\n",
              "      <td>1</td>\n",
              "      <td>1</td>\n",
              "      <td>NaN</td>\n",
              "      <td>Kirui</td>\n",
              "      <td>Geoffrey</td>\n",
              "    </tr>\n",
              "    <tr>\n",
              "      <th>1</th>\n",
              "      <td>Rupp, Galen</td>\n",
              "      <td>30</td>\n",
              "      <td>M</td>\n",
              "      <td>Portland</td>\n",
              "      <td>OR</td>\n",
              "      <td>USA</td>\n",
              "      <td>2:09:58</td>\n",
              "      <td>2</td>\n",
              "      <td>2</td>\n",
              "      <td>NaN</td>\n",
              "      <td>Rupp</td>\n",
              "      <td>Galen</td>\n",
              "    </tr>\n",
              "    <tr>\n",
              "      <th>2</th>\n",
              "      <td>Osako, Suguru</td>\n",
              "      <td>25</td>\n",
              "      <td>M</td>\n",
              "      <td>Machida-City</td>\n",
              "      <td>NaN</td>\n",
              "      <td>JPN</td>\n",
              "      <td>2:10:28</td>\n",
              "      <td>3</td>\n",
              "      <td>3</td>\n",
              "      <td>NaN</td>\n",
              "      <td>Osako</td>\n",
              "      <td>Suguru</td>\n",
              "    </tr>\n",
              "    <tr>\n",
              "      <th>3</th>\n",
              "      <td>Biwott, Shadrack</td>\n",
              "      <td>32</td>\n",
              "      <td>M</td>\n",
              "      <td>Mammoth Lakes</td>\n",
              "      <td>CA</td>\n",
              "      <td>USA</td>\n",
              "      <td>2:12:08</td>\n",
              "      <td>4</td>\n",
              "      <td>4</td>\n",
              "      <td>NaN</td>\n",
              "      <td>Biwott</td>\n",
              "      <td>Shadrack</td>\n",
              "    </tr>\n",
              "    <tr>\n",
              "      <th>4</th>\n",
              "      <td>Chebet, Wilson</td>\n",
              "      <td>31</td>\n",
              "      <td>M</td>\n",
              "      <td>Marakwet</td>\n",
              "      <td>NaN</td>\n",
              "      <td>KEN</td>\n",
              "      <td>2:12:35</td>\n",
              "      <td>5</td>\n",
              "      <td>5</td>\n",
              "      <td>2015</td>\n",
              "      <td>Chebet</td>\n",
              "      <td>Wilson</td>\n",
              "    </tr>\n",
              "  </tbody>\n",
              "</table>\n",
              "</div>"
            ],
            "text/plain": [
              "               Name  Age M/F  ... Years Ran First Name Last Name\n",
              "0   Kirui, Geoffrey   24   M  ...       NaN      Kirui  Geoffrey\n",
              "1       Rupp, Galen   30   M  ...       NaN       Rupp     Galen\n",
              "2     Osako, Suguru   25   M  ...       NaN      Osako    Suguru\n",
              "3  Biwott, Shadrack   32   M  ...       NaN     Biwott  Shadrack\n",
              "4    Chebet, Wilson   31   M  ...      2015     Chebet    Wilson\n",
              "\n",
              "[5 rows x 12 columns]"
            ]
          },
          "metadata": {},
          "execution_count": 85
        }
      ]
    },
    {
      "cell_type": "code",
      "metadata": {
        "colab": {
          "base_uri": "https://localhost:8080/"
        },
        "id": "RLnvRYtPgcmG",
        "outputId": "fe0790c0-96fc-4b76-d304-5588155ff441"
      },
      "source": [
        "# 1.\n",
        "boston['Last Name'][boston['Last Name'] =='James'].count()"
      ],
      "execution_count": null,
      "outputs": [
        {
          "output_type": "execute_result",
          "data": {
            "text/plain": [
              "5"
            ]
          },
          "metadata": {},
          "execution_count": 86
        }
      ]
    },
    {
      "cell_type": "code",
      "metadata": {
        "colab": {
          "base_uri": "https://localhost:8080/"
        },
        "id": "D2YH2ZQpDPIi",
        "outputId": "bf1ad0a3-add5-4a64-d596-835f05470fc3"
      },
      "source": [
        "boston['Last Name'].str.find('James').value_counts()"
      ],
      "execution_count": null,
      "outputs": [
        {
          "output_type": "execute_result",
          "data": {
            "text/plain": [
              "-1    988\n",
              " 0     12\n",
              "Name: Last Name, dtype: int64"
            ]
          },
          "metadata": {},
          "execution_count": 87
        }
      ]
    },
    {
      "cell_type": "code",
      "metadata": {
        "colab": {
          "base_uri": "https://localhost:8080/",
          "height": 421
        },
        "id": "5P11g1IFCw6L",
        "outputId": "32e825d3-2d3e-4b2c-f5a6-f21e269fa891"
      },
      "source": [
        "boston[boston['Last Name'].str.find('James') == 0]"
      ],
      "execution_count": null,
      "outputs": [
        {
          "output_type": "execute_result",
          "data": {
            "text/html": [
              "<div>\n",
              "<style scoped>\n",
              "    .dataframe tbody tr th:only-of-type {\n",
              "        vertical-align: middle;\n",
              "    }\n",
              "\n",
              "    .dataframe tbody tr th {\n",
              "        vertical-align: top;\n",
              "    }\n",
              "\n",
              "    .dataframe thead th {\n",
              "        text-align: right;\n",
              "    }\n",
              "</style>\n",
              "<table border=\"1\" class=\"dataframe\">\n",
              "  <thead>\n",
              "    <tr style=\"text-align: right;\">\n",
              "      <th></th>\n",
              "      <th>Name</th>\n",
              "      <th>Age</th>\n",
              "      <th>M/F</th>\n",
              "      <th>City</th>\n",
              "      <th>State</th>\n",
              "      <th>Country</th>\n",
              "      <th>Official Time</th>\n",
              "      <th>Overall</th>\n",
              "      <th>Gender</th>\n",
              "      <th>Years Ran</th>\n",
              "      <th>First Name</th>\n",
              "      <th>Last Name</th>\n",
              "    </tr>\n",
              "  </thead>\n",
              "  <tbody>\n",
              "    <tr>\n",
              "      <th>176</th>\n",
              "      <td>Miller, James L</td>\n",
              "      <td>25</td>\n",
              "      <td>M</td>\n",
              "      <td>Oak Ridge</td>\n",
              "      <td>TN</td>\n",
              "      <td>USA</td>\n",
              "      <td>2:39:33</td>\n",
              "      <td>177</td>\n",
              "      <td>157</td>\n",
              "      <td>NaN</td>\n",
              "      <td>Miller</td>\n",
              "      <td>James L</td>\n",
              "    </tr>\n",
              "    <tr>\n",
              "      <th>243</th>\n",
              "      <td>Lloyd, James</td>\n",
              "      <td>24</td>\n",
              "      <td>M</td>\n",
              "      <td>San Diego</td>\n",
              "      <td>CA</td>\n",
              "      <td>USA</td>\n",
              "      <td>2:42:38</td>\n",
              "      <td>244</td>\n",
              "      <td>220</td>\n",
              "      <td>2016</td>\n",
              "      <td>Lloyd</td>\n",
              "      <td>James</td>\n",
              "    </tr>\n",
              "    <tr>\n",
              "      <th>246</th>\n",
              "      <td>Jackson, James P</td>\n",
              "      <td>27</td>\n",
              "      <td>M</td>\n",
              "      <td>Denver</td>\n",
              "      <td>CO</td>\n",
              "      <td>USA</td>\n",
              "      <td>2:42:43</td>\n",
              "      <td>247</td>\n",
              "      <td>223</td>\n",
              "      <td>NaN</td>\n",
              "      <td>Jackson</td>\n",
              "      <td>James P</td>\n",
              "    </tr>\n",
              "    <tr>\n",
              "      <th>574</th>\n",
              "      <td>Onigkeit, James</td>\n",
              "      <td>49</td>\n",
              "      <td>M</td>\n",
              "      <td>Rochester</td>\n",
              "      <td>MN</td>\n",
              "      <td>USA</td>\n",
              "      <td>2:49:48</td>\n",
              "      <td>575</td>\n",
              "      <td>537</td>\n",
              "      <td>2016</td>\n",
              "      <td>Onigkeit</td>\n",
              "      <td>James</td>\n",
              "    </tr>\n",
              "    <tr>\n",
              "      <th>605</th>\n",
              "      <td>Fisher, James A</td>\n",
              "      <td>26</td>\n",
              "      <td>M</td>\n",
              "      <td>Arbutus</td>\n",
              "      <td>MD</td>\n",
              "      <td>USA</td>\n",
              "      <td>2:50:23</td>\n",
              "      <td>606</td>\n",
              "      <td>566</td>\n",
              "      <td>2015:2016</td>\n",
              "      <td>Fisher</td>\n",
              "      <td>James A</td>\n",
              "    </tr>\n",
              "    <tr>\n",
              "      <th>650</th>\n",
              "      <td>O'Sullivan, James</td>\n",
              "      <td>32</td>\n",
              "      <td>M</td>\n",
              "      <td>Arvada</td>\n",
              "      <td>CO</td>\n",
              "      <td>USA</td>\n",
              "      <td>2:51:15</td>\n",
              "      <td>651</td>\n",
              "      <td>611</td>\n",
              "      <td>2016</td>\n",
              "      <td>O'Sullivan</td>\n",
              "      <td>James</td>\n",
              "    </tr>\n",
              "    <tr>\n",
              "      <th>657</th>\n",
              "      <td>Perez, James P.</td>\n",
              "      <td>25</td>\n",
              "      <td>M</td>\n",
              "      <td>Charlotte</td>\n",
              "      <td>NC</td>\n",
              "      <td>USA</td>\n",
              "      <td>2:51:19</td>\n",
              "      <td>658</td>\n",
              "      <td>618</td>\n",
              "      <td>NaN</td>\n",
              "      <td>Perez</td>\n",
              "      <td>James P.</td>\n",
              "    </tr>\n",
              "    <tr>\n",
              "      <th>723</th>\n",
              "      <td>Newhouse, James B</td>\n",
              "      <td>24</td>\n",
              "      <td>M</td>\n",
              "      <td>Boston</td>\n",
              "      <td>MA</td>\n",
              "      <td>USA</td>\n",
              "      <td>2:52:30</td>\n",
              "      <td>724</td>\n",
              "      <td>681</td>\n",
              "      <td>NaN</td>\n",
              "      <td>Newhouse</td>\n",
              "      <td>James B</td>\n",
              "    </tr>\n",
              "    <tr>\n",
              "      <th>782</th>\n",
              "      <td>Greenham, James D.</td>\n",
              "      <td>40</td>\n",
              "      <td>M</td>\n",
              "      <td>Austin</td>\n",
              "      <td>TX</td>\n",
              "      <td>USA</td>\n",
              "      <td>2:53:14</td>\n",
              "      <td>783</td>\n",
              "      <td>737</td>\n",
              "      <td>NaN</td>\n",
              "      <td>Greenham</td>\n",
              "      <td>James D.</td>\n",
              "    </tr>\n",
              "    <tr>\n",
              "      <th>923</th>\n",
              "      <td>Baek, James</td>\n",
              "      <td>23</td>\n",
              "      <td>M</td>\n",
              "      <td>Indianapolis</td>\n",
              "      <td>IN</td>\n",
              "      <td>USA</td>\n",
              "      <td>2:55:12</td>\n",
              "      <td>924</td>\n",
              "      <td>873</td>\n",
              "      <td>2016</td>\n",
              "      <td>Baek</td>\n",
              "      <td>James</td>\n",
              "    </tr>\n",
              "    <tr>\n",
              "      <th>975</th>\n",
              "      <td>Mcevoy, James R</td>\n",
              "      <td>32</td>\n",
              "      <td>M</td>\n",
              "      <td>Brooklyn</td>\n",
              "      <td>NY</td>\n",
              "      <td>USA</td>\n",
              "      <td>2:55:56</td>\n",
              "      <td>976</td>\n",
              "      <td>921</td>\n",
              "      <td>NaN</td>\n",
              "      <td>Mcevoy</td>\n",
              "      <td>James R</td>\n",
              "    </tr>\n",
              "    <tr>\n",
              "      <th>976</th>\n",
              "      <td>Blowers, James</td>\n",
              "      <td>45</td>\n",
              "      <td>M</td>\n",
              "      <td>Cary</td>\n",
              "      <td>NC</td>\n",
              "      <td>USA</td>\n",
              "      <td>2:55:57</td>\n",
              "      <td>977</td>\n",
              "      <td>922</td>\n",
              "      <td>NaN</td>\n",
              "      <td>Blowers</td>\n",
              "      <td>James</td>\n",
              "    </tr>\n",
              "  </tbody>\n",
              "</table>\n",
              "</div>"
            ],
            "text/plain": [
              "                   Name  Age M/F  ...  Years Ran  First Name Last Name\n",
              "176     Miller, James L   25   M  ...        NaN      Miller   James L\n",
              "243        Lloyd, James   24   M  ...       2016       Lloyd     James\n",
              "246    Jackson, James P   27   M  ...        NaN     Jackson   James P\n",
              "574     Onigkeit, James   49   M  ...       2016    Onigkeit     James\n",
              "605     Fisher, James A   26   M  ...  2015:2016      Fisher   James A\n",
              "650   O'Sullivan, James   32   M  ...       2016  O'Sullivan     James\n",
              "657     Perez, James P.   25   M  ...        NaN       Perez  James P.\n",
              "723   Newhouse, James B   24   M  ...        NaN    Newhouse   James B\n",
              "782  Greenham, James D.   40   M  ...        NaN    Greenham  James D.\n",
              "923         Baek, James   23   M  ...       2016        Baek     James\n",
              "975     Mcevoy, James R   32   M  ...        NaN      Mcevoy   James R\n",
              "976      Blowers, James   45   M  ...        NaN     Blowers     James\n",
              "\n",
              "[12 rows x 12 columns]"
            ]
          },
          "metadata": {},
          "execution_count": 88
        }
      ]
    },
    {
      "cell_type": "code",
      "metadata": {
        "id": "2L63gu1aASzV"
      },
      "source": [
        "# 2.\n",
        "city_parts = boston.City.str.split('-',expand=True)"
      ],
      "execution_count": null,
      "outputs": []
    },
    {
      "cell_type": "code",
      "metadata": {
        "colab": {
          "base_uri": "https://localhost:8080/"
        },
        "id": "Gbh40r02A0Lf",
        "outputId": "088c6fb0-1906-4bba-dccc-852bedb22c5e"
      },
      "source": [
        "#3. \n",
        "boston.City[city_parts.count(axis=1) >1]"
      ],
      "execution_count": null,
      "outputs": [
        {
          "output_type": "execute_result",
          "data": {
            "text/plain": [
              "2                    Machida-City\n",
              "35                 Sao Paulo - Sp\n",
              "188                  Baie-St-Paul\n",
              "201            Houghton-Le-Spring\n",
              "371          Boulogne-Billancourt\n",
              "420                    Mont-Royal\n",
              "585                Gif-Sur-Yvette\n",
              "615        Fossambault-Sur-Le-Lac\n",
              "724         Wiesbaden-Breckenheim\n",
              "727                    Saint-Tite\n",
              "794                   Marica - Rj\n",
              "820    Sainte-Catherine-De-Hatley\n",
              "830                    Pont-Rouge\n",
              "Name: City, dtype: object"
            ]
          },
          "metadata": {},
          "execution_count": 90
        }
      ]
    },
    {
      "cell_type": "code",
      "metadata": {
        "colab": {
          "base_uri": "https://localhost:8080/"
        },
        "id": "lzlBQKggBbJT",
        "outputId": "70538c46-6e88-4490-cec0-a323e1598cf3"
      },
      "source": [
        "# Bonus : which country has long city name?\n",
        "boston[city_parts.count(axis=1) >1].Country.value_counts()"
      ],
      "execution_count": null,
      "outputs": [
        {
          "output_type": "execute_result",
          "data": {
            "text/plain": [
              "CAN    6\n",
              "FRA    2\n",
              "BRA    2\n",
              "GBR    1\n",
              "JPN    1\n",
              "GER    1\n",
              "Name: Country, dtype: int64"
            ]
          },
          "metadata": {},
          "execution_count": 91
        }
      ]
    },
    {
      "cell_type": "code",
      "metadata": {
        "id": "AGnGVycHEGRU"
      },
      "source": [
        ""
      ],
      "execution_count": null,
      "outputs": []
    },
    {
      "cell_type": "markdown",
      "metadata": {
        "id": "KeQvhc-ZEQOo"
      },
      "source": [
        "### Slicing Substring"
      ]
    },
    {
      "cell_type": "code",
      "metadata": {
        "colab": {
          "base_uri": "https://localhost:8080/",
          "height": 35
        },
        "id": "DAQllTpsESXD",
        "outputId": "6def0dae-a14f-45e1-b679-e2e0956873ef"
      },
      "source": [
        "s"
      ],
      "execution_count": null,
      "outputs": [
        {
          "output_type": "execute_result",
          "data": {
            "application/vnd.google.colaboratory.intrinsic+json": {
              "type": "string"
            },
            "text/plain": [
              "'Welcome to the text manipulation section'"
            ]
          },
          "metadata": {},
          "execution_count": 92
        }
      ]
    },
    {
      "cell_type": "code",
      "metadata": {
        "id": "bmXe0zXbEaU7"
      },
      "source": [
        "# slice() + []"
      ],
      "execution_count": null,
      "outputs": []
    },
    {
      "cell_type": "code",
      "metadata": {
        "colab": {
          "base_uri": "https://localhost:8080/"
        },
        "id": "Bni1CABMEb5V",
        "outputId": "9ec8a320-789b-4157-da0c-25223eb55588"
      },
      "source": [
        "slice(0,7,1)"
      ],
      "execution_count": null,
      "outputs": [
        {
          "output_type": "execute_result",
          "data": {
            "text/plain": [
              "slice(0, 7, 1)"
            ]
          },
          "metadata": {},
          "execution_count": 94
        }
      ]
    },
    {
      "cell_type": "code",
      "metadata": {
        "colab": {
          "base_uri": "https://localhost:8080/",
          "height": 35
        },
        "id": "RP7Uy_uuFB1h",
        "outputId": "c491d890-0339-4dc1-bcce-afd72cb67b65"
      },
      "source": [
        "s[slice(0,7,1)]"
      ],
      "execution_count": null,
      "outputs": [
        {
          "output_type": "execute_result",
          "data": {
            "application/vnd.google.colaboratory.intrinsic+json": {
              "type": "string"
            },
            "text/plain": [
              "'Welcome'"
            ]
          },
          "metadata": {},
          "execution_count": 95
        }
      ]
    },
    {
      "cell_type": "code",
      "metadata": {
        "colab": {
          "base_uri": "https://localhost:8080/",
          "height": 35
        },
        "id": "MXUHlBCxFDrr",
        "outputId": "85091886-cba8-44fc-d3d2-b50ca9065489"
      },
      "source": [
        "s[slice(7)]"
      ],
      "execution_count": null,
      "outputs": [
        {
          "output_type": "execute_result",
          "data": {
            "application/vnd.google.colaboratory.intrinsic+json": {
              "type": "string"
            },
            "text/plain": [
              "'Welcome'"
            ]
          },
          "metadata": {},
          "execution_count": 96
        }
      ]
    },
    {
      "cell_type": "code",
      "metadata": {
        "colab": {
          "base_uri": "https://localhost:8080/",
          "height": 35
        },
        "id": "eejL-kwmFFME",
        "outputId": "69bdf799-59d4-4ac2-9a99-cd0e855301e1"
      },
      "source": [
        "s[0:7:1]"
      ],
      "execution_count": null,
      "outputs": [
        {
          "output_type": "execute_result",
          "data": {
            "application/vnd.google.colaboratory.intrinsic+json": {
              "type": "string"
            },
            "text/plain": [
              "'Welcome'"
            ]
          },
          "metadata": {},
          "execution_count": 97
        }
      ]
    },
    {
      "cell_type": "code",
      "metadata": {
        "colab": {
          "base_uri": "https://localhost:8080/",
          "height": 35
        },
        "id": "YqFpA7vbFdjY",
        "outputId": "7f96edae-064d-4483-e077-4e4c45d67f69"
      },
      "source": [
        "s[:7:]"
      ],
      "execution_count": null,
      "outputs": [
        {
          "output_type": "execute_result",
          "data": {
            "application/vnd.google.colaboratory.intrinsic+json": {
              "type": "string"
            },
            "text/plain": [
              "'Welcome'"
            ]
          },
          "metadata": {},
          "execution_count": 98
        }
      ]
    },
    {
      "cell_type": "code",
      "metadata": {
        "colab": {
          "base_uri": "https://localhost:8080/",
          "height": 204
        },
        "id": "wYHKNwT6FfQ0",
        "outputId": "37783c3b-0800-4a54-94aa-7206e5523cf8"
      },
      "source": [
        "boston.head()"
      ],
      "execution_count": null,
      "outputs": [
        {
          "output_type": "execute_result",
          "data": {
            "text/html": [
              "<div>\n",
              "<style scoped>\n",
              "    .dataframe tbody tr th:only-of-type {\n",
              "        vertical-align: middle;\n",
              "    }\n",
              "\n",
              "    .dataframe tbody tr th {\n",
              "        vertical-align: top;\n",
              "    }\n",
              "\n",
              "    .dataframe thead th {\n",
              "        text-align: right;\n",
              "    }\n",
              "</style>\n",
              "<table border=\"1\" class=\"dataframe\">\n",
              "  <thead>\n",
              "    <tr style=\"text-align: right;\">\n",
              "      <th></th>\n",
              "      <th>Name</th>\n",
              "      <th>Age</th>\n",
              "      <th>M/F</th>\n",
              "      <th>City</th>\n",
              "      <th>State</th>\n",
              "      <th>Country</th>\n",
              "      <th>Official Time</th>\n",
              "      <th>Overall</th>\n",
              "      <th>Gender</th>\n",
              "      <th>Years Ran</th>\n",
              "      <th>First Name</th>\n",
              "      <th>Last Name</th>\n",
              "    </tr>\n",
              "  </thead>\n",
              "  <tbody>\n",
              "    <tr>\n",
              "      <th>0</th>\n",
              "      <td>Kirui, Geoffrey</td>\n",
              "      <td>24</td>\n",
              "      <td>M</td>\n",
              "      <td>Keringet</td>\n",
              "      <td>NaN</td>\n",
              "      <td>KEN</td>\n",
              "      <td>2:09:37</td>\n",
              "      <td>1</td>\n",
              "      <td>1</td>\n",
              "      <td>NaN</td>\n",
              "      <td>Kirui</td>\n",
              "      <td>Geoffrey</td>\n",
              "    </tr>\n",
              "    <tr>\n",
              "      <th>1</th>\n",
              "      <td>Rupp, Galen</td>\n",
              "      <td>30</td>\n",
              "      <td>M</td>\n",
              "      <td>Portland</td>\n",
              "      <td>OR</td>\n",
              "      <td>USA</td>\n",
              "      <td>2:09:58</td>\n",
              "      <td>2</td>\n",
              "      <td>2</td>\n",
              "      <td>NaN</td>\n",
              "      <td>Rupp</td>\n",
              "      <td>Galen</td>\n",
              "    </tr>\n",
              "    <tr>\n",
              "      <th>2</th>\n",
              "      <td>Osako, Suguru</td>\n",
              "      <td>25</td>\n",
              "      <td>M</td>\n",
              "      <td>Machida-City</td>\n",
              "      <td>NaN</td>\n",
              "      <td>JPN</td>\n",
              "      <td>2:10:28</td>\n",
              "      <td>3</td>\n",
              "      <td>3</td>\n",
              "      <td>NaN</td>\n",
              "      <td>Osako</td>\n",
              "      <td>Suguru</td>\n",
              "    </tr>\n",
              "    <tr>\n",
              "      <th>3</th>\n",
              "      <td>Biwott, Shadrack</td>\n",
              "      <td>32</td>\n",
              "      <td>M</td>\n",
              "      <td>Mammoth Lakes</td>\n",
              "      <td>CA</td>\n",
              "      <td>USA</td>\n",
              "      <td>2:12:08</td>\n",
              "      <td>4</td>\n",
              "      <td>4</td>\n",
              "      <td>NaN</td>\n",
              "      <td>Biwott</td>\n",
              "      <td>Shadrack</td>\n",
              "    </tr>\n",
              "    <tr>\n",
              "      <th>4</th>\n",
              "      <td>Chebet, Wilson</td>\n",
              "      <td>31</td>\n",
              "      <td>M</td>\n",
              "      <td>Marakwet</td>\n",
              "      <td>NaN</td>\n",
              "      <td>KEN</td>\n",
              "      <td>2:12:35</td>\n",
              "      <td>5</td>\n",
              "      <td>5</td>\n",
              "      <td>2015</td>\n",
              "      <td>Chebet</td>\n",
              "      <td>Wilson</td>\n",
              "    </tr>\n",
              "  </tbody>\n",
              "</table>\n",
              "</div>"
            ],
            "text/plain": [
              "               Name  Age M/F  ... Years Ran First Name Last Name\n",
              "0   Kirui, Geoffrey   24   M  ...       NaN      Kirui  Geoffrey\n",
              "1       Rupp, Galen   30   M  ...       NaN       Rupp     Galen\n",
              "2     Osako, Suguru   25   M  ...       NaN      Osako    Suguru\n",
              "3  Biwott, Shadrack   32   M  ...       NaN     Biwott  Shadrack\n",
              "4    Chebet, Wilson   31   M  ...      2015     Chebet    Wilson\n",
              "\n",
              "[5 rows x 12 columns]"
            ]
          },
          "metadata": {},
          "execution_count": 99
        }
      ]
    },
    {
      "cell_type": "code",
      "metadata": {
        "colab": {
          "base_uri": "https://localhost:8080/"
        },
        "id": "UMJ61XRNFgrp",
        "outputId": "a7696f95-6979-44e9-93b6-b7bd29f30215"
      },
      "source": [
        "boston.Country.str.slice(0,2,1)"
      ],
      "execution_count": null,
      "outputs": [
        {
          "output_type": "execute_result",
          "data": {
            "text/plain": [
              "0      KE\n",
              "1      US\n",
              "2      JP\n",
              "3      US\n",
              "4      KE\n",
              "       ..\n",
              "995    US\n",
              "996    US\n",
              "997    US\n",
              "998    US\n",
              "999    US\n",
              "Name: Country, Length: 1000, dtype: object"
            ]
          },
          "metadata": {},
          "execution_count": 100
        }
      ]
    },
    {
      "cell_type": "code",
      "metadata": {
        "colab": {
          "base_uri": "https://localhost:8080/"
        },
        "id": "0tPevyLxFohe",
        "outputId": "000c54e2-ae21-4d5c-8efc-fba93f17362d"
      },
      "source": [
        "boston.Country.str.slice(start=-2,step=1,stop=None)"
      ],
      "execution_count": null,
      "outputs": [
        {
          "output_type": "execute_result",
          "data": {
            "text/plain": [
              "0      EN\n",
              "1      SA\n",
              "2      PN\n",
              "3      SA\n",
              "4      EN\n",
              "       ..\n",
              "995    SA\n",
              "996    SA\n",
              "997    SA\n",
              "998    SA\n",
              "999    SA\n",
              "Name: Country, Length: 1000, dtype: object"
            ]
          },
          "metadata": {},
          "execution_count": 101
        }
      ]
    },
    {
      "cell_type": "markdown",
      "metadata": {
        "id": "ERlfTyMXG_Ah"
      },
      "source": [
        "### Masking With String Methods"
      ]
    },
    {
      "cell_type": "code",
      "metadata": {
        "id": "CCVPYv_RGOyr"
      },
      "source": [
        "# Boolean masking (or indexing) :\n",
        "# - create sequence of booleans\n",
        "# - use sequence to select from dataframe (or series)"
      ],
      "execution_count": null,
      "outputs": []
    },
    {
      "cell_type": "code",
      "metadata": {
        "id": "SPsR797kJETJ"
      },
      "source": [
        "# Q: Select all the Italian runners "
      ],
      "execution_count": null,
      "outputs": []
    },
    {
      "cell_type": "code",
      "metadata": {
        "colab": {
          "base_uri": "https://localhost:8080/"
        },
        "id": "LmC9EuMkJhml",
        "outputId": "8803f6c4-85e6-4806-c1a3-a39b58739199"
      },
      "source": [
        "boston.Country == 'ITA'"
      ],
      "execution_count": null,
      "outputs": [
        {
          "output_type": "execute_result",
          "data": {
            "text/plain": [
              "0      False\n",
              "1      False\n",
              "2      False\n",
              "3      False\n",
              "4      False\n",
              "       ...  \n",
              "995    False\n",
              "996    False\n",
              "997    False\n",
              "998    False\n",
              "999    False\n",
              "Name: Country, Length: 1000, dtype: bool"
            ]
          },
          "metadata": {},
          "execution_count": 104
        }
      ]
    },
    {
      "cell_type": "code",
      "metadata": {
        "colab": {
          "base_uri": "https://localhost:8080/"
        },
        "id": "wEoTK7zyKAqA",
        "outputId": "4cf6cbf6-dd61-4663-a614-055aa6d85545"
      },
      "source": [
        "boston.Country.str.match('ITA')"
      ],
      "execution_count": null,
      "outputs": [
        {
          "output_type": "execute_result",
          "data": {
            "text/plain": [
              "0      False\n",
              "1      False\n",
              "2      False\n",
              "3      False\n",
              "4      False\n",
              "       ...  \n",
              "995    False\n",
              "996    False\n",
              "997    False\n",
              "998    False\n",
              "999    False\n",
              "Name: Country, Length: 1000, dtype: bool"
            ]
          },
          "metadata": {},
          "execution_count": 105
        }
      ]
    },
    {
      "cell_type": "code",
      "metadata": {
        "colab": {
          "base_uri": "https://localhost:8080/",
          "height": 173
        },
        "id": "d4t7JB87KDSG",
        "outputId": "f999786b-36d5-4aa0-e3ab-e21645cba622"
      },
      "source": [
        "boston[boston.Country.str.match('ITA')]"
      ],
      "execution_count": null,
      "outputs": [
        {
          "output_type": "execute_result",
          "data": {
            "text/html": [
              "<div>\n",
              "<style scoped>\n",
              "    .dataframe tbody tr th:only-of-type {\n",
              "        vertical-align: middle;\n",
              "    }\n",
              "\n",
              "    .dataframe tbody tr th {\n",
              "        vertical-align: top;\n",
              "    }\n",
              "\n",
              "    .dataframe thead th {\n",
              "        text-align: right;\n",
              "    }\n",
              "</style>\n",
              "<table border=\"1\" class=\"dataframe\">\n",
              "  <thead>\n",
              "    <tr style=\"text-align: right;\">\n",
              "      <th></th>\n",
              "      <th>Name</th>\n",
              "      <th>Age</th>\n",
              "      <th>M/F</th>\n",
              "      <th>City</th>\n",
              "      <th>State</th>\n",
              "      <th>Country</th>\n",
              "      <th>Official Time</th>\n",
              "      <th>Overall</th>\n",
              "      <th>Gender</th>\n",
              "      <th>Years Ran</th>\n",
              "      <th>First Name</th>\n",
              "      <th>Last Name</th>\n",
              "    </tr>\n",
              "  </thead>\n",
              "  <tbody>\n",
              "    <tr>\n",
              "      <th>56</th>\n",
              "      <td>Boudalia, Said Sr.</td>\n",
              "      <td>48</td>\n",
              "      <td>M</td>\n",
              "      <td>Belluno</td>\n",
              "      <td>NaN</td>\n",
              "      <td>ITA</td>\n",
              "      <td>2:30:11</td>\n",
              "      <td>57</td>\n",
              "      <td>51</td>\n",
              "      <td>2015:2016</td>\n",
              "      <td>Boudalia</td>\n",
              "      <td>Said Sr.</td>\n",
              "    </tr>\n",
              "    <tr>\n",
              "      <th>156</th>\n",
              "      <td>Achmuller, Hermann</td>\n",
              "      <td>46</td>\n",
              "      <td>M</td>\n",
              "      <td>Brixen</td>\n",
              "      <td>NaN</td>\n",
              "      <td>ITA</td>\n",
              "      <td>2:38:40</td>\n",
              "      <td>157</td>\n",
              "      <td>139</td>\n",
              "      <td>NaN</td>\n",
              "      <td>Achmuller</td>\n",
              "      <td>Hermann</td>\n",
              "    </tr>\n",
              "    <tr>\n",
              "      <th>792</th>\n",
              "      <td>Consolandi, Paolo Giorgio</td>\n",
              "      <td>39</td>\n",
              "      <td>M</td>\n",
              "      <td>Pessano Con Bornago (mi)</td>\n",
              "      <td>NaN</td>\n",
              "      <td>ITA</td>\n",
              "      <td>2:53:29</td>\n",
              "      <td>793</td>\n",
              "      <td>747</td>\n",
              "      <td>NaN</td>\n",
              "      <td>Consolandi</td>\n",
              "      <td>Paolo Giorgio</td>\n",
              "    </tr>\n",
              "    <tr>\n",
              "      <th>922</th>\n",
              "      <td>Zompanti, Alessandro</td>\n",
              "      <td>48</td>\n",
              "      <td>M</td>\n",
              "      <td>Fiuggi Fr</td>\n",
              "      <td>NaN</td>\n",
              "      <td>ITA</td>\n",
              "      <td>2:55:12</td>\n",
              "      <td>923</td>\n",
              "      <td>872</td>\n",
              "      <td>NaN</td>\n",
              "      <td>Zompanti</td>\n",
              "      <td>Alessandro</td>\n",
              "    </tr>\n",
              "  </tbody>\n",
              "</table>\n",
              "</div>"
            ],
            "text/plain": [
              "                          Name  Age M/F  ...  Years Ran  First Name      Last Name\n",
              "56          Boudalia, Said Sr.   48   M  ...  2015:2016    Boudalia       Said Sr.\n",
              "156         Achmuller, Hermann   46   M  ...        NaN   Achmuller        Hermann\n",
              "792  Consolandi, Paolo Giorgio   39   M  ...        NaN  Consolandi  Paolo Giorgio\n",
              "922       Zompanti, Alessandro   48   M  ...        NaN    Zompanti     Alessandro\n",
              "\n",
              "[4 rows x 12 columns]"
            ]
          },
          "metadata": {},
          "execution_count": 106
        }
      ]
    },
    {
      "cell_type": "code",
      "metadata": {
        "colab": {
          "base_uri": "https://localhost:8080/",
          "height": 173
        },
        "id": "wBsUdhl2KFmp",
        "outputId": "b23a48a9-9496-43c1-8177-be18200e80bb"
      },
      "source": [
        "boston.loc[boston.Country.str.match('ITA')] # same outcome"
      ],
      "execution_count": null,
      "outputs": [
        {
          "output_type": "execute_result",
          "data": {
            "text/html": [
              "<div>\n",
              "<style scoped>\n",
              "    .dataframe tbody tr th:only-of-type {\n",
              "        vertical-align: middle;\n",
              "    }\n",
              "\n",
              "    .dataframe tbody tr th {\n",
              "        vertical-align: top;\n",
              "    }\n",
              "\n",
              "    .dataframe thead th {\n",
              "        text-align: right;\n",
              "    }\n",
              "</style>\n",
              "<table border=\"1\" class=\"dataframe\">\n",
              "  <thead>\n",
              "    <tr style=\"text-align: right;\">\n",
              "      <th></th>\n",
              "      <th>Name</th>\n",
              "      <th>Age</th>\n",
              "      <th>M/F</th>\n",
              "      <th>City</th>\n",
              "      <th>State</th>\n",
              "      <th>Country</th>\n",
              "      <th>Official Time</th>\n",
              "      <th>Overall</th>\n",
              "      <th>Gender</th>\n",
              "      <th>Years Ran</th>\n",
              "      <th>First Name</th>\n",
              "      <th>Last Name</th>\n",
              "    </tr>\n",
              "  </thead>\n",
              "  <tbody>\n",
              "    <tr>\n",
              "      <th>56</th>\n",
              "      <td>Boudalia, Said Sr.</td>\n",
              "      <td>48</td>\n",
              "      <td>M</td>\n",
              "      <td>Belluno</td>\n",
              "      <td>NaN</td>\n",
              "      <td>ITA</td>\n",
              "      <td>2:30:11</td>\n",
              "      <td>57</td>\n",
              "      <td>51</td>\n",
              "      <td>2015:2016</td>\n",
              "      <td>Boudalia</td>\n",
              "      <td>Said Sr.</td>\n",
              "    </tr>\n",
              "    <tr>\n",
              "      <th>156</th>\n",
              "      <td>Achmuller, Hermann</td>\n",
              "      <td>46</td>\n",
              "      <td>M</td>\n",
              "      <td>Brixen</td>\n",
              "      <td>NaN</td>\n",
              "      <td>ITA</td>\n",
              "      <td>2:38:40</td>\n",
              "      <td>157</td>\n",
              "      <td>139</td>\n",
              "      <td>NaN</td>\n",
              "      <td>Achmuller</td>\n",
              "      <td>Hermann</td>\n",
              "    </tr>\n",
              "    <tr>\n",
              "      <th>792</th>\n",
              "      <td>Consolandi, Paolo Giorgio</td>\n",
              "      <td>39</td>\n",
              "      <td>M</td>\n",
              "      <td>Pessano Con Bornago (mi)</td>\n",
              "      <td>NaN</td>\n",
              "      <td>ITA</td>\n",
              "      <td>2:53:29</td>\n",
              "      <td>793</td>\n",
              "      <td>747</td>\n",
              "      <td>NaN</td>\n",
              "      <td>Consolandi</td>\n",
              "      <td>Paolo Giorgio</td>\n",
              "    </tr>\n",
              "    <tr>\n",
              "      <th>922</th>\n",
              "      <td>Zompanti, Alessandro</td>\n",
              "      <td>48</td>\n",
              "      <td>M</td>\n",
              "      <td>Fiuggi Fr</td>\n",
              "      <td>NaN</td>\n",
              "      <td>ITA</td>\n",
              "      <td>2:55:12</td>\n",
              "      <td>923</td>\n",
              "      <td>872</td>\n",
              "      <td>NaN</td>\n",
              "      <td>Zompanti</td>\n",
              "      <td>Alessandro</td>\n",
              "    </tr>\n",
              "  </tbody>\n",
              "</table>\n",
              "</div>"
            ],
            "text/plain": [
              "                          Name  Age M/F  ...  Years Ran  First Name      Last Name\n",
              "56          Boudalia, Said Sr.   48   M  ...  2015:2016    Boudalia       Said Sr.\n",
              "156         Achmuller, Hermann   46   M  ...        NaN   Achmuller        Hermann\n",
              "792  Consolandi, Paolo Giorgio   39   M  ...        NaN  Consolandi  Paolo Giorgio\n",
              "922       Zompanti, Alessandro   48   M  ...        NaN    Zompanti     Alessandro\n",
              "\n",
              "[4 rows x 12 columns]"
            ]
          },
          "metadata": {},
          "execution_count": 107
        }
      ]
    },
    {
      "cell_type": "code",
      "metadata": {
        "id": "mH_2TKqEKJ4a"
      },
      "source": [
        "# Q: How about all the 'Will's ?"
      ],
      "execution_count": null,
      "outputs": []
    },
    {
      "cell_type": "code",
      "metadata": {
        "id": "wUGvIv3SKeIa"
      },
      "source": [
        "# no contains in python : instead 'Will' in 'William'"
      ],
      "execution_count": null,
      "outputs": []
    },
    {
      "cell_type": "code",
      "metadata": {
        "id": "woV0zr5rLASR"
      },
      "source": [
        "wills = boston.Name.str.contains('Will')"
      ],
      "execution_count": null,
      "outputs": []
    },
    {
      "cell_type": "code",
      "metadata": {
        "id": "216_kyQ-LLba"
      },
      "source": [
        "forty5_plus = boston.Age >= 45"
      ],
      "execution_count": null,
      "outputs": []
    },
    {
      "cell_type": "code",
      "metadata": {
        "colab": {
          "base_uri": "https://localhost:8080/",
          "height": 173
        },
        "id": "zenhabPdLH8U",
        "outputId": "466904cc-7ac9-4dfb-c5b1-0aae9f0d7d3d"
      },
      "source": [
        "boston[wills & forty5_plus]"
      ],
      "execution_count": null,
      "outputs": [
        {
          "output_type": "execute_result",
          "data": {
            "text/html": [
              "<div>\n",
              "<style scoped>\n",
              "    .dataframe tbody tr th:only-of-type {\n",
              "        vertical-align: middle;\n",
              "    }\n",
              "\n",
              "    .dataframe tbody tr th {\n",
              "        vertical-align: top;\n",
              "    }\n",
              "\n",
              "    .dataframe thead th {\n",
              "        text-align: right;\n",
              "    }\n",
              "</style>\n",
              "<table border=\"1\" class=\"dataframe\">\n",
              "  <thead>\n",
              "    <tr style=\"text-align: right;\">\n",
              "      <th></th>\n",
              "      <th>Name</th>\n",
              "      <th>Age</th>\n",
              "      <th>M/F</th>\n",
              "      <th>City</th>\n",
              "      <th>State</th>\n",
              "      <th>Country</th>\n",
              "      <th>Official Time</th>\n",
              "      <th>Overall</th>\n",
              "      <th>Gender</th>\n",
              "      <th>Years Ran</th>\n",
              "      <th>First Name</th>\n",
              "      <th>Last Name</th>\n",
              "    </tr>\n",
              "  </thead>\n",
              "  <tbody>\n",
              "    <tr>\n",
              "      <th>93</th>\n",
              "      <td>Vanos, William</td>\n",
              "      <td>45</td>\n",
              "      <td>M</td>\n",
              "      <td>Orlando</td>\n",
              "      <td>FL</td>\n",
              "      <td>USA</td>\n",
              "      <td>2:34:40</td>\n",
              "      <td>94</td>\n",
              "      <td>84</td>\n",
              "      <td>NaN</td>\n",
              "      <td>Vanos</td>\n",
              "      <td>William</td>\n",
              "    </tr>\n",
              "    <tr>\n",
              "      <th>526</th>\n",
              "      <td>Swenson, Will</td>\n",
              "      <td>45</td>\n",
              "      <td>M</td>\n",
              "      <td>Andover</td>\n",
              "      <td>MA</td>\n",
              "      <td>USA</td>\n",
              "      <td>2:49:10</td>\n",
              "      <td>527</td>\n",
              "      <td>490</td>\n",
              "      <td>2015:2016</td>\n",
              "      <td>Swenson</td>\n",
              "      <td>Will</td>\n",
              "    </tr>\n",
              "    <tr>\n",
              "      <th>814</th>\n",
              "      <td>Williamson, David</td>\n",
              "      <td>49</td>\n",
              "      <td>M</td>\n",
              "      <td>Sutton</td>\n",
              "      <td>NaN</td>\n",
              "      <td>GBR</td>\n",
              "      <td>2:53:46</td>\n",
              "      <td>815</td>\n",
              "      <td>768</td>\n",
              "      <td>NaN</td>\n",
              "      <td>Williamson</td>\n",
              "      <td>David</td>\n",
              "    </tr>\n",
              "    <tr>\n",
              "      <th>892</th>\n",
              "      <td>Rivera, Will</td>\n",
              "      <td>46</td>\n",
              "      <td>M</td>\n",
              "      <td>Elizabethtown</td>\n",
              "      <td>KY</td>\n",
              "      <td>USA</td>\n",
              "      <td>2:54:53</td>\n",
              "      <td>893</td>\n",
              "      <td>843</td>\n",
              "      <td>NaN</td>\n",
              "      <td>Rivera</td>\n",
              "      <td>Will</td>\n",
              "    </tr>\n",
              "  </tbody>\n",
              "</table>\n",
              "</div>"
            ],
            "text/plain": [
              "                  Name  Age M/F  ...  Years Ran  First Name Last Name\n",
              "93      Vanos, William   45   M  ...        NaN       Vanos   William\n",
              "526      Swenson, Will   45   M  ...  2015:2016     Swenson      Will\n",
              "814  Williamson, David   49   M  ...        NaN  Williamson     David\n",
              "892       Rivera, Will   46   M  ...        NaN      Rivera      Will\n",
              "\n",
              "[4 rows x 12 columns]"
            ]
          },
          "metadata": {},
          "execution_count": 112
        }
      ]
    },
    {
      "cell_type": "code",
      "metadata": {
        "colab": {
          "base_uri": "https://localhost:8080/"
        },
        "id": "_kwSss0QLJWQ",
        "outputId": "ef49cccb-0953-495f-e89a-1f20cfcd94a4"
      },
      "source": [
        "boston.Age.nlargest(10)"
      ],
      "execution_count": null,
      "outputs": [
        {
          "output_type": "execute_result",
          "data": {
            "text/plain": [
              "704    59\n",
              "648    57\n",
              "326    56\n",
              "370    56\n",
              "563    55\n",
              "864    55\n",
              "325    53\n",
              "394    53\n",
              "486    53\n",
              "579    53\n",
              "Name: Age, dtype: int64"
            ]
          },
          "metadata": {},
          "execution_count": 113
        }
      ]
    },
    {
      "cell_type": "code",
      "metadata": {
        "colab": {
          "base_uri": "https://localhost:8080/",
          "height": 265
        },
        "id": "v6CLZE7YLzxn",
        "outputId": "eb9a6be5-8815-432e-90fa-8d552d6f04a1"
      },
      "source": [
        "boston.Age.hist();"
      ],
      "execution_count": null,
      "outputs": [
        {
          "output_type": "display_data",
          "data": {
            "image/png": "[encoded data removed]",
            "text/plain": [
              "<Figure size 432x288 with 1 Axes>"
            ]
          },
          "metadata": {
            "needs_background": "light"
          }
        }
      ]
    },
    {
      "cell_type": "markdown",
      "metadata": {
        "id": "KJFyxA4eMHrT"
      },
      "source": [
        "### Parsing Indicators with get_dummies()"
      ]
    },
    {
      "cell_type": "code",
      "metadata": {
        "colab": {
          "base_uri": "https://localhost:8080/",
          "height": 204
        },
        "id": "7K0-Yl30L2Rm",
        "outputId": "034370b7-73ed-42ce-fc23-ab4b1fbc934c"
      },
      "source": [
        "boston.head()"
      ],
      "execution_count": null,
      "outputs": [
        {
          "output_type": "execute_result",
          "data": {
            "text/html": [
              "<div>\n",
              "<style scoped>\n",
              "    .dataframe tbody tr th:only-of-type {\n",
              "        vertical-align: middle;\n",
              "    }\n",
              "\n",
              "    .dataframe tbody tr th {\n",
              "        vertical-align: top;\n",
              "    }\n",
              "\n",
              "    .dataframe thead th {\n",
              "        text-align: right;\n",
              "    }\n",
              "</style>\n",
              "<table border=\"1\" class=\"dataframe\">\n",
              "  <thead>\n",
              "    <tr style=\"text-align: right;\">\n",
              "      <th></th>\n",
              "      <th>Name</th>\n",
              "      <th>Age</th>\n",
              "      <th>M/F</th>\n",
              "      <th>City</th>\n",
              "      <th>State</th>\n",
              "      <th>Country</th>\n",
              "      <th>Official Time</th>\n",
              "      <th>Overall</th>\n",
              "      <th>Gender</th>\n",
              "      <th>Years Ran</th>\n",
              "      <th>First Name</th>\n",
              "      <th>Last Name</th>\n",
              "    </tr>\n",
              "  </thead>\n",
              "  <tbody>\n",
              "    <tr>\n",
              "      <th>0</th>\n",
              "      <td>Kirui, Geoffrey</td>\n",
              "      <td>24</td>\n",
              "      <td>M</td>\n",
              "      <td>Keringet</td>\n",
              "      <td>NaN</td>\n",
              "      <td>KEN</td>\n",
              "      <td>2:09:37</td>\n",
              "      <td>1</td>\n",
              "      <td>1</td>\n",
              "      <td>NaN</td>\n",
              "      <td>Kirui</td>\n",
              "      <td>Geoffrey</td>\n",
              "    </tr>\n",
              "    <tr>\n",
              "      <th>1</th>\n",
              "      <td>Rupp, Galen</td>\n",
              "      <td>30</td>\n",
              "      <td>M</td>\n",
              "      <td>Portland</td>\n",
              "      <td>OR</td>\n",
              "      <td>USA</td>\n",
              "      <td>2:09:58</td>\n",
              "      <td>2</td>\n",
              "      <td>2</td>\n",
              "      <td>NaN</td>\n",
              "      <td>Rupp</td>\n",
              "      <td>Galen</td>\n",
              "    </tr>\n",
              "    <tr>\n",
              "      <th>2</th>\n",
              "      <td>Osako, Suguru</td>\n",
              "      <td>25</td>\n",
              "      <td>M</td>\n",
              "      <td>Machida-City</td>\n",
              "      <td>NaN</td>\n",
              "      <td>JPN</td>\n",
              "      <td>2:10:28</td>\n",
              "      <td>3</td>\n",
              "      <td>3</td>\n",
              "      <td>NaN</td>\n",
              "      <td>Osako</td>\n",
              "      <td>Suguru</td>\n",
              "    </tr>\n",
              "    <tr>\n",
              "      <th>3</th>\n",
              "      <td>Biwott, Shadrack</td>\n",
              "      <td>32</td>\n",
              "      <td>M</td>\n",
              "      <td>Mammoth Lakes</td>\n",
              "      <td>CA</td>\n",
              "      <td>USA</td>\n",
              "      <td>2:12:08</td>\n",
              "      <td>4</td>\n",
              "      <td>4</td>\n",
              "      <td>NaN</td>\n",
              "      <td>Biwott</td>\n",
              "      <td>Shadrack</td>\n",
              "    </tr>\n",
              "    <tr>\n",
              "      <th>4</th>\n",
              "      <td>Chebet, Wilson</td>\n",
              "      <td>31</td>\n",
              "      <td>M</td>\n",
              "      <td>Marakwet</td>\n",
              "      <td>NaN</td>\n",
              "      <td>KEN</td>\n",
              "      <td>2:12:35</td>\n",
              "      <td>5</td>\n",
              "      <td>5</td>\n",
              "      <td>2015</td>\n",
              "      <td>Chebet</td>\n",
              "      <td>Wilson</td>\n",
              "    </tr>\n",
              "  </tbody>\n",
              "</table>\n",
              "</div>"
            ],
            "text/plain": [
              "               Name  Age M/F  ... Years Ran First Name Last Name\n",
              "0   Kirui, Geoffrey   24   M  ...       NaN      Kirui  Geoffrey\n",
              "1       Rupp, Galen   30   M  ...       NaN       Rupp     Galen\n",
              "2     Osako, Suguru   25   M  ...       NaN      Osako    Suguru\n",
              "3  Biwott, Shadrack   32   M  ...       NaN     Biwott  Shadrack\n",
              "4    Chebet, Wilson   31   M  ...      2015     Chebet    Wilson\n",
              "\n",
              "[5 rows x 12 columns]"
            ]
          },
          "metadata": {},
          "execution_count": 115
        }
      ]
    },
    {
      "cell_type": "code",
      "metadata": {
        "colab": {
          "base_uri": "https://localhost:8080/",
          "height": 419
        },
        "id": "dopxs6PmMlmc",
        "outputId": "4ad5d392-aab3-4115-ebcd-fe43fdfc0d61"
      },
      "source": [
        "boston[boston['Years Ran'].notnull()]"
      ],
      "execution_count": null,
      "outputs": [
        {
          "output_type": "execute_result",
          "data": {
            "text/html": [
              "<div>\n",
              "<style scoped>\n",
              "    .dataframe tbody tr th:only-of-type {\n",
              "        vertical-align: middle;\n",
              "    }\n",
              "\n",
              "    .dataframe tbody tr th {\n",
              "        vertical-align: top;\n",
              "    }\n",
              "\n",
              "    .dataframe thead th {\n",
              "        text-align: right;\n",
              "    }\n",
              "</style>\n",
              "<table border=\"1\" class=\"dataframe\">\n",
              "  <thead>\n",
              "    <tr style=\"text-align: right;\">\n",
              "      <th></th>\n",
              "      <th>Name</th>\n",
              "      <th>Age</th>\n",
              "      <th>M/F</th>\n",
              "      <th>City</th>\n",
              "      <th>State</th>\n",
              "      <th>Country</th>\n",
              "      <th>Official Time</th>\n",
              "      <th>Overall</th>\n",
              "      <th>Gender</th>\n",
              "      <th>Years Ran</th>\n",
              "      <th>First Name</th>\n",
              "      <th>Last Name</th>\n",
              "    </tr>\n",
              "  </thead>\n",
              "  <tbody>\n",
              "    <tr>\n",
              "      <th>4</th>\n",
              "      <td>Chebet, Wilson</td>\n",
              "      <td>31</td>\n",
              "      <td>M</td>\n",
              "      <td>Marakwet</td>\n",
              "      <td>NaN</td>\n",
              "      <td>KEN</td>\n",
              "      <td>2:12:35</td>\n",
              "      <td>5</td>\n",
              "      <td>5</td>\n",
              "      <td>2015</td>\n",
              "      <td>Chebet</td>\n",
              "      <td>Wilson</td>\n",
              "    </tr>\n",
              "    <tr>\n",
              "      <th>12</th>\n",
              "      <td>Keflezighi, Meb</td>\n",
              "      <td>41</td>\n",
              "      <td>M</td>\n",
              "      <td>San Diego</td>\n",
              "      <td>CA</td>\n",
              "      <td>USA</td>\n",
              "      <td>2:17:00</td>\n",
              "      <td>13</td>\n",
              "      <td>13</td>\n",
              "      <td>2015</td>\n",
              "      <td>Keflezighi</td>\n",
              "      <td>Meb</td>\n",
              "    </tr>\n",
              "    <tr>\n",
              "      <th>13</th>\n",
              "      <td>Nyasango, Cutbert</td>\n",
              "      <td>34</td>\n",
              "      <td>M</td>\n",
              "      <td>Harara</td>\n",
              "      <td>NaN</td>\n",
              "      <td>ZIM</td>\n",
              "      <td>2:17:40</td>\n",
              "      <td>14</td>\n",
              "      <td>14</td>\n",
              "      <td>2016</td>\n",
              "      <td>Nyasango</td>\n",
              "      <td>Cutbert</td>\n",
              "    </tr>\n",
              "    <tr>\n",
              "      <th>14</th>\n",
              "      <td>Korir, Wesley</td>\n",
              "      <td>34</td>\n",
              "      <td>M</td>\n",
              "      <td>Kitale</td>\n",
              "      <td>NaN</td>\n",
              "      <td>KEN</td>\n",
              "      <td>2:18:14</td>\n",
              "      <td>15</td>\n",
              "      <td>15</td>\n",
              "      <td>2015:2016</td>\n",
              "      <td>Korir</td>\n",
              "      <td>Wesley</td>\n",
              "    </tr>\n",
              "    <tr>\n",
              "      <th>29</th>\n",
              "      <td>Maravilla, Jorge</td>\n",
              "      <td>39</td>\n",
              "      <td>M</td>\n",
              "      <td>Mill Valley</td>\n",
              "      <td>CA</td>\n",
              "      <td>USA</td>\n",
              "      <td>2:24:27</td>\n",
              "      <td>30</td>\n",
              "      <td>27</td>\n",
              "      <td>2016</td>\n",
              "      <td>Maravilla</td>\n",
              "      <td>Jorge</td>\n",
              "    </tr>\n",
              "    <tr>\n",
              "      <th>...</th>\n",
              "      <td>...</td>\n",
              "      <td>...</td>\n",
              "      <td>...</td>\n",
              "      <td>...</td>\n",
              "      <td>...</td>\n",
              "      <td>...</td>\n",
              "      <td>...</td>\n",
              "      <td>...</td>\n",
              "      <td>...</td>\n",
              "      <td>...</td>\n",
              "      <td>...</td>\n",
              "      <td>...</td>\n",
              "    </tr>\n",
              "    <tr>\n",
              "      <th>986</th>\n",
              "      <td>Bretz, Virgil</td>\n",
              "      <td>44</td>\n",
              "      <td>M</td>\n",
              "      <td>Mt. Kisco</td>\n",
              "      <td>NY</td>\n",
              "      <td>USA</td>\n",
              "      <td>2:56:02</td>\n",
              "      <td>987</td>\n",
              "      <td>931</td>\n",
              "      <td>2015:2016</td>\n",
              "      <td>Bretz</td>\n",
              "      <td>Virgil</td>\n",
              "    </tr>\n",
              "    <tr>\n",
              "      <th>987</th>\n",
              "      <td>Cucuzzella, Mark</td>\n",
              "      <td>50</td>\n",
              "      <td>M</td>\n",
              "      <td>Shepherdstown</td>\n",
              "      <td>WV</td>\n",
              "      <td>USA</td>\n",
              "      <td>2:56:03</td>\n",
              "      <td>988</td>\n",
              "      <td>932</td>\n",
              "      <td>2016</td>\n",
              "      <td>Cucuzzella</td>\n",
              "      <td>Mark</td>\n",
              "    </tr>\n",
              "    <tr>\n",
              "      <th>988</th>\n",
              "      <td>Carron, John B</td>\n",
              "      <td>46</td>\n",
              "      <td>M</td>\n",
              "      <td>Irvington</td>\n",
              "      <td>NY</td>\n",
              "      <td>USA</td>\n",
              "      <td>2:56:03</td>\n",
              "      <td>989</td>\n",
              "      <td>933</td>\n",
              "      <td>2016</td>\n",
              "      <td>Carron</td>\n",
              "      <td>John B</td>\n",
              "    </tr>\n",
              "    <tr>\n",
              "      <th>995</th>\n",
              "      <td>Larosa, Mark</td>\n",
              "      <td>38</td>\n",
              "      <td>M</td>\n",
              "      <td>North Andover</td>\n",
              "      <td>MA</td>\n",
              "      <td>USA</td>\n",
              "      <td>2:56:06</td>\n",
              "      <td>996</td>\n",
              "      <td>940</td>\n",
              "      <td>2015:2016</td>\n",
              "      <td>Larosa</td>\n",
              "      <td>Mark</td>\n",
              "    </tr>\n",
              "    <tr>\n",
              "      <th>996</th>\n",
              "      <td>Williamson, Jerry A</td>\n",
              "      <td>43</td>\n",
              "      <td>M</td>\n",
              "      <td>Raleigh</td>\n",
              "      <td>NC</td>\n",
              "      <td>USA</td>\n",
              "      <td>2:56:06</td>\n",
              "      <td>997</td>\n",
              "      <td>941</td>\n",
              "      <td>2015</td>\n",
              "      <td>Williamson</td>\n",
              "      <td>Jerry A</td>\n",
              "    </tr>\n",
              "  </tbody>\n",
              "</table>\n",
              "<p>315 rows × 12 columns</p>\n",
              "</div>"
            ],
            "text/plain": [
              "                    Name  Age M/F  ...  Years Ran  First Name Last Name\n",
              "4         Chebet, Wilson   31   M  ...       2015      Chebet    Wilson\n",
              "12       Keflezighi, Meb   41   M  ...       2015  Keflezighi       Meb\n",
              "13     Nyasango, Cutbert   34   M  ...       2016    Nyasango   Cutbert\n",
              "14         Korir, Wesley   34   M  ...  2015:2016       Korir    Wesley\n",
              "29      Maravilla, Jorge   39   M  ...       2016   Maravilla     Jorge\n",
              "..                   ...  ...  ..  ...        ...         ...       ...\n",
              "986        Bretz, Virgil   44   M  ...  2015:2016       Bretz    Virgil\n",
              "987     Cucuzzella, Mark   50   M  ...       2016  Cucuzzella      Mark\n",
              "988       Carron, John B   46   M  ...       2016      Carron    John B\n",
              "995         Larosa, Mark   38   M  ...  2015:2016      Larosa      Mark\n",
              "996  Williamson, Jerry A   43   M  ...       2015  Williamson   Jerry A\n",
              "\n",
              "[315 rows x 12 columns]"
            ]
          },
          "metadata": {},
          "execution_count": 116
        }
      ]
    },
    {
      "cell_type": "code",
      "metadata": {
        "colab": {
          "base_uri": "https://localhost:8080/"
        },
        "id": "xkWH2EFhMoxP",
        "outputId": "8c6fa8ab-0bdf-4ed3-c41b-4dded3f64faa"
      },
      "source": [
        "boston['Years Ran'].unique()"
      ],
      "execution_count": null,
      "outputs": [
        {
          "output_type": "execute_result",
          "data": {
            "text/plain": [
              "array([nan, '2015', '2016', '2015:2016'], dtype=object)"
            ]
          },
          "metadata": {},
          "execution_count": 117
        }
      ]
    },
    {
      "cell_type": "code",
      "metadata": {
        "id": "a13k6CPLNPPi"
      },
      "source": [
        "dummies = boston['Years Ran'].str.get_dummies(sep=':')"
      ],
      "execution_count": null,
      "outputs": []
    },
    {
      "cell_type": "code",
      "metadata": {
        "id": "EUk-i5lr2tv3"
      },
      "source": [
        "# the df.insert()\n",
        "boston.insert(boston.columns.get_loc('Years Ran'),'Ran 2015',dummies['2015'])\n",
        "boston.insert(boston.columns.get_loc('Years Ran'),'Ran 2016',dummies['2016'])"
      ],
      "execution_count": null,
      "outputs": []
    },
    {
      "cell_type": "code",
      "metadata": {
        "colab": {
          "base_uri": "https://localhost:8080/",
          "height": 204
        },
        "id": "FKfLKhSc4fdI",
        "outputId": "5510604f-cb80-40ed-b588-9f956c13961c"
      },
      "source": [
        "boston.head()"
      ],
      "execution_count": null,
      "outputs": [
        {
          "output_type": "execute_result",
          "data": {
            "text/html": [
              "<div>\n",
              "<style scoped>\n",
              "    .dataframe tbody tr th:only-of-type {\n",
              "        vertical-align: middle;\n",
              "    }\n",
              "\n",
              "    .dataframe tbody tr th {\n",
              "        vertical-align: top;\n",
              "    }\n",
              "\n",
              "    .dataframe thead th {\n",
              "        text-align: right;\n",
              "    }\n",
              "</style>\n",
              "<table border=\"1\" class=\"dataframe\">\n",
              "  <thead>\n",
              "    <tr style=\"text-align: right;\">\n",
              "      <th></th>\n",
              "      <th>Name</th>\n",
              "      <th>Age</th>\n",
              "      <th>M/F</th>\n",
              "      <th>City</th>\n",
              "      <th>State</th>\n",
              "      <th>Country</th>\n",
              "      <th>Official Time</th>\n",
              "      <th>Overall</th>\n",
              "      <th>Gender</th>\n",
              "      <th>Ran 2015</th>\n",
              "      <th>Ran 2016</th>\n",
              "      <th>Years Ran</th>\n",
              "      <th>First Name</th>\n",
              "      <th>Last Name</th>\n",
              "    </tr>\n",
              "  </thead>\n",
              "  <tbody>\n",
              "    <tr>\n",
              "      <th>0</th>\n",
              "      <td>Kirui, Geoffrey</td>\n",
              "      <td>24</td>\n",
              "      <td>M</td>\n",
              "      <td>Keringet</td>\n",
              "      <td>NaN</td>\n",
              "      <td>KEN</td>\n",
              "      <td>2:09:37</td>\n",
              "      <td>1</td>\n",
              "      <td>1</td>\n",
              "      <td>0</td>\n",
              "      <td>0</td>\n",
              "      <td>NaN</td>\n",
              "      <td>Kirui</td>\n",
              "      <td>Geoffrey</td>\n",
              "    </tr>\n",
              "    <tr>\n",
              "      <th>1</th>\n",
              "      <td>Rupp, Galen</td>\n",
              "      <td>30</td>\n",
              "      <td>M</td>\n",
              "      <td>Portland</td>\n",
              "      <td>OR</td>\n",
              "      <td>USA</td>\n",
              "      <td>2:09:58</td>\n",
              "      <td>2</td>\n",
              "      <td>2</td>\n",
              "      <td>0</td>\n",
              "      <td>0</td>\n",
              "      <td>NaN</td>\n",
              "      <td>Rupp</td>\n",
              "      <td>Galen</td>\n",
              "    </tr>\n",
              "    <tr>\n",
              "      <th>2</th>\n",
              "      <td>Osako, Suguru</td>\n",
              "      <td>25</td>\n",
              "      <td>M</td>\n",
              "      <td>Machida-City</td>\n",
              "      <td>NaN</td>\n",
              "      <td>JPN</td>\n",
              "      <td>2:10:28</td>\n",
              "      <td>3</td>\n",
              "      <td>3</td>\n",
              "      <td>0</td>\n",
              "      <td>0</td>\n",
              "      <td>NaN</td>\n",
              "      <td>Osako</td>\n",
              "      <td>Suguru</td>\n",
              "    </tr>\n",
              "    <tr>\n",
              "      <th>3</th>\n",
              "      <td>Biwott, Shadrack</td>\n",
              "      <td>32</td>\n",
              "      <td>M</td>\n",
              "      <td>Mammoth Lakes</td>\n",
              "      <td>CA</td>\n",
              "      <td>USA</td>\n",
              "      <td>2:12:08</td>\n",
              "      <td>4</td>\n",
              "      <td>4</td>\n",
              "      <td>0</td>\n",
              "      <td>0</td>\n",
              "      <td>NaN</td>\n",
              "      <td>Biwott</td>\n",
              "      <td>Shadrack</td>\n",
              "    </tr>\n",
              "    <tr>\n",
              "      <th>4</th>\n",
              "      <td>Chebet, Wilson</td>\n",
              "      <td>31</td>\n",
              "      <td>M</td>\n",
              "      <td>Marakwet</td>\n",
              "      <td>NaN</td>\n",
              "      <td>KEN</td>\n",
              "      <td>2:12:35</td>\n",
              "      <td>5</td>\n",
              "      <td>5</td>\n",
              "      <td>1</td>\n",
              "      <td>0</td>\n",
              "      <td>2015</td>\n",
              "      <td>Chebet</td>\n",
              "      <td>Wilson</td>\n",
              "    </tr>\n",
              "  </tbody>\n",
              "</table>\n",
              "</div>"
            ],
            "text/plain": [
              "               Name  Age M/F  ... Years Ran First Name Last Name\n",
              "0   Kirui, Geoffrey   24   M  ...       NaN      Kirui  Geoffrey\n",
              "1       Rupp, Galen   30   M  ...       NaN       Rupp     Galen\n",
              "2     Osako, Suguru   25   M  ...       NaN      Osako    Suguru\n",
              "3  Biwott, Shadrack   32   M  ...       NaN     Biwott  Shadrack\n",
              "4    Chebet, Wilson   31   M  ...      2015     Chebet    Wilson\n",
              "\n",
              "[5 rows x 14 columns]"
            ]
          },
          "metadata": {},
          "execution_count": 120
        }
      ]
    },
    {
      "cell_type": "code",
      "metadata": {
        "id": "zL1SH8AJ4uCi"
      },
      "source": [
        "# Q: Which top runners from 2017 also ran in the previous two Boston Marathons."
      ],
      "execution_count": null,
      "outputs": []
    },
    {
      "cell_type": "code",
      "metadata": {
        "colab": {
          "base_uri": "https://localhost:8080/",
          "height": 470
        },
        "id": "BMI7VY2D5Pzp",
        "outputId": "5458a0c8-4149-4441-9cc5-a5a9e0d37166"
      },
      "source": [
        "boston[(boston['Ran 2015']==1) & (boston['Ran 2016']==1)]"
      ],
      "execution_count": null,
      "outputs": [
        {
          "output_type": "execute_result",
          "data": {
            "text/html": [
              "<div>\n",
              "<style scoped>\n",
              "    .dataframe tbody tr th:only-of-type {\n",
              "        vertical-align: middle;\n",
              "    }\n",
              "\n",
              "    .dataframe tbody tr th {\n",
              "        vertical-align: top;\n",
              "    }\n",
              "\n",
              "    .dataframe thead th {\n",
              "        text-align: right;\n",
              "    }\n",
              "</style>\n",
              "<table border=\"1\" class=\"dataframe\">\n",
              "  <thead>\n",
              "    <tr style=\"text-align: right;\">\n",
              "      <th></th>\n",
              "      <th>Name</th>\n",
              "      <th>Age</th>\n",
              "      <th>M/F</th>\n",
              "      <th>City</th>\n",
              "      <th>State</th>\n",
              "      <th>Country</th>\n",
              "      <th>Official Time</th>\n",
              "      <th>Overall</th>\n",
              "      <th>Gender</th>\n",
              "      <th>Ran 2015</th>\n",
              "      <th>Ran 2016</th>\n",
              "      <th>Years Ran</th>\n",
              "      <th>First Name</th>\n",
              "      <th>Last Name</th>\n",
              "    </tr>\n",
              "  </thead>\n",
              "  <tbody>\n",
              "    <tr>\n",
              "      <th>14</th>\n",
              "      <td>Korir, Wesley</td>\n",
              "      <td>34</td>\n",
              "      <td>M</td>\n",
              "      <td>Kitale</td>\n",
              "      <td>NaN</td>\n",
              "      <td>KEN</td>\n",
              "      <td>2:18:14</td>\n",
              "      <td>15</td>\n",
              "      <td>15</td>\n",
              "      <td>1</td>\n",
              "      <td>1</td>\n",
              "      <td>2015:2016</td>\n",
              "      <td>Korir</td>\n",
              "      <td>Wesley</td>\n",
              "    </tr>\n",
              "    <tr>\n",
              "      <th>30</th>\n",
              "      <td>Ornelas, Zachary</td>\n",
              "      <td>25</td>\n",
              "      <td>M</td>\n",
              "      <td>Ann Arbor</td>\n",
              "      <td>MI</td>\n",
              "      <td>USA</td>\n",
              "      <td>2:24:40</td>\n",
              "      <td>31</td>\n",
              "      <td>28</td>\n",
              "      <td>1</td>\n",
              "      <td>1</td>\n",
              "      <td>2015:2016</td>\n",
              "      <td>Ornelas</td>\n",
              "      <td>Zachary</td>\n",
              "    </tr>\n",
              "    <tr>\n",
              "      <th>31</th>\n",
              "      <td>Ayr, Jason M.</td>\n",
              "      <td>29</td>\n",
              "      <td>M</td>\n",
              "      <td>Allston</td>\n",
              "      <td>MA</td>\n",
              "      <td>USA</td>\n",
              "      <td>2:24:49</td>\n",
              "      <td>32</td>\n",
              "      <td>29</td>\n",
              "      <td>1</td>\n",
              "      <td>1</td>\n",
              "      <td>2015:2016</td>\n",
              "      <td>Ayr</td>\n",
              "      <td>Jason M.</td>\n",
              "    </tr>\n",
              "    <tr>\n",
              "      <th>36</th>\n",
              "      <td>Vangampleare, Stephen</td>\n",
              "      <td>26</td>\n",
              "      <td>M</td>\n",
              "      <td>Colorado Springs</td>\n",
              "      <td>CO</td>\n",
              "      <td>USA</td>\n",
              "      <td>2:25:35</td>\n",
              "      <td>37</td>\n",
              "      <td>33</td>\n",
              "      <td>1</td>\n",
              "      <td>1</td>\n",
              "      <td>2015:2016</td>\n",
              "      <td>Vangampleare</td>\n",
              "      <td>Stephen</td>\n",
              "    </tr>\n",
              "    <tr>\n",
              "      <th>56</th>\n",
              "      <td>Boudalia, Said Sr.</td>\n",
              "      <td>48</td>\n",
              "      <td>M</td>\n",
              "      <td>Belluno</td>\n",
              "      <td>NaN</td>\n",
              "      <td>ITA</td>\n",
              "      <td>2:30:11</td>\n",
              "      <td>57</td>\n",
              "      <td>51</td>\n",
              "      <td>1</td>\n",
              "      <td>1</td>\n",
              "      <td>2015:2016</td>\n",
              "      <td>Boudalia</td>\n",
              "      <td>Said Sr.</td>\n",
              "    </tr>\n",
              "    <tr>\n",
              "      <th>...</th>\n",
              "      <td>...</td>\n",
              "      <td>...</td>\n",
              "      <td>...</td>\n",
              "      <td>...</td>\n",
              "      <td>...</td>\n",
              "      <td>...</td>\n",
              "      <td>...</td>\n",
              "      <td>...</td>\n",
              "      <td>...</td>\n",
              "      <td>...</td>\n",
              "      <td>...</td>\n",
              "      <td>...</td>\n",
              "      <td>...</td>\n",
              "      <td>...</td>\n",
              "    </tr>\n",
              "    <tr>\n",
              "      <th>959</th>\n",
              "      <td>Yu, Michael</td>\n",
              "      <td>45</td>\n",
              "      <td>M</td>\n",
              "      <td>Zhubei City, Hsinchu County</td>\n",
              "      <td>NaN</td>\n",
              "      <td>TWN</td>\n",
              "      <td>2:55:40</td>\n",
              "      <td>960</td>\n",
              "      <td>907</td>\n",
              "      <td>1</td>\n",
              "      <td>1</td>\n",
              "      <td>2015:2016</td>\n",
              "      <td>Yu</td>\n",
              "      <td>Michael</td>\n",
              "    </tr>\n",
              "    <tr>\n",
              "      <th>962</th>\n",
              "      <td>Husak, Tyler</td>\n",
              "      <td>30</td>\n",
              "      <td>M</td>\n",
              "      <td>Marion</td>\n",
              "      <td>IA</td>\n",
              "      <td>USA</td>\n",
              "      <td>2:55:42</td>\n",
              "      <td>963</td>\n",
              "      <td>910</td>\n",
              "      <td>1</td>\n",
              "      <td>1</td>\n",
              "      <td>2015:2016</td>\n",
              "      <td>Husak</td>\n",
              "      <td>Tyler</td>\n",
              "    </tr>\n",
              "    <tr>\n",
              "      <th>977</th>\n",
              "      <td>Guthals, Nathaniel</td>\n",
              "      <td>26</td>\n",
              "      <td>M</td>\n",
              "      <td>Overland Park</td>\n",
              "      <td>KS</td>\n",
              "      <td>USA</td>\n",
              "      <td>2:55:57</td>\n",
              "      <td>978</td>\n",
              "      <td>923</td>\n",
              "      <td>1</td>\n",
              "      <td>1</td>\n",
              "      <td>2015:2016</td>\n",
              "      <td>Guthals</td>\n",
              "      <td>Nathaniel</td>\n",
              "    </tr>\n",
              "    <tr>\n",
              "      <th>986</th>\n",
              "      <td>Bretz, Virgil</td>\n",
              "      <td>44</td>\n",
              "      <td>M</td>\n",
              "      <td>Mt. Kisco</td>\n",
              "      <td>NY</td>\n",
              "      <td>USA</td>\n",
              "      <td>2:56:02</td>\n",
              "      <td>987</td>\n",
              "      <td>931</td>\n",
              "      <td>1</td>\n",
              "      <td>1</td>\n",
              "      <td>2015:2016</td>\n",
              "      <td>Bretz</td>\n",
              "      <td>Virgil</td>\n",
              "    </tr>\n",
              "    <tr>\n",
              "      <th>995</th>\n",
              "      <td>Larosa, Mark</td>\n",
              "      <td>38</td>\n",
              "      <td>M</td>\n",
              "      <td>North Andover</td>\n",
              "      <td>MA</td>\n",
              "      <td>USA</td>\n",
              "      <td>2:56:06</td>\n",
              "      <td>996</td>\n",
              "      <td>940</td>\n",
              "      <td>1</td>\n",
              "      <td>1</td>\n",
              "      <td>2015:2016</td>\n",
              "      <td>Larosa</td>\n",
              "      <td>Mark</td>\n",
              "    </tr>\n",
              "  </tbody>\n",
              "</table>\n",
              "<p>124 rows × 14 columns</p>\n",
              "</div>"
            ],
            "text/plain": [
              "                      Name  Age M/F  ...  Years Ran    First Name  Last Name\n",
              "14           Korir, Wesley   34   M  ...  2015:2016         Korir     Wesley\n",
              "30        Ornelas, Zachary   25   M  ...  2015:2016       Ornelas    Zachary\n",
              "31           Ayr, Jason M.   29   M  ...  2015:2016           Ayr   Jason M.\n",
              "36   Vangampleare, Stephen   26   M  ...  2015:2016  Vangampleare    Stephen\n",
              "56      Boudalia, Said Sr.   48   M  ...  2015:2016      Boudalia   Said Sr.\n",
              "..                     ...  ...  ..  ...        ...           ...        ...\n",
              "959            Yu, Michael   45   M  ...  2015:2016            Yu    Michael\n",
              "962           Husak, Tyler   30   M  ...  2015:2016         Husak      Tyler\n",
              "977     Guthals, Nathaniel   26   M  ...  2015:2016       Guthals  Nathaniel\n",
              "986          Bretz, Virgil   44   M  ...  2015:2016         Bretz     Virgil\n",
              "995           Larosa, Mark   38   M  ...  2015:2016        Larosa       Mark\n",
              "\n",
              "[124 rows x 14 columns]"
            ]
          },
          "metadata": {},
          "execution_count": 122
        }
      ]
    },
    {
      "cell_type": "code",
      "metadata": {
        "id": "vsFWTQic5t8G"
      },
      "source": [
        "# Q: How many top runners from 2017 also ran in 2016"
      ],
      "execution_count": null,
      "outputs": []
    },
    {
      "cell_type": "code",
      "metadata": {
        "colab": {
          "base_uri": "https://localhost:8080/"
        },
        "id": "pr8gRvOf6CRr",
        "outputId": "6f33f3ed-ad4e-479e-a0ed-95dce05691b5"
      },
      "source": [
        "boston['Ran 2015'].sum()"
      ],
      "execution_count": null,
      "outputs": [
        {
          "output_type": "execute_result",
          "data": {
            "text/plain": [
              "190"
            ]
          },
          "metadata": {},
          "execution_count": 124
        }
      ]
    },
    {
      "cell_type": "markdown",
      "metadata": {
        "id": "0zmyYN4g6ntt"
      },
      "source": [
        "### Text Replacement"
      ]
    },
    {
      "cell_type": "code",
      "metadata": {
        "id": "14c6_rpk6cVw"
      },
      "source": [
        "# Agenda :\n",
        "# - exact char sequence replacements in Python and pandas\n",
        "# - in a couple of lecture : regex"
      ],
      "execution_count": null,
      "outputs": []
    },
    {
      "cell_type": "code",
      "metadata": {
        "colab": {
          "base_uri": "https://localhost:8080/",
          "height": 35
        },
        "id": "Szdc9rrT6_oC",
        "outputId": "03ebb764-a943-4854-d3bc-102140e30dfe"
      },
      "source": [
        "s"
      ],
      "execution_count": null,
      "outputs": [
        {
          "output_type": "execute_result",
          "data": {
            "application/vnd.google.colaboratory.intrinsic+json": {
              "type": "string"
            },
            "text/plain": [
              "'Welcome to the text manipulation section'"
            ]
          },
          "metadata": {},
          "execution_count": 126
        }
      ]
    },
    {
      "cell_type": "code",
      "metadata": {
        "id": "8DN7ct807c4W"
      },
      "source": [
        "s += '. This section is about text'"
      ],
      "execution_count": null,
      "outputs": []
    },
    {
      "cell_type": "code",
      "metadata": {
        "colab": {
          "base_uri": "https://localhost:8080/",
          "height": 35
        },
        "id": "KofYIZHb7ymj",
        "outputId": "1687a5af-c8b9-4d70-c519-c92f0b33d85a"
      },
      "source": [
        "s"
      ],
      "execution_count": null,
      "outputs": [
        {
          "output_type": "execute_result",
          "data": {
            "application/vnd.google.colaboratory.intrinsic+json": {
              "type": "string"
            },
            "text/plain": [
              "'Welcome to the text manipulation section. This section is about text'"
            ]
          },
          "metadata": {},
          "execution_count": 128
        }
      ]
    },
    {
      "cell_type": "code",
      "metadata": {
        "colab": {
          "base_uri": "https://localhost:8080/",
          "height": 35
        },
        "id": "LpGHJ3AS7zM3",
        "outputId": "2df0a70e-62a9-4958-a8f4-e9d3beeb2f23"
      },
      "source": [
        "s.replace('text','string')"
      ],
      "execution_count": null,
      "outputs": [
        {
          "output_type": "execute_result",
          "data": {
            "application/vnd.google.colaboratory.intrinsic+json": {
              "type": "string"
            },
            "text/plain": [
              "'Welcome to the string manipulation section. This section is about string'"
            ]
          },
          "metadata": {},
          "execution_count": 129
        }
      ]
    },
    {
      "cell_type": "code",
      "metadata": {
        "colab": {
          "base_uri": "https://localhost:8080/",
          "height": 35
        },
        "id": "ce1N_YeU76IO",
        "outputId": "0fc68a21-dcad-4a0e-f092-87eed15cc214"
      },
      "source": [
        "s.replace('text','string',1)"
      ],
      "execution_count": null,
      "outputs": [
        {
          "output_type": "execute_result",
          "data": {
            "application/vnd.google.colaboratory.intrinsic+json": {
              "type": "string"
            },
            "text/plain": [
              "'Welcome to the string manipulation section. This section is about text'"
            ]
          },
          "metadata": {},
          "execution_count": 130
        }
      ]
    },
    {
      "cell_type": "code",
      "metadata": {
        "id": "rvFw0too8MqB"
      },
      "source": [
        "boston['M/F'] = boston['M/F'].str.replace('F','Female').str.replace('M','Male')"
      ],
      "execution_count": null,
      "outputs": []
    },
    {
      "cell_type": "code",
      "metadata": {
        "colab": {
          "base_uri": "https://localhost:8080/",
          "height": 204
        },
        "id": "8h5yEhn68ryV",
        "outputId": "26167e31-b03b-4d06-8381-5b6e33014614"
      },
      "source": [
        "boston.head()"
      ],
      "execution_count": null,
      "outputs": [
        {
          "output_type": "execute_result",
          "data": {
            "text/html": [
              "<div>\n",
              "<style scoped>\n",
              "    .dataframe tbody tr th:only-of-type {\n",
              "        vertical-align: middle;\n",
              "    }\n",
              "\n",
              "    .dataframe tbody tr th {\n",
              "        vertical-align: top;\n",
              "    }\n",
              "\n",
              "    .dataframe thead th {\n",
              "        text-align: right;\n",
              "    }\n",
              "</style>\n",
              "<table border=\"1\" class=\"dataframe\">\n",
              "  <thead>\n",
              "    <tr style=\"text-align: right;\">\n",
              "      <th></th>\n",
              "      <th>Name</th>\n",
              "      <th>Age</th>\n",
              "      <th>M/F</th>\n",
              "      <th>City</th>\n",
              "      <th>State</th>\n",
              "      <th>Country</th>\n",
              "      <th>Official Time</th>\n",
              "      <th>Overall</th>\n",
              "      <th>Gender</th>\n",
              "      <th>Ran 2015</th>\n",
              "      <th>Ran 2016</th>\n",
              "      <th>Years Ran</th>\n",
              "      <th>First Name</th>\n",
              "      <th>Last Name</th>\n",
              "    </tr>\n",
              "  </thead>\n",
              "  <tbody>\n",
              "    <tr>\n",
              "      <th>0</th>\n",
              "      <td>Kirui, Geoffrey</td>\n",
              "      <td>24</td>\n",
              "      <td>Male</td>\n",
              "      <td>Keringet</td>\n",
              "      <td>NaN</td>\n",
              "      <td>KEN</td>\n",
              "      <td>2:09:37</td>\n",
              "      <td>1</td>\n",
              "      <td>1</td>\n",
              "      <td>0</td>\n",
              "      <td>0</td>\n",
              "      <td>NaN</td>\n",
              "      <td>Kirui</td>\n",
              "      <td>Geoffrey</td>\n",
              "    </tr>\n",
              "    <tr>\n",
              "      <th>1</th>\n",
              "      <td>Rupp, Galen</td>\n",
              "      <td>30</td>\n",
              "      <td>Male</td>\n",
              "      <td>Portland</td>\n",
              "      <td>OR</td>\n",
              "      <td>USA</td>\n",
              "      <td>2:09:58</td>\n",
              "      <td>2</td>\n",
              "      <td>2</td>\n",
              "      <td>0</td>\n",
              "      <td>0</td>\n",
              "      <td>NaN</td>\n",
              "      <td>Rupp</td>\n",
              "      <td>Galen</td>\n",
              "    </tr>\n",
              "    <tr>\n",
              "      <th>2</th>\n",
              "      <td>Osako, Suguru</td>\n",
              "      <td>25</td>\n",
              "      <td>Male</td>\n",
              "      <td>Machida-City</td>\n",
              "      <td>NaN</td>\n",
              "      <td>JPN</td>\n",
              "      <td>2:10:28</td>\n",
              "      <td>3</td>\n",
              "      <td>3</td>\n",
              "      <td>0</td>\n",
              "      <td>0</td>\n",
              "      <td>NaN</td>\n",
              "      <td>Osako</td>\n",
              "      <td>Suguru</td>\n",
              "    </tr>\n",
              "    <tr>\n",
              "      <th>3</th>\n",
              "      <td>Biwott, Shadrack</td>\n",
              "      <td>32</td>\n",
              "      <td>Male</td>\n",
              "      <td>Mammoth Lakes</td>\n",
              "      <td>CA</td>\n",
              "      <td>USA</td>\n",
              "      <td>2:12:08</td>\n",
              "      <td>4</td>\n",
              "      <td>4</td>\n",
              "      <td>0</td>\n",
              "      <td>0</td>\n",
              "      <td>NaN</td>\n",
              "      <td>Biwott</td>\n",
              "      <td>Shadrack</td>\n",
              "    </tr>\n",
              "    <tr>\n",
              "      <th>4</th>\n",
              "      <td>Chebet, Wilson</td>\n",
              "      <td>31</td>\n",
              "      <td>Male</td>\n",
              "      <td>Marakwet</td>\n",
              "      <td>NaN</td>\n",
              "      <td>KEN</td>\n",
              "      <td>2:12:35</td>\n",
              "      <td>5</td>\n",
              "      <td>5</td>\n",
              "      <td>1</td>\n",
              "      <td>0</td>\n",
              "      <td>2015</td>\n",
              "      <td>Chebet</td>\n",
              "      <td>Wilson</td>\n",
              "    </tr>\n",
              "  </tbody>\n",
              "</table>\n",
              "</div>"
            ],
            "text/plain": [
              "               Name  Age   M/F  ... Years Ran First Name Last Name\n",
              "0   Kirui, Geoffrey   24  Male  ...       NaN      Kirui  Geoffrey\n",
              "1       Rupp, Galen   30  Male  ...       NaN       Rupp     Galen\n",
              "2     Osako, Suguru   25  Male  ...       NaN      Osako    Suguru\n",
              "3  Biwott, Shadrack   32  Male  ...       NaN     Biwott  Shadrack\n",
              "4    Chebet, Wilson   31  Male  ...      2015     Chebet    Wilson\n",
              "\n",
              "[5 rows x 14 columns]"
            ]
          },
          "metadata": {},
          "execution_count": 132
        }
      ]
    },
    {
      "cell_type": "code",
      "metadata": {
        "id": "MqCXh_x99Zkf"
      },
      "source": [
        "# case-intensitive replacements"
      ],
      "execution_count": null,
      "outputs": []
    },
    {
      "cell_type": "code",
      "metadata": {
        "colab": {
          "base_uri": "https://localhost:8080/"
        },
        "id": "yFXLEGL-95X7",
        "outputId": "07f4c1ab-1926-432f-caa1-ea7b85805cf2"
      },
      "source": [
        "boston['Country'].str.replace('USA','United States')"
      ],
      "execution_count": null,
      "outputs": [
        {
          "output_type": "execute_result",
          "data": {
            "text/plain": [
              "0                KEN\n",
              "1      United States\n",
              "2                JPN\n",
              "3      United States\n",
              "4                KEN\n",
              "           ...      \n",
              "995    United States\n",
              "996    United States\n",
              "997    United States\n",
              "998    United States\n",
              "999    United States\n",
              "Name: Country, Length: 1000, dtype: object"
            ]
          },
          "metadata": {},
          "execution_count": 134
        }
      ]
    },
    {
      "cell_type": "code",
      "metadata": {
        "colab": {
          "base_uri": "https://localhost:8080/"
        },
        "id": "0rMAvYWc-EjE",
        "outputId": "ea82827a-1fc9-45d3-d684-75c86b06372a"
      },
      "source": [
        "boston['Country'].str.replace('USA','United States',case=False)"
      ],
      "execution_count": null,
      "outputs": [
        {
          "output_type": "execute_result",
          "data": {
            "text/plain": [
              "0                KEN\n",
              "1      United States\n",
              "2                JPN\n",
              "3      United States\n",
              "4                KEN\n",
              "           ...      \n",
              "995    United States\n",
              "996    United States\n",
              "997    United States\n",
              "998    United States\n",
              "999    United States\n",
              "Name: Country, Length: 1000, dtype: object"
            ]
          },
          "metadata": {},
          "execution_count": 135
        }
      ]
    },
    {
      "cell_type": "markdown",
      "metadata": {
        "id": "oxx-ugSZbwQL"
      },
      "source": [
        "### Introduction to Regular Expressions"
      ]
    },
    {
      "cell_type": "markdown",
      "metadata": {
        "id": "gbxfgIM7cBkH"
      },
      "source": [
        "Our Regex Playground :\n",
        "https://www.regex101.com\n",
        "\n",
        "character set ---> [ ] \n",
        "\n",
        "capturing group ---> ( )"
      ]
    },
    {
      "cell_type": "markdown",
      "metadata": {
        "id": "GOl-6xQsO2wB"
      },
      "source": [
        "### Is this a valid Email?"
      ]
    },
    {
      "cell_type": "code",
      "metadata": {
        "id": "9SoA7dvt-exZ"
      },
      "source": [
        "# Agenda :\n",
        "# - the re module\n",
        "# - email regex\n",
        "# - pitfalls\n",
        "# - additional resource : https://emailregex.com"
      ],
      "execution_count": null,
      "outputs": []
    },
    {
      "cell_type": "code",
      "metadata": {
        "id": "pDf2qw8s9mqW"
      },
      "source": [
        "import re"
      ],
      "execution_count": null,
      "outputs": []
    },
    {
      "cell_type": "code",
      "metadata": {
        "id": "j26xcuQf9pkr"
      },
      "source": [
        "patterns = r\"\\w*@.*\\w\""
      ],
      "execution_count": null,
      "outputs": []
    },
    {
      "cell_type": "code",
      "metadata": {
        "colab": {
          "base_uri": "https://localhost:8080/"
        },
        "id": "ZXvtyKKxYeWK",
        "outputId": "9e5c35aa-523b-428f-cf00-82abb64daea6"
      },
      "source": [
        "re.findall(patterns,'andy@howtopandas.com')"
      ],
      "execution_count": null,
      "outputs": [
        {
          "output_type": "execute_result",
          "data": {
            "text/plain": [
              "['andy@howtopandas.com']"
            ]
          },
          "metadata": {},
          "execution_count": 139
        }
      ]
    },
    {
      "cell_type": "code",
      "metadata": {
        "colab": {
          "base_uri": "https://localhost:8080/"
        },
        "id": "RGyoR_hcZAxk",
        "outputId": "123788ff-3187-4b50-9451-79e48f834728"
      },
      "source": [
        "re.findall(patterns,'howtopandas.com')"
      ],
      "execution_count": null,
      "outputs": [
        {
          "output_type": "execute_result",
          "data": {
            "text/plain": [
              "[]"
            ]
          },
          "metadata": {},
          "execution_count": 140
        }
      ]
    },
    {
      "cell_type": "code",
      "metadata": {
        "id": "ogXS33NBZDhD"
      },
      "source": [
        "# \"andy@gmail.com\" => \"******@gmail.com\""
      ],
      "execution_count": null,
      "outputs": []
    },
    {
      "cell_type": "code",
      "metadata": {
        "id": "RLN8bFwaZoAv"
      },
      "source": [
        "# - start with an actually valid email\n",
        "# - capture the domain part of the email\n",
        "# - replace everything except the capture group"
      ],
      "execution_count": null,
      "outputs": []
    },
    {
      "cell_type": "code",
      "metadata": {
        "id": "1x-FX_iwZzNU"
      },
      "source": [
        "email = \"andy@howtopandas.com\""
      ],
      "execution_count": null,
      "outputs": []
    },
    {
      "cell_type": "code",
      "metadata": {
        "id": "3ik7cBdIbBR_"
      },
      "source": [
        "pattern = r\"\\w*(@.*\\w)\""
      ],
      "execution_count": null,
      "outputs": []
    },
    {
      "cell_type": "code",
      "metadata": {
        "colab": {
          "base_uri": "https://localhost:8080/",
          "height": 35
        },
        "id": "10OqiFyVbHSk",
        "outputId": "1f7bc638-b8eb-4a63-aa9c-55dc5b4b05c5"
      },
      "source": [
        "re.sub(pattern,r\"******\\1\",email)"
      ],
      "execution_count": null,
      "outputs": [
        {
          "output_type": "execute_result",
          "data": {
            "application/vnd.google.colaboratory.intrinsic+json": {
              "type": "string"
            },
            "text/plain": [
              "'******@howtopandas.com'"
            ]
          },
          "metadata": {},
          "execution_count": 145
        }
      ]
    },
    {
      "cell_type": "code",
      "metadata": {
        "id": "xSPgr3C4bRsK"
      },
      "source": [
        "robust_pattern = re.compile(r\"(^[a-zA-Z0-9_.+-]+@[a-zA-Z0-9-]+\\.[a-zA-Z0-9-.]+$)\")"
      ],
      "execution_count": null,
      "outputs": []
    },
    {
      "cell_type": "code",
      "metadata": {
        "colab": {
          "base_uri": "https://localhost:8080/"
        },
        "id": "a63dbgeldiLp",
        "outputId": "466a1c60-be85-4470-c237-2ad638c8716a"
      },
      "source": [
        "robust_pattern"
      ],
      "execution_count": null,
      "outputs": [
        {
          "output_type": "execute_result",
          "data": {
            "text/plain": [
              "re.compile(r'(^[a-zA-Z0-9_.+-]+@[a-zA-Z0-9-]+\\.[a-zA-Z0-9-.]+$)', re.UNICODE)"
            ]
          },
          "metadata": {},
          "execution_count": 147
        }
      ]
    },
    {
      "cell_type": "code",
      "metadata": {
        "id": "L9786zp_dqG4"
      },
      "source": [
        "email2 = \"andy@andybek@howtopandas.com\""
      ],
      "execution_count": null,
      "outputs": []
    },
    {
      "cell_type": "code",
      "metadata": {
        "colab": {
          "base_uri": "https://localhost:8080/"
        },
        "id": "w9op5ZIMdveu",
        "outputId": "1207ca0d-fa6d-45e9-b394-152218884178"
      },
      "source": [
        "re.findall(patterns,email2)"
      ],
      "execution_count": null,
      "outputs": [
        {
          "output_type": "execute_result",
          "data": {
            "text/plain": [
              "['andy@andybek@howtopandas.com']"
            ]
          },
          "metadata": {},
          "execution_count": 149
        }
      ]
    },
    {
      "cell_type": "code",
      "metadata": {
        "colab": {
          "base_uri": "https://localhost:8080/"
        },
        "id": "9f7W7g4Ud2fS",
        "outputId": "c4ddc8f5-32d3-458e-a9ff-b7e78fa7e7fe"
      },
      "source": [
        "re.findall(robust_pattern,email2)"
      ],
      "execution_count": null,
      "outputs": [
        {
          "output_type": "execute_result",
          "data": {
            "text/plain": [
              "[]"
            ]
          },
          "metadata": {},
          "execution_count": 150
        }
      ]
    },
    {
      "cell_type": "markdown",
      "metadata": {
        "id": "Z5P1NROF2ctA"
      },
      "source": [
        "### Pandas str contains(), split() And replace() With Regex"
      ]
    },
    {
      "cell_type": "code",
      "metadata": {
        "id": "dI1w4u5B8Nrw"
      },
      "source": [
        "# Agenda :\n",
        "# - contains()\n",
        "# - split()\n",
        "# - replace()"
      ],
      "execution_count": null,
      "outputs": []
    },
    {
      "cell_type": "code",
      "metadata": {
        "colab": {
          "base_uri": "https://localhost:8080/",
          "height": 204
        },
        "id": "JECgFhKqd59C",
        "outputId": "c660f6b6-64d8-4361-bb24-6d8ffb0abfa3"
      },
      "source": [
        "boston.head()"
      ],
      "execution_count": null,
      "outputs": [
        {
          "output_type": "execute_result",
          "data": {
            "text/html": [
              "<div>\n",
              "<style scoped>\n",
              "    .dataframe tbody tr th:only-of-type {\n",
              "        vertical-align: middle;\n",
              "    }\n",
              "\n",
              "    .dataframe tbody tr th {\n",
              "        vertical-align: top;\n",
              "    }\n",
              "\n",
              "    .dataframe thead th {\n",
              "        text-align: right;\n",
              "    }\n",
              "</style>\n",
              "<table border=\"1\" class=\"dataframe\">\n",
              "  <thead>\n",
              "    <tr style=\"text-align: right;\">\n",
              "      <th></th>\n",
              "      <th>Name</th>\n",
              "      <th>Age</th>\n",
              "      <th>M/F</th>\n",
              "      <th>City</th>\n",
              "      <th>State</th>\n",
              "      <th>Country</th>\n",
              "      <th>Official Time</th>\n",
              "      <th>Overall</th>\n",
              "      <th>Gender</th>\n",
              "      <th>Ran 2015</th>\n",
              "      <th>Ran 2016</th>\n",
              "      <th>Years Ran</th>\n",
              "      <th>First Name</th>\n",
              "      <th>Last Name</th>\n",
              "    </tr>\n",
              "  </thead>\n",
              "  <tbody>\n",
              "    <tr>\n",
              "      <th>0</th>\n",
              "      <td>Kirui, Geoffrey</td>\n",
              "      <td>24</td>\n",
              "      <td>Male</td>\n",
              "      <td>Keringet</td>\n",
              "      <td>NaN</td>\n",
              "      <td>KEN</td>\n",
              "      <td>2:09:37</td>\n",
              "      <td>1</td>\n",
              "      <td>1</td>\n",
              "      <td>0</td>\n",
              "      <td>0</td>\n",
              "      <td>NaN</td>\n",
              "      <td>Kirui</td>\n",
              "      <td>Geoffrey</td>\n",
              "    </tr>\n",
              "    <tr>\n",
              "      <th>1</th>\n",
              "      <td>Rupp, Galen</td>\n",
              "      <td>30</td>\n",
              "      <td>Male</td>\n",
              "      <td>Portland</td>\n",
              "      <td>OR</td>\n",
              "      <td>USA</td>\n",
              "      <td>2:09:58</td>\n",
              "      <td>2</td>\n",
              "      <td>2</td>\n",
              "      <td>0</td>\n",
              "      <td>0</td>\n",
              "      <td>NaN</td>\n",
              "      <td>Rupp</td>\n",
              "      <td>Galen</td>\n",
              "    </tr>\n",
              "    <tr>\n",
              "      <th>2</th>\n",
              "      <td>Osako, Suguru</td>\n",
              "      <td>25</td>\n",
              "      <td>Male</td>\n",
              "      <td>Machida-City</td>\n",
              "      <td>NaN</td>\n",
              "      <td>JPN</td>\n",
              "      <td>2:10:28</td>\n",
              "      <td>3</td>\n",
              "      <td>3</td>\n",
              "      <td>0</td>\n",
              "      <td>0</td>\n",
              "      <td>NaN</td>\n",
              "      <td>Osako</td>\n",
              "      <td>Suguru</td>\n",
              "    </tr>\n",
              "    <tr>\n",
              "      <th>3</th>\n",
              "      <td>Biwott, Shadrack</td>\n",
              "      <td>32</td>\n",
              "      <td>Male</td>\n",
              "      <td>Mammoth Lakes</td>\n",
              "      <td>CA</td>\n",
              "      <td>USA</td>\n",
              "      <td>2:12:08</td>\n",
              "      <td>4</td>\n",
              "      <td>4</td>\n",
              "      <td>0</td>\n",
              "      <td>0</td>\n",
              "      <td>NaN</td>\n",
              "      <td>Biwott</td>\n",
              "      <td>Shadrack</td>\n",
              "    </tr>\n",
              "    <tr>\n",
              "      <th>4</th>\n",
              "      <td>Chebet, Wilson</td>\n",
              "      <td>31</td>\n",
              "      <td>Male</td>\n",
              "      <td>Marakwet</td>\n",
              "      <td>NaN</td>\n",
              "      <td>KEN</td>\n",
              "      <td>2:12:35</td>\n",
              "      <td>5</td>\n",
              "      <td>5</td>\n",
              "      <td>1</td>\n",
              "      <td>0</td>\n",
              "      <td>2015</td>\n",
              "      <td>Chebet</td>\n",
              "      <td>Wilson</td>\n",
              "    </tr>\n",
              "  </tbody>\n",
              "</table>\n",
              "</div>"
            ],
            "text/plain": [
              "               Name  Age   M/F  ... Years Ran First Name Last Name\n",
              "0   Kirui, Geoffrey   24  Male  ...       NaN      Kirui  Geoffrey\n",
              "1       Rupp, Galen   30  Male  ...       NaN       Rupp     Galen\n",
              "2     Osako, Suguru   25  Male  ...       NaN      Osako    Suguru\n",
              "3  Biwott, Shadrack   32  Male  ...       NaN     Biwott  Shadrack\n",
              "4    Chebet, Wilson   31  Male  ...      2015     Chebet    Wilson\n",
              "\n",
              "[5 rows x 14 columns]"
            ]
          },
          "metadata": {},
          "execution_count": 151
        }
      ]
    },
    {
      "cell_type": "code",
      "metadata": {
        "colab": {
          "base_uri": "https://localhost:8080/"
        },
        "id": "yHko3RZT2_Xg",
        "outputId": "18e32174-deb8-49f7-b694-67ac5b399b25"
      },
      "source": [
        "boston.Name[boston.Name.str.contains('Will')]"
      ],
      "execution_count": null,
      "outputs": [
        {
          "output_type": "execute_result",
          "data": {
            "text/plain": [
              "93            Vanos, William\n",
              "199        Guzick, William F\n",
              "415          Hartje, William\n",
              "429         Adams, William C\n",
              "456              Cunha, Will\n",
              "526            Swenson, Will\n",
              "571    Gates, William E. Jr.\n",
              "711       Swanson, William G\n",
              "814        Williamson, David\n",
              "835             Vargas, Will\n",
              "892             Rivera, Will\n",
              "897      Feldman, William P.\n",
              "936      Decamps, William M.\n",
              "939        Versen, William R\n",
              "996      Williamson, Jerry A\n",
              "Name: Name, dtype: object"
            ]
          },
          "metadata": {},
          "execution_count": 153
        }
      ]
    },
    {
      "cell_type": "code",
      "metadata": {
        "colab": {
          "base_uri": "https://localhost:8080/"
        },
        "id": "McLbLYtq3EyW",
        "outputId": "4c93e8d3-9769-45fe-cd0f-8da99cbb334c"
      },
      "source": [
        "boston.Name[boston.Name.str.contains(r'Will',regex=True)]"
      ],
      "execution_count": null,
      "outputs": [
        {
          "output_type": "execute_result",
          "data": {
            "text/plain": [
              "93            Vanos, William\n",
              "199        Guzick, William F\n",
              "415          Hartje, William\n",
              "429         Adams, William C\n",
              "456              Cunha, Will\n",
              "526            Swenson, Will\n",
              "571    Gates, William E. Jr.\n",
              "711       Swanson, William G\n",
              "814        Williamson, David\n",
              "835             Vargas, Will\n",
              "892             Rivera, Will\n",
              "897      Feldman, William P.\n",
              "936      Decamps, William M.\n",
              "939        Versen, William R\n",
              "996      Williamson, Jerry A\n",
              "Name: Name, dtype: object"
            ]
          },
          "metadata": {},
          "execution_count": 154
        }
      ]
    },
    {
      "cell_type": "code",
      "metadata": {
        "colab": {
          "base_uri": "https://localhost:8080/"
        },
        "id": "IKiBQ8uK3a-9",
        "outputId": "c9aec392-bb6a-4053-b634-f93f21a998ab"
      },
      "source": [
        "# isolate first name 'will'\n",
        "boston.Name[boston.Name.str.contains(r'\\s[wW]ill',regex=True)]"
      ],
      "execution_count": null,
      "outputs": [
        {
          "output_type": "execute_result",
          "data": {
            "text/plain": [
              "93            Vanos, William\n",
              "199        Guzick, William F\n",
              "415          Hartje, William\n",
              "429         Adams, William C\n",
              "456              Cunha, Will\n",
              "526            Swenson, Will\n",
              "571    Gates, William E. Jr.\n",
              "711       Swanson, William G\n",
              "835             Vargas, Will\n",
              "892             Rivera, Will\n",
              "897      Feldman, William P.\n",
              "936      Decamps, William M.\n",
              "939        Versen, William R\n",
              "Name: Name, dtype: object"
            ]
          },
          "metadata": {},
          "execution_count": 155
        }
      ]
    },
    {
      "cell_type": "code",
      "metadata": {
        "colab": {
          "base_uri": "https://localhost:8080/"
        },
        "id": "W0F-xtkx4F9l",
        "outputId": "8bc67051-438f-4f34-9d1b-c7c171758589"
      },
      "source": [
        "boston.Name[boston.Name.str.contains(r',\\s[wW]ill$',regex=True)]"
      ],
      "execution_count": null,
      "outputs": [
        {
          "output_type": "execute_result",
          "data": {
            "text/plain": [
              "456      Cunha, Will\n",
              "526    Swenson, Will\n",
              "892     Rivera, Will\n",
              "Name: Name, dtype: object"
            ]
          },
          "metadata": {},
          "execution_count": 163
        }
      ]
    },
    {
      "cell_type": "code",
      "metadata": {
        "colab": {
          "base_uri": "https://localhost:8080/"
        },
        "id": "CvDVWuWk6npo",
        "outputId": "f5c155a9-ee1f-4b9d-d4ac-338cdc04e777"
      },
      "source": [
        "boston.Name[boston.Name.str.contains(r',\\s[wW]ill\\b',regex=True)]"
      ],
      "execution_count": null,
      "outputs": [
        {
          "output_type": "execute_result",
          "data": {
            "text/plain": [
              "456        Cunha, Will\n",
              "526      Swenson, Will\n",
              "835    Vargas, Will J.\n",
              "892       Rivera, Will\n",
              "Name: Name, dtype: object"
            ]
          },
          "metadata": {},
          "execution_count": 164
        }
      ]
    },
    {
      "cell_type": "code",
      "metadata": {
        "id": "rVZTAAIn699t"
      },
      "source": [
        "boston.iat[835,0] += ' J.'"
      ],
      "execution_count": null,
      "outputs": []
    },
    {
      "cell_type": "code",
      "metadata": {
        "colab": {
          "base_uri": "https://localhost:8080/",
          "height": 35
        },
        "id": "RtWtvLtU7yWG",
        "outputId": "597e3a9d-781b-44ba-d58b-1a72ca35823b"
      },
      "source": [
        "boston.iat[835,0]"
      ],
      "execution_count": null,
      "outputs": [
        {
          "output_type": "execute_result",
          "data": {
            "application/vnd.google.colaboratory.intrinsic+json": {
              "type": "string"
            },
            "text/plain": [
              "'Vargas, Will J.'"
            ]
          },
          "metadata": {},
          "execution_count": 161
        }
      ]
    },
    {
      "cell_type": "code",
      "metadata": {
        "id": "f5dFiUdd79GZ"
      },
      "source": [
        "# split()"
      ],
      "execution_count": null,
      "outputs": []
    },
    {
      "cell_type": "code",
      "metadata": {
        "colab": {
          "base_uri": "https://localhost:8080/",
          "height": 419
        },
        "id": "WFUncK1p8y7k",
        "outputId": "ae446245-07b9-4cfb-cd9a-213155484997"
      },
      "source": [
        "boston.Name.str.split(expand=True)"
      ],
      "execution_count": null,
      "outputs": [
        {
          "output_type": "execute_result",
          "data": {
            "text/html": [
              "<div>\n",
              "<style scoped>\n",
              "    .dataframe tbody tr th:only-of-type {\n",
              "        vertical-align: middle;\n",
              "    }\n",
              "\n",
              "    .dataframe tbody tr th {\n",
              "        vertical-align: top;\n",
              "    }\n",
              "\n",
              "    .dataframe thead th {\n",
              "        text-align: right;\n",
              "    }\n",
              "</style>\n",
              "<table border=\"1\" class=\"dataframe\">\n",
              "  <thead>\n",
              "    <tr style=\"text-align: right;\">\n",
              "      <th></th>\n",
              "      <th>0</th>\n",
              "      <th>1</th>\n",
              "      <th>2</th>\n",
              "      <th>3</th>\n",
              "      <th>4</th>\n",
              "    </tr>\n",
              "  </thead>\n",
              "  <tbody>\n",
              "    <tr>\n",
              "      <th>0</th>\n",
              "      <td>Kirui,</td>\n",
              "      <td>Geoffrey</td>\n",
              "      <td>None</td>\n",
              "      <td>None</td>\n",
              "      <td>None</td>\n",
              "    </tr>\n",
              "    <tr>\n",
              "      <th>1</th>\n",
              "      <td>Rupp,</td>\n",
              "      <td>Galen</td>\n",
              "      <td>None</td>\n",
              "      <td>None</td>\n",
              "      <td>None</td>\n",
              "    </tr>\n",
              "    <tr>\n",
              "      <th>2</th>\n",
              "      <td>Osako,</td>\n",
              "      <td>Suguru</td>\n",
              "      <td>None</td>\n",
              "      <td>None</td>\n",
              "      <td>None</td>\n",
              "    </tr>\n",
              "    <tr>\n",
              "      <th>3</th>\n",
              "      <td>Biwott,</td>\n",
              "      <td>Shadrack</td>\n",
              "      <td>None</td>\n",
              "      <td>None</td>\n",
              "      <td>None</td>\n",
              "    </tr>\n",
              "    <tr>\n",
              "      <th>4</th>\n",
              "      <td>Chebet,</td>\n",
              "      <td>Wilson</td>\n",
              "      <td>None</td>\n",
              "      <td>None</td>\n",
              "      <td>None</td>\n",
              "    </tr>\n",
              "    <tr>\n",
              "      <th>...</th>\n",
              "      <td>...</td>\n",
              "      <td>...</td>\n",
              "      <td>...</td>\n",
              "      <td>...</td>\n",
              "      <td>...</td>\n",
              "    </tr>\n",
              "    <tr>\n",
              "      <th>995</th>\n",
              "      <td>Larosa,</td>\n",
              "      <td>Mark</td>\n",
              "      <td>None</td>\n",
              "      <td>None</td>\n",
              "      <td>None</td>\n",
              "    </tr>\n",
              "    <tr>\n",
              "      <th>996</th>\n",
              "      <td>Williamson,</td>\n",
              "      <td>Jerry</td>\n",
              "      <td>A</td>\n",
              "      <td>None</td>\n",
              "      <td>None</td>\n",
              "    </tr>\n",
              "    <tr>\n",
              "      <th>997</th>\n",
              "      <td>Mccue,</td>\n",
              "      <td>Daniel</td>\n",
              "      <td>T</td>\n",
              "      <td>None</td>\n",
              "      <td>None</td>\n",
              "    </tr>\n",
              "    <tr>\n",
              "      <th>998</th>\n",
              "      <td>Larosa,</td>\n",
              "      <td>John</td>\n",
              "      <td>None</td>\n",
              "      <td>None</td>\n",
              "      <td>None</td>\n",
              "    </tr>\n",
              "    <tr>\n",
              "      <th>999</th>\n",
              "      <td>Sanchez,</td>\n",
              "      <td>Sam</td>\n",
              "      <td>R</td>\n",
              "      <td>None</td>\n",
              "      <td>None</td>\n",
              "    </tr>\n",
              "  </tbody>\n",
              "</table>\n",
              "<p>1000 rows × 5 columns</p>\n",
              "</div>"
            ],
            "text/plain": [
              "               0         1     2     3     4\n",
              "0         Kirui,  Geoffrey  None  None  None\n",
              "1          Rupp,     Galen  None  None  None\n",
              "2         Osako,    Suguru  None  None  None\n",
              "3        Biwott,  Shadrack  None  None  None\n",
              "4        Chebet,    Wilson  None  None  None\n",
              "..           ...       ...   ...   ...   ...\n",
              "995      Larosa,      Mark  None  None  None\n",
              "996  Williamson,     Jerry     A  None  None\n",
              "997       Mccue,    Daniel     T  None  None\n",
              "998      Larosa,      John  None  None  None\n",
              "999     Sanchez,       Sam     R  None  None\n",
              "\n",
              "[1000 rows x 5 columns]"
            ]
          },
          "metadata": {},
          "execution_count": 166
        }
      ]
    },
    {
      "cell_type": "code",
      "metadata": {
        "colab": {
          "base_uri": "https://localhost:8080/",
          "height": 419
        },
        "id": "wo2mrhk084hq",
        "outputId": "7eb6e264-b032-4aa8-d833-ad1b969dbd82"
      },
      "source": [
        "boston.Name.str.split(r\"\\s\",expand=True)"
      ],
      "execution_count": null,
      "outputs": [
        {
          "output_type": "execute_result",
          "data": {
            "text/html": [
              "<div>\n",
              "<style scoped>\n",
              "    .dataframe tbody tr th:only-of-type {\n",
              "        vertical-align: middle;\n",
              "    }\n",
              "\n",
              "    .dataframe tbody tr th {\n",
              "        vertical-align: top;\n",
              "    }\n",
              "\n",
              "    .dataframe thead th {\n",
              "        text-align: right;\n",
              "    }\n",
              "</style>\n",
              "<table border=\"1\" class=\"dataframe\">\n",
              "  <thead>\n",
              "    <tr style=\"text-align: right;\">\n",
              "      <th></th>\n",
              "      <th>0</th>\n",
              "      <th>1</th>\n",
              "      <th>2</th>\n",
              "      <th>3</th>\n",
              "      <th>4</th>\n",
              "    </tr>\n",
              "  </thead>\n",
              "  <tbody>\n",
              "    <tr>\n",
              "      <th>0</th>\n",
              "      <td>Kirui,</td>\n",
              "      <td>Geoffrey</td>\n",
              "      <td>None</td>\n",
              "      <td>None</td>\n",
              "      <td>None</td>\n",
              "    </tr>\n",
              "    <tr>\n",
              "      <th>1</th>\n",
              "      <td>Rupp,</td>\n",
              "      <td>Galen</td>\n",
              "      <td>None</td>\n",
              "      <td>None</td>\n",
              "      <td>None</td>\n",
              "    </tr>\n",
              "    <tr>\n",
              "      <th>2</th>\n",
              "      <td>Osako,</td>\n",
              "      <td>Suguru</td>\n",
              "      <td>None</td>\n",
              "      <td>None</td>\n",
              "      <td>None</td>\n",
              "    </tr>\n",
              "    <tr>\n",
              "      <th>3</th>\n",
              "      <td>Biwott,</td>\n",
              "      <td>Shadrack</td>\n",
              "      <td>None</td>\n",
              "      <td>None</td>\n",
              "      <td>None</td>\n",
              "    </tr>\n",
              "    <tr>\n",
              "      <th>4</th>\n",
              "      <td>Chebet,</td>\n",
              "      <td>Wilson</td>\n",
              "      <td>None</td>\n",
              "      <td>None</td>\n",
              "      <td>None</td>\n",
              "    </tr>\n",
              "    <tr>\n",
              "      <th>...</th>\n",
              "      <td>...</td>\n",
              "      <td>...</td>\n",
              "      <td>...</td>\n",
              "      <td>...</td>\n",
              "      <td>...</td>\n",
              "    </tr>\n",
              "    <tr>\n",
              "      <th>995</th>\n",
              "      <td>Larosa,</td>\n",
              "      <td>Mark</td>\n",
              "      <td>None</td>\n",
              "      <td>None</td>\n",
              "      <td>None</td>\n",
              "    </tr>\n",
              "    <tr>\n",
              "      <th>996</th>\n",
              "      <td>Williamson,</td>\n",
              "      <td>Jerry</td>\n",
              "      <td>A</td>\n",
              "      <td>None</td>\n",
              "      <td>None</td>\n",
              "    </tr>\n",
              "    <tr>\n",
              "      <th>997</th>\n",
              "      <td>Mccue,</td>\n",
              "      <td>Daniel</td>\n",
              "      <td>T</td>\n",
              "      <td>None</td>\n",
              "      <td>None</td>\n",
              "    </tr>\n",
              "    <tr>\n",
              "      <th>998</th>\n",
              "      <td>Larosa,</td>\n",
              "      <td>John</td>\n",
              "      <td>None</td>\n",
              "      <td>None</td>\n",
              "      <td>None</td>\n",
              "    </tr>\n",
              "    <tr>\n",
              "      <th>999</th>\n",
              "      <td>Sanchez,</td>\n",
              "      <td>Sam</td>\n",
              "      <td>R</td>\n",
              "      <td>None</td>\n",
              "      <td>None</td>\n",
              "    </tr>\n",
              "  </tbody>\n",
              "</table>\n",
              "<p>1000 rows × 5 columns</p>\n",
              "</div>"
            ],
            "text/plain": [
              "               0         1     2     3     4\n",
              "0         Kirui,  Geoffrey  None  None  None\n",
              "1          Rupp,     Galen  None  None  None\n",
              "2         Osako,    Suguru  None  None  None\n",
              "3        Biwott,  Shadrack  None  None  None\n",
              "4        Chebet,    Wilson  None  None  None\n",
              "..           ...       ...   ...   ...   ...\n",
              "995      Larosa,      Mark  None  None  None\n",
              "996  Williamson,     Jerry     A  None  None\n",
              "997       Mccue,    Daniel     T  None  None\n",
              "998      Larosa,      John  None  None  None\n",
              "999     Sanchez,       Sam     R  None  None\n",
              "\n",
              "[1000 rows x 5 columns]"
            ]
          },
          "metadata": {},
          "execution_count": 167
        }
      ]
    },
    {
      "cell_type": "code",
      "metadata": {
        "id": "kg0aN_rn9O23"
      },
      "source": [
        "# replace()"
      ],
      "execution_count": null,
      "outputs": []
    },
    {
      "cell_type": "code",
      "metadata": {
        "colab": {
          "base_uri": "https://localhost:8080/"
        },
        "id": "B_eXf8_g9T2o",
        "outputId": "e3e7a0b3-78ed-4046-8008-13a8a12a953e"
      },
      "source": [
        "boston['Official Time'].head()"
      ],
      "execution_count": null,
      "outputs": [
        {
          "output_type": "execute_result",
          "data": {
            "text/plain": [
              "0    2:09:37\n",
              "1    2:09:58\n",
              "2    2:10:28\n",
              "3    2:12:08\n",
              "4    2:12:35\n",
              "Name: Official Time, dtype: object"
            ]
          },
          "metadata": {},
          "execution_count": 169
        }
      ]
    },
    {
      "cell_type": "code",
      "metadata": {
        "id": "nP_CErsr9sjJ"
      },
      "source": [
        "# \"2:09:37\" ==> \"2 hours, 9 minutes, 37 seconds\""
      ],
      "execution_count": null,
      "outputs": []
    },
    {
      "cell_type": "code",
      "metadata": {
        "colab": {
          "base_uri": "https://localhost:8080/"
        },
        "id": "2VBnhmF-92Wu",
        "outputId": "f167030f-99c0-4d72-e279-3f96969b707c"
      },
      "source": [
        "boston['Official Time'].str.replace(r'(\\d+):(\\d+):(\\d+)',r'\\1 hours, \\2 minutes and \\3 seconds.')"
      ],
      "execution_count": null,
      "outputs": [
        {
          "output_type": "execute_result",
          "data": {
            "text/plain": [
              "0      2 hours, 09 minutes and 37 seconds.\n",
              "1      2 hours, 09 minutes and 58 seconds.\n",
              "2      2 hours, 10 minutes and 28 seconds.\n",
              "3      2 hours, 12 minutes and 08 seconds.\n",
              "4      2 hours, 12 minutes and 35 seconds.\n",
              "                      ...                 \n",
              "995    2 hours, 56 minutes and 06 seconds.\n",
              "996    2 hours, 56 minutes and 06 seconds.\n",
              "997    2 hours, 56 minutes and 06 seconds.\n",
              "998    2 hours, 56 minutes and 07 seconds.\n",
              "999    2 hours, 56 minutes and 08 seconds.\n",
              "Name: Official Time, Length: 1000, dtype: object"
            ]
          },
          "metadata": {},
          "execution_count": 171
        }
      ]
    },
    {
      "cell_type": "code",
      "metadata": {
        "id": "ilNlaDAk_EqF"
      },
      "source": [
        "# boston['Offical Time'] = ...."
      ],
      "execution_count": null,
      "outputs": []
    },
    {
      "cell_type": "markdown",
      "metadata": {
        "id": "-sMcQdPBAM2X"
      },
      "source": [
        "## Skill Challenge "
      ]
    },
    {
      "cell_type": "code",
      "metadata": {
        "id": "oqXa_efqAJ2H"
      },
      "source": [
        "# 1."
      ],
      "execution_count": null,
      "outputs": []
    },
    {
      "cell_type": "code",
      "metadata": {
        "id": "7-YbAzZBAQA6"
      },
      "source": [
        "final_times = boston['Official Time'].str.split(':',expand=True)"
      ],
      "execution_count": null,
      "outputs": []
    },
    {
      "cell_type": "code",
      "metadata": {
        "id": "GTfmcuIZAc9P"
      },
      "source": [
        "final_times = final_times.rename(columns={0:'hour',1:'minutes',2:'seconds'})"
      ],
      "execution_count": null,
      "outputs": []
    },
    {
      "cell_type": "code",
      "metadata": {
        "colab": {
          "base_uri": "https://localhost:8080/",
          "height": 204
        },
        "id": "221FeTq0BYaf",
        "outputId": "68517887-7f4c-4238-f8ea-8628431eb656"
      },
      "source": [
        "final_times.head()"
      ],
      "execution_count": null,
      "outputs": [
        {
          "output_type": "execute_result",
          "data": {
            "text/html": [
              "<div>\n",
              "<style scoped>\n",
              "    .dataframe tbody tr th:only-of-type {\n",
              "        vertical-align: middle;\n",
              "    }\n",
              "\n",
              "    .dataframe tbody tr th {\n",
              "        vertical-align: top;\n",
              "    }\n",
              "\n",
              "    .dataframe thead th {\n",
              "        text-align: right;\n",
              "    }\n",
              "</style>\n",
              "<table border=\"1\" class=\"dataframe\">\n",
              "  <thead>\n",
              "    <tr style=\"text-align: right;\">\n",
              "      <th></th>\n",
              "      <th>hour</th>\n",
              "      <th>minutes</th>\n",
              "      <th>seconds</th>\n",
              "    </tr>\n",
              "  </thead>\n",
              "  <tbody>\n",
              "    <tr>\n",
              "      <th>0</th>\n",
              "      <td>2</td>\n",
              "      <td>09</td>\n",
              "      <td>37</td>\n",
              "    </tr>\n",
              "    <tr>\n",
              "      <th>1</th>\n",
              "      <td>2</td>\n",
              "      <td>09</td>\n",
              "      <td>58</td>\n",
              "    </tr>\n",
              "    <tr>\n",
              "      <th>2</th>\n",
              "      <td>2</td>\n",
              "      <td>10</td>\n",
              "      <td>28</td>\n",
              "    </tr>\n",
              "    <tr>\n",
              "      <th>3</th>\n",
              "      <td>2</td>\n",
              "      <td>12</td>\n",
              "      <td>08</td>\n",
              "    </tr>\n",
              "    <tr>\n",
              "      <th>4</th>\n",
              "      <td>2</td>\n",
              "      <td>12</td>\n",
              "      <td>35</td>\n",
              "    </tr>\n",
              "  </tbody>\n",
              "</table>\n",
              "</div>"
            ],
            "text/plain": [
              "  hour minutes seconds\n",
              "0    2      09      37\n",
              "1    2      09      58\n",
              "2    2      10      28\n",
              "3    2      12      08\n",
              "4    2      12      35"
            ]
          },
          "metadata": {},
          "execution_count": 183
        }
      ]
    },
    {
      "cell_type": "code",
      "metadata": {
        "id": "t7aadTcjB2MK"
      },
      "source": [
        "# 2."
      ],
      "execution_count": null,
      "outputs": []
    },
    {
      "cell_type": "code",
      "metadata": {
        "colab": {
          "base_uri": "https://localhost:8080/"
        },
        "id": "3XxeUJc6CrFk",
        "outputId": "0a449b98-b8a3-439a-fac7-72ea2708cc6b"
      },
      "source": [
        "# approach 1\n",
        "final_times.hour.astype(int)*3600 + final_times.minutes.astype(int)*60 + final_times.seconds.astype(int)"
      ],
      "execution_count": null,
      "outputs": [
        {
          "output_type": "execute_result",
          "data": {
            "text/plain": [
              "0       7777\n",
              "1       7798\n",
              "2       7828\n",
              "3       7928\n",
              "4       7955\n",
              "       ...  \n",
              "995    10566\n",
              "996    10566\n",
              "997    10566\n",
              "998    10567\n",
              "999    10568\n",
              "Length: 1000, dtype: int64"
            ]
          },
          "metadata": {},
          "execution_count": 186
        }
      ]
    },
    {
      "cell_type": "code",
      "metadata": {
        "id": "Re5JwMpiDPNb"
      },
      "source": [
        "# approach 2\n",
        "final_times = final_times.astype(int)"
      ],
      "execution_count": null,
      "outputs": []
    },
    {
      "cell_type": "code",
      "metadata": {
        "colab": {
          "base_uri": "https://localhost:8080/"
        },
        "id": "Kt6cfQAPGfxC",
        "outputId": "a89a48c3-42bb-4ef3-b590-603194d29863"
      },
      "source": [
        "final_times.info()"
      ],
      "execution_count": null,
      "outputs": [
        {
          "output_type": "stream",
          "name": "stdout",
          "text": [
            "<class 'pandas.core.frame.DataFrame'>\n",
            "RangeIndex: 1000 entries, 0 to 999\n",
            "Data columns (total 3 columns):\n",
            " #   Column   Non-Null Count  Dtype\n",
            "---  ------   --------------  -----\n",
            " 0   hour     1000 non-null   int64\n",
            " 1   minutes  1000 non-null   int64\n",
            " 2   seconds  1000 non-null   int64\n",
            "dtypes: int64(3)\n",
            "memory usage: 23.6 KB\n"
          ]
        }
      ]
    },
    {
      "cell_type": "code",
      "metadata": {
        "colab": {
          "base_uri": "https://localhost:8080/"
        },
        "id": "hRf4a066HRkg",
        "outputId": "f7498363-4653-41c8-f485-939f129f5277"
      },
      "source": [
        "final_times.apply(lambda t : t.iat[0]*3600)"
      ],
      "execution_count": null,
      "outputs": [
        {
          "output_type": "execute_result",
          "data": {
            "text/plain": [
              "hour         7200\n",
              "minutes     32400\n",
              "seconds    133200\n",
              "dtype: int64"
            ]
          },
          "metadata": {},
          "execution_count": 194
        }
      ]
    },
    {
      "cell_type": "code",
      "metadata": {
        "id": "TTcCwVp-GhY4"
      },
      "source": [
        "final_times['total'] = final_times.apply(lambda t : t.iat[0] * 3600 + t.iat[1]*60 + t.iat[2],axis=1)"
      ],
      "execution_count": null,
      "outputs": []
    },
    {
      "cell_type": "code",
      "metadata": {
        "colab": {
          "base_uri": "https://localhost:8080/",
          "height": 204
        },
        "id": "fT1fqROLGvWE",
        "outputId": "50135954-d053-4acd-81ca-67c3ae88b4da"
      },
      "source": [
        "final_times.head()"
      ],
      "execution_count": null,
      "outputs": [
        {
          "output_type": "execute_result",
          "data": {
            "text/html": [
              "<div>\n",
              "<style scoped>\n",
              "    .dataframe tbody tr th:only-of-type {\n",
              "        vertical-align: middle;\n",
              "    }\n",
              "\n",
              "    .dataframe tbody tr th {\n",
              "        vertical-align: top;\n",
              "    }\n",
              "\n",
              "    .dataframe thead th {\n",
              "        text-align: right;\n",
              "    }\n",
              "</style>\n",
              "<table border=\"1\" class=\"dataframe\">\n",
              "  <thead>\n",
              "    <tr style=\"text-align: right;\">\n",
              "      <th></th>\n",
              "      <th>hour</th>\n",
              "      <th>minutes</th>\n",
              "      <th>seconds</th>\n",
              "      <th>total</th>\n",
              "    </tr>\n",
              "  </thead>\n",
              "  <tbody>\n",
              "    <tr>\n",
              "      <th>0</th>\n",
              "      <td>2</td>\n",
              "      <td>9</td>\n",
              "      <td>37</td>\n",
              "      <td>7777</td>\n",
              "    </tr>\n",
              "    <tr>\n",
              "      <th>1</th>\n",
              "      <td>2</td>\n",
              "      <td>9</td>\n",
              "      <td>58</td>\n",
              "      <td>7798</td>\n",
              "    </tr>\n",
              "    <tr>\n",
              "      <th>2</th>\n",
              "      <td>2</td>\n",
              "      <td>10</td>\n",
              "      <td>28</td>\n",
              "      <td>7828</td>\n",
              "    </tr>\n",
              "    <tr>\n",
              "      <th>3</th>\n",
              "      <td>2</td>\n",
              "      <td>12</td>\n",
              "      <td>8</td>\n",
              "      <td>7928</td>\n",
              "    </tr>\n",
              "    <tr>\n",
              "      <th>4</th>\n",
              "      <td>2</td>\n",
              "      <td>12</td>\n",
              "      <td>35</td>\n",
              "      <td>7955</td>\n",
              "    </tr>\n",
              "  </tbody>\n",
              "</table>\n",
              "</div>"
            ],
            "text/plain": [
              "   hour  minutes  seconds  total\n",
              "0     2        9       37   7777\n",
              "1     2        9       58   7798\n",
              "2     2       10       28   7828\n",
              "3     2       12        8   7928\n",
              "4     2       12       35   7955"
            ]
          },
          "metadata": {},
          "execution_count": 198
        }
      ]
    },
    {
      "cell_type": "code",
      "metadata": {
        "id": "45gceGNAIV3I"
      },
      "source": [
        "# inserting into boston"
      ],
      "execution_count": null,
      "outputs": []
    },
    {
      "cell_type": "code",
      "metadata": {
        "id": "zAbeqsf8IZzr"
      },
      "source": [
        "boston.insert(boston.columns.get_loc('Official Time')+1,'Total Time',final_times.total)"
      ],
      "execution_count": null,
      "outputs": []
    },
    {
      "cell_type": "code",
      "metadata": {
        "colab": {
          "base_uri": "https://localhost:8080/",
          "height": 204
        },
        "id": "8V6vMVfEJJfF",
        "outputId": "2a665927-705d-4d58-d599-7a9bfa060561"
      },
      "source": [
        "boston.head()"
      ],
      "execution_count": null,
      "outputs": [
        {
          "output_type": "execute_result",
          "data": {
            "text/html": [
              "<div>\n",
              "<style scoped>\n",
              "    .dataframe tbody tr th:only-of-type {\n",
              "        vertical-align: middle;\n",
              "    }\n",
              "\n",
              "    .dataframe tbody tr th {\n",
              "        vertical-align: top;\n",
              "    }\n",
              "\n",
              "    .dataframe thead th {\n",
              "        text-align: right;\n",
              "    }\n",
              "</style>\n",
              "<table border=\"1\" class=\"dataframe\">\n",
              "  <thead>\n",
              "    <tr style=\"text-align: right;\">\n",
              "      <th></th>\n",
              "      <th>Name</th>\n",
              "      <th>Age</th>\n",
              "      <th>M/F</th>\n",
              "      <th>City</th>\n",
              "      <th>State</th>\n",
              "      <th>Country</th>\n",
              "      <th>Official Time</th>\n",
              "      <th>Total Time</th>\n",
              "      <th>Overall</th>\n",
              "      <th>Gender</th>\n",
              "      <th>Ran 2015</th>\n",
              "      <th>Ran 2016</th>\n",
              "      <th>Years Ran</th>\n",
              "      <th>First Name</th>\n",
              "      <th>Last Name</th>\n",
              "    </tr>\n",
              "  </thead>\n",
              "  <tbody>\n",
              "    <tr>\n",
              "      <th>0</th>\n",
              "      <td>Kirui, Geoffrey</td>\n",
              "      <td>24</td>\n",
              "      <td>Male</td>\n",
              "      <td>Keringet</td>\n",
              "      <td>NaN</td>\n",
              "      <td>KEN</td>\n",
              "      <td>2:09:37</td>\n",
              "      <td>7777</td>\n",
              "      <td>1</td>\n",
              "      <td>1</td>\n",
              "      <td>0</td>\n",
              "      <td>0</td>\n",
              "      <td>NaN</td>\n",
              "      <td>Kirui</td>\n",
              "      <td>Geoffrey</td>\n",
              "    </tr>\n",
              "    <tr>\n",
              "      <th>1</th>\n",
              "      <td>Rupp, Galen</td>\n",
              "      <td>30</td>\n",
              "      <td>Male</td>\n",
              "      <td>Portland</td>\n",
              "      <td>OR</td>\n",
              "      <td>USA</td>\n",
              "      <td>2:09:58</td>\n",
              "      <td>7798</td>\n",
              "      <td>2</td>\n",
              "      <td>2</td>\n",
              "      <td>0</td>\n",
              "      <td>0</td>\n",
              "      <td>NaN</td>\n",
              "      <td>Rupp</td>\n",
              "      <td>Galen</td>\n",
              "    </tr>\n",
              "    <tr>\n",
              "      <th>2</th>\n",
              "      <td>Osako, Suguru</td>\n",
              "      <td>25</td>\n",
              "      <td>Male</td>\n",
              "      <td>Machida-City</td>\n",
              "      <td>NaN</td>\n",
              "      <td>JPN</td>\n",
              "      <td>2:10:28</td>\n",
              "      <td>7828</td>\n",
              "      <td>3</td>\n",
              "      <td>3</td>\n",
              "      <td>0</td>\n",
              "      <td>0</td>\n",
              "      <td>NaN</td>\n",
              "      <td>Osako</td>\n",
              "      <td>Suguru</td>\n",
              "    </tr>\n",
              "    <tr>\n",
              "      <th>3</th>\n",
              "      <td>Biwott, Shadrack</td>\n",
              "      <td>32</td>\n",
              "      <td>Male</td>\n",
              "      <td>Mammoth Lakes</td>\n",
              "      <td>CA</td>\n",
              "      <td>USA</td>\n",
              "      <td>2:12:08</td>\n",
              "      <td>7928</td>\n",
              "      <td>4</td>\n",
              "      <td>4</td>\n",
              "      <td>0</td>\n",
              "      <td>0</td>\n",
              "      <td>NaN</td>\n",
              "      <td>Biwott</td>\n",
              "      <td>Shadrack</td>\n",
              "    </tr>\n",
              "    <tr>\n",
              "      <th>4</th>\n",
              "      <td>Chebet, Wilson</td>\n",
              "      <td>31</td>\n",
              "      <td>Male</td>\n",
              "      <td>Marakwet</td>\n",
              "      <td>NaN</td>\n",
              "      <td>KEN</td>\n",
              "      <td>2:12:35</td>\n",
              "      <td>7955</td>\n",
              "      <td>5</td>\n",
              "      <td>5</td>\n",
              "      <td>1</td>\n",
              "      <td>0</td>\n",
              "      <td>2015</td>\n",
              "      <td>Chebet</td>\n",
              "      <td>Wilson</td>\n",
              "    </tr>\n",
              "  </tbody>\n",
              "</table>\n",
              "</div>"
            ],
            "text/plain": [
              "               Name  Age   M/F  ... Years Ran First Name Last Name\n",
              "0   Kirui, Geoffrey   24  Male  ...       NaN      Kirui  Geoffrey\n",
              "1       Rupp, Galen   30  Male  ...       NaN       Rupp     Galen\n",
              "2     Osako, Suguru   25  Male  ...       NaN      Osako    Suguru\n",
              "3  Biwott, Shadrack   32  Male  ...       NaN     Biwott  Shadrack\n",
              "4    Chebet, Wilson   31  Male  ...      2015     Chebet    Wilson\n",
              "\n",
              "[5 rows x 15 columns]"
            ]
          },
          "metadata": {},
          "execution_count": 202
        }
      ]
    },
    {
      "cell_type": "code",
      "metadata": {
        "id": "3fMIu_GIJKqf"
      },
      "source": [
        "# 3.\n",
        "# Hypothesis : If you ran many marathons, you're probably good at this (faster)"
      ],
      "execution_count": null,
      "outputs": []
    },
    {
      "cell_type": "code",
      "metadata": {
        "id": "oEjIw3hvJ5AY"
      },
      "source": [
        "ran_2016 = boston['Ran 2016'] == 1"
      ],
      "execution_count": null,
      "outputs": []
    },
    {
      "cell_type": "code",
      "metadata": {
        "colab": {
          "base_uri": "https://localhost:8080/"
        },
        "id": "-r6AjmOQKNzM",
        "outputId": "16ddfd2f-ce2c-4e41-fad4-0235f7a4554f"
      },
      "source": [
        "ran_2016"
      ],
      "execution_count": null,
      "outputs": [
        {
          "output_type": "execute_result",
          "data": {
            "text/plain": [
              "0      False\n",
              "1      False\n",
              "2      False\n",
              "3      False\n",
              "4      False\n",
              "       ...  \n",
              "995     True\n",
              "996    False\n",
              "997    False\n",
              "998    False\n",
              "999    False\n",
              "Name: Ran 2016, Length: 1000, dtype: bool"
            ]
          },
          "metadata": {},
          "execution_count": 205
        }
      ]
    },
    {
      "cell_type": "code",
      "metadata": {
        "colab": {
          "base_uri": "https://localhost:8080/"
        },
        "id": "E7CLy1nHKPDW",
        "outputId": "b0f00062-6c8f-4b3a-c4d2-c7d760a19d13"
      },
      "source": [
        "boston.loc[ran_2016,'Total Time'].mean()"
      ],
      "execution_count": null,
      "outputs": [
        {
          "output_type": "execute_result",
          "data": {
            "text/plain": [
              "10043.12048192771"
            ]
          },
          "metadata": {},
          "execution_count": 207
        }
      ]
    },
    {
      "cell_type": "code",
      "metadata": {
        "colab": {
          "base_uri": "https://localhost:8080/"
        },
        "id": "lqru_pkoKTTn",
        "outputId": "a336dee4-a009-43a9-b54b-32611b0f724a"
      },
      "source": [
        "boston.loc[~ran_2016,'Total Time'].mean()"
      ],
      "execution_count": null,
      "outputs": [
        {
          "output_type": "execute_result",
          "data": {
            "text/plain": [
              "9966.195739014647"
            ]
          },
          "metadata": {},
          "execution_count": 208
        }
      ]
    },
    {
      "cell_type": "code",
      "metadata": {
        "id": "adgPa4FMKvuX"
      },
      "source": [
        ""
      ],
      "execution_count": null,
      "outputs": []
    }
  ]
}